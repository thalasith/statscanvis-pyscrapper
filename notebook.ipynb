{
 "cells": [
  {
   "cell_type": "code",
   "execution_count": 19,
   "metadata": {},
   "outputs": [],
   "source": [
    "import pandas as pd\n",
    "import requests\n",
    "import re\n",
    "import json\n",
    "from bs4 import BeautifulSoup"
   ]
  },
  {
   "cell_type": "code",
   "execution_count": 20,
   "metadata": {},
   "outputs": [],
   "source": [
    "url = 'https://www150.statcan.gc.ca/t1/tbl1/en/tv.action?pid=1410020101&pickMembers%5B0%5D=1.3&pickMembers%5B1%5D=2.1&cubeTimeFrame.startMonth=06&cubeTimeFrame.startYear=2022&cubeTimeFrame.endMonth=10&cubeTimeFrame.endYear=2022&referencePeriods=20220601%2C20221001'\n",
    "page = requests.get(url)\n",
    "soup = BeautifulSoup(page.content, 'html.parser')"
   ]
  },
  {
   "cell_type": "code",
   "execution_count": 64,
   "metadata": {},
   "outputs": [
    {
     "name": "stdout",
     "output_type": "stream",
     "text": [
      "2022-12-22\n"
     ]
    }
   ],
   "source": [
    "date = soup.find_all('meta', attrs={'name': 'dcterms.issued'})[0]['content']\n"
   ]
  },
  {
   "cell_type": "code",
   "execution_count": 21,
   "metadata": {},
   "outputs": [],
   "source": [
    "def find_between( s, first, last ):\n",
    "    try:\n",
    "        start = s.index( first ) + len( first )\n",
    "        end = s.index( last, start )\n",
    "        return s[start:end]\n",
    "    except ValueError:\n",
    "        return \"\""
   ]
  },
  {
   "cell_type": "code",
   "execution_count": 22,
   "metadata": {},
   "outputs": [],
   "source": [
    "result = find_between(soup.prettify(), 'tableContainerElement = $(\".tableContainer\").clone();', 'window.addEventListener(\"resize\", function() {') + 'end'\n",
    "data = find_between(result, 'prepareTable(', '\\n')[:-2]\n",
    "json_data = json.loads(data)"
   ]
  },
  {
   "cell_type": "code",
   "execution_count": 23,
   "metadata": {},
   "outputs": [],
   "source": [
    "rows = json_data['rows']\n",
    "\n",
    "new_rows = []\n",
    "for row in rows:\n",
    "    values = row['values']\n",
    "    for value in values:\n",
    "        new_rows.append(value[\"value\"])\n"
   ]
  },
  {
   "cell_type": "code",
   "execution_count": 43,
   "metadata": {},
   "outputs": [],
   "source": [
    "category = next(item for item in json_data['headers'][\"columnHeaders\"] if item[\"name\"] == \"Geography\")\n",
    "category_selected = category[\"values\"][0][\"value\"]\n"
   ]
  },
  {
   "cell_type": "code",
   "execution_count": 24,
   "metadata": {},
   "outputs": [],
   "source": [
    "headers = next(item for item in json_data['headers'][\"columnHeaders\"] if item[\"name\"] == \"Reference period\")\n",
    "header_values = []\n",
    "for item in headers[\"values\"]:\n",
    "        header_values.append(item[\"value\"])"
   ]
  },
  {
   "cell_type": "code",
   "execution_count": 25,
   "metadata": {},
   "outputs": [],
   "source": [
    "def isfloat(num):\n",
    "    try:\n",
    "        float(num)\n",
    "        return True\n",
    "    except ValueError:\n",
    "        return False"
   ]
  },
  {
   "cell_type": "code",
   "execution_count": 26,
   "metadata": {},
   "outputs": [
    {
     "name": "stdout",
     "output_type": "stream",
     "text": [
      "{'Industrial aggregate including unclassified businesses': [80279.0, 78991.0, 77562.0, 79018.0, 76721.0], 'Industrial aggregate excluding unclassified businesses': [78655.0, 77352.0, 75944.0, 77479.0, 75288.0], 'Goods producing industries': [11857.0, 12097.0, 12410.0, 11951.0, 11786.0], 'Forestry, logging and support': [0.0, 0.0, 0.0, 0.0, 0.0], 'Mining, quarrying, and oil and gas extraction': [0.0, 0.0, 0.0, 0.0, 0.0], 'Utilities': [0.0, 0.0, 0.0, 0.0, 0.0], 'Construction': [4801.0, 5103.0, 5354.0, 5081.0, 5025.0], 'Manufacturing': [6523.0, 6449.0, 6517.0, 6320.0, 6268.0], 'Service producing industries': [66798.0, 65255.0, 63533.0, 65528.0, 63502.0], 'Trade': [14198.0, 13665.0, 12919.0, 12818.0, 12417.0], 'Transportation and warehousing': [3031.0, 3088.0, 3186.0, 3119.0, 3100.0], 'Information and cultural industries': [0.0, 0.0, 0.0, 0.0, 0.0], 'Finance and insurance': [1934.0, 1919.0, 1928.0, 1914.0, 1964.0], 'Real estate and rental and leasing': [913.0, 949.0, 953.0, 915.0, 925.0], 'Professional, scientific and technical services': [2769.0, 2751.0, 2824.0, 2784.0, 2700.0], 'Management of companies and enterprises': [333.0, 372.0, 252.0, 246.0, 206.0], 'Administrative and support, waste management and remediation services': [4926.0, 4858.0, 4744.0, 4655.0, 4412.0], 'Educational services': [6402.0, 3896.0, 2573.0, 5739.0, 6581.0], 'Health care and social assistance': [9800.0, 9977.0, 10026.0, 9948.0, 9747.0], 'Arts, entertainment and recreation': [1372.0, 1611.0, 1643.0, 1507.0, 1352.0], 'Accommodation and food services': [7942.0, 8638.0, 8901.0, 8573.0, 7053.0], 'Other services (except public administration)': [2298.0, 2436.0, 2439.0, 2324.0, 2201.0], 'Public administration': [10075.0, 10262.0, 10331.0, 10191.0, 10068.0], 'Unclassified businesses': [1625.0, 1640.0, 1618.0, 1539.0, 1433.0]}\n"
     ]
    }
   ],
   "source": [
    "rows_values = {}\n",
    "key = \"\"\n",
    "data = []\n",
    "index = 0\n",
    "for row in new_rows:\n",
    "    temp_data = {}\n",
    "    if not isfloat(row):\n",
    "        key = row\n",
    "        rows_values[key] = []\n",
    "        data = []\n",
    "        index = 0\n",
    "    if isfloat(row):\n",
    "        data.append(float(row))\n",
    "        rows_values[key] = data\n",
    "        index += 1\n",
    "print(rows_values)\n"
   ]
  },
  {
   "cell_type": "code",
   "execution_count": 34,
   "metadata": {},
   "outputs": [],
   "source": [
    "test_data = []\n",
    "keys = []\n",
    "for key, value in rows_values.items():\n",
    "    index=0\n",
    "    temp_data = {}\n",
    "    temp_data[\"key\"] = key\n",
    "    key = key.replace(\" \", \"_\").replace(\",\",\"\").replace(\"(\",\"\").replace(\")\",\"\").replace(\"-\",\"_\").replace(\"__\",\"_\").lower()\n",
    "    keys.append(key)\n",
    "    for i in value:\n",
    "        temp_data[header_values[index]] = i\n",
    "        index += 1\n",
    "    test_data.append(temp_data)"
   ]
  },
  {
   "cell_type": "code",
   "execution_count": 65,
   "metadata": {},
   "outputs": [],
   "source": [
    "df = pd.DataFrame(test_data).transpose().drop(\"key\")\n",
    "df.columns = keys\n",
    "df[\"category\"] = category_selected\n",
    "df[\"date\"] = soup.find_all('meta', attrs={'name': 'dcterms.issued'})[0]['content']\n"
   ]
  },
  {
   "cell_type": "code",
   "execution_count": null,
   "metadata": {},
   "outputs": [],
   "source": []
  }
 ],
 "metadata": {
  "kernelspec": {
   "display_name": "base",
   "language": "python",
   "name": "python3"
  },
  "language_info": {
   "codemirror_mode": {
    "name": "ipython",
    "version": 3
   },
   "file_extension": ".py",
   "mimetype": "text/x-python",
   "name": "python",
   "nbconvert_exporter": "python",
   "pygments_lexer": "ipython3",
   "version": "3.9.12"
  },
  "orig_nbformat": 4,
  "vscode": {
   "interpreter": {
    "hash": "8d057af1a5c49b4bed786b95378487de8898a19ac88ffccdd8bd5a4534c5371a"
   }
  }
 },
 "nbformat": 4,
 "nbformat_minor": 2
}
