{
 "cells": [
  {
   "cell_type": "code",
   "execution_count": 1,
   "metadata": {},
   "outputs": [],
   "source": [
    "import pandas as pd\n",
    "import requests\n",
    "import re\n",
    "import json\n",
    "from bs4 import BeautifulSoup"
   ]
  },
  {
   "cell_type": "code",
   "execution_count": 2,
   "metadata": {},
   "outputs": [],
   "source": [
    "url = 'https://www150.statcan.gc.ca/t1/tbl1/en/tv.action?pid=1710000901'\n",
    "# https://www150.statcan.gc.ca/t1/tbl1/en/tv.action?pid=1710000901\n",
    "# 'https://www150.statcan.gc.ca/t1/tbl1/en/tv.action?pid=1410020101'\n",
    "# https://www150.statcan.gc.ca/t1/tbl1/en/tv.action?pid=1410037101\n",
    "page = requests.get(url)\n",
    "soup = BeautifulSoup(page.content, 'html.parser')"
   ]
  },
  {
   "cell_type": "code",
   "execution_count": 3,
   "metadata": {},
   "outputs": [],
   "source": [
    "def find_between( s, first, last ):\n",
    "    try:\n",
    "        start = s.index( first ) + len( first )\n",
    "        end = s.index( last, start )\n",
    "        return s[start:end]\n",
    "    except ValueError:\n",
    "        return \"\""
   ]
  },
  {
   "cell_type": "code",
   "execution_count": 4,
   "metadata": {},
   "outputs": [],
   "source": [
    "result = find_between(soup.prettify(), 'tableContainerElement = $(\".tableContainer\").clone();', 'window.addEventListener(\"resize\", function() {') + 'end'\n",
    "data = find_between(result, 'prepareTable(', '\\n')[:-2]"
   ]
  },
  {
   "cell_type": "code",
   "execution_count": 5,
   "metadata": {},
   "outputs": [],
   "source": [
    "json_data = json.loads(data)"
   ]
  },
  {
   "cell_type": "code",
   "execution_count": 6,
   "metadata": {},
   "outputs": [],
   "source": [
    "rows = json_data['rows']\n",
    "new_rows = []\n",
    "for row in rows:\n",
    "    values = row['values']\n",
    "    for value in values:\n",
    "        new_rows.append(value[\"value\"])"
   ]
  },
  {
   "cell_type": "code",
   "execution_count": 7,
   "metadata": {},
   "outputs": [
    {
     "name": "stdout",
     "output_type": "stream",
     "text": [
      "['June 2022', 'July 2022', 'August 2022', 'September 2022', 'October 2022']\n"
     ]
    }
   ],
   "source": [
    "headers = json_data['headers'][\"columnHeaders\"]\n",
    "header_values = []\n",
    "for header in headers:\n",
    "    if header[\"name\"] == \"Reference period\":\n",
    "        for item in header[\"values\"]:\n",
    "            header_values.append(item[\"value\"])\n",
    "print(header_values)\n"
   ]
  },
  {
   "cell_type": "code",
   "execution_count": 8,
   "metadata": {},
   "outputs": [],
   "source": [
    "def isfloat(num):\n",
    "    try:\n",
    "        float(num)\n",
    "        return True\n",
    "    except ValueError:\n",
    "        return False"
   ]
  },
  {
   "cell_type": "code",
   "execution_count": 9,
   "metadata": {},
   "outputs": [],
   "source": [
    "rows_values = {}\n",
    "key = \"\"\n",
    "data = []\n",
    "index = 0\n",
    "for row in new_rows:\n",
    "    temp_data = {}\n",
    "    if not isfloat(row):\n",
    "        key = row\n",
    "        rows_values[key] = []\n",
    "        data = []\n",
    "        index = 0\n",
    "    if isfloat(row):\n",
    "        data.append(float(row))\n",
    "        rows_values[key] = data\n",
    "        index += 1\n"
   ]
  },
  {
   "cell_type": "code",
   "execution_count": 10,
   "metadata": {},
   "outputs": [],
   "source": [
    "test_data = []\n",
    "for key, value in rows_values.items():\n",
    "    index=0\n",
    "    temp_data = {}\n",
    "    temp_data[\"key\"] = key\n",
    "    for i in value:\n",
    "        temp_data[header_values[index]] = i\n",
    "        index += 1\n",
    "    test_data.append(temp_data)"
   ]
  },
  {
   "cell_type": "code",
   "execution_count": 12,
   "metadata": {},
   "outputs": [],
   "source": [
    "df = pd.DataFrame(test_data)"
   ]
  },
  {
   "cell_type": "code",
   "execution_count": 13,
   "metadata": {},
   "outputs": [
    {
     "name": "stdout",
     "output_type": "stream",
     "text": [
      "                                                 key   June 2022   July 2022  \\\n",
      "0  Industrial aggregate including unclassified bu...  17896465.0  17667499.0   \n",
      "1  Industrial aggregate excluding unclassified bu...  17527724.0  17309064.0   \n",
      "2                         Goods producing industries   3142349.0   3158518.0   \n",
      "3                      Forestry, logging and support     41935.0     43924.0   \n",
      "4      Mining, quarrying, and oil and gas extraction    210019.0    212484.0   \n",
      "\n",
      "   August 2022  September 2022  October 2022  \n",
      "0   17423222.0      17891150.0    17890055.0  \n",
      "1   17067748.0      17532721.0    17542835.0  \n",
      "2    3140232.0       3165074.0     3129926.0  \n",
      "3      42685.0         40752.0       39170.0  \n",
      "4     211469.0        212403.0      210817.0  \n"
     ]
    }
   ],
   "source": [
    "print(df.head())"
   ]
  },
  {
   "cell_type": "code",
   "execution_count": null,
   "metadata": {},
   "outputs": [],
   "source": []
  }
 ],
 "metadata": {
  "kernelspec": {
   "display_name": "base",
   "language": "python",
   "name": "python3"
  },
  "language_info": {
   "codemirror_mode": {
    "name": "ipython",
    "version": 3
   },
   "file_extension": ".py",
   "mimetype": "text/x-python",
   "name": "python",
   "nbconvert_exporter": "python",
   "pygments_lexer": "ipython3",
   "version": "3.9.12"
  },
  "orig_nbformat": 4,
  "vscode": {
   "interpreter": {
    "hash": "8d057af1a5c49b4bed786b95378487de8898a19ac88ffccdd8bd5a4534c5371a"
   }
  }
 },
 "nbformat": 4,
 "nbformat_minor": 2
}
