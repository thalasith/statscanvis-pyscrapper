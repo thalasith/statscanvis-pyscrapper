{
 "cells": [
  {
   "cell_type": "code",
   "execution_count": 1,
   "metadata": {},
   "outputs": [],
   "source": [
    "from datetime import date\n",
    "try:\n",
    "    from . import scrapper\n",
    "except:\n",
    "    import scrapper\n"
   ]
  },
  {
   "cell_type": "code",
   "execution_count": 2,
   "metadata": {},
   "outputs": [
    {
     "name": "stdout",
     "output_type": "stream",
     "text": [
      "2023 1\n"
     ]
    }
   ],
   "source": [
    "year = date.today().year\n",
    "month = date.today().month\n",
    "print(year, month)"
   ]
  },
  {
   "cell_type": "code",
   "execution_count": 3,
   "metadata": {},
   "outputs": [],
   "source": [
    "list_pick_members1 = [\"1.1\", \"1.2\", \"1.3\", \"1.4\", \"1.5\", \"1.6\", \"1.7\", \"1.8\", \"1.9\", \"1.10\", \"1.11\", \"1.12\", \"1.14\", \"1.15\"]\n",
    "list_pick_members1_name = [\"Canada\", \"Newfoundland and Labrador\", \"Prince Edward Island\", \"Nova Scotia\", \"New Brunswick\", \"Quebec\", \"Ontario\", \"Manitoba\", \"Saskatchewan\", \"Alberta\", \"British Columbia\", \"Yukon\", \"Northwest Territories\", \"Nunavut\"]\n",
    "\n",
    "list_pick_members2 = [\"2.2\", \"2.3\"]\n",
    "list_pick_members2_name = [\"Salaried employees paid a fixed salary\", \"Employees paid by the hour\"]\n",
    "\n",
    "\n",
    "joined_pi = zip(list_pick_members1, list_pick_members1_name)\n",
    "joined_pi2 = zip(list_pick_members2, list_pick_members2_name)\n",
    "\n",
    "pid=str(1410020101)\n",
    "pickMembers1=str(1.3)\n",
    "pickMembers2=str(2.1)\n",
    "startMonth=\"01\"\n",
    "startYear=str(2022)\n",
    "endMonth=str(12)\n",
    "endYear=str(2022)\n",
    "referencePeriods=\"20220101%2C20221001\"\n",
    "\n",
    "filter_names = [\"Geography\", \"Type of Employee\"]\n",
    "\n",
    "url = 'https://www150.statcan.gc.ca/t1/tbl1/en/tv.action?pid=' + pid + '&pickMembers%5B0%5D='+ pickMembers1 + '&pickMembers%5B1%5D='+ pickMembers2 + '&cubeTimeFrame.startMonth='+ startMonth + '&cubeTimeFrame.startYear=' + startYear + '&cubeTimeFrame.endMonth=10&cubeTimeFrame.endYear=2022&referencePeriods=' + referencePeriods\n"
   ]
  },
  {
   "cell_type": "code",
   "execution_count": 8,
   "metadata": {},
   "outputs": [],
   "source": []
  },
  {
   "cell_type": "code",
   "execution_count": 9,
   "metadata": {},
   "outputs": [
    {
     "name": "stdout",
     "output_type": "stream",
     "text": [
      "{'canada_salaried_employees_paid_a_fixed_salary': '{\"January 2022\":{\"industrial_aggregate_including_unclassified_businesses\":0.0,\"industrial_aggregate_excluding_unclassified_businesses\":6172688.0,\"goods_producing_industries\":771996.0,\"forestry_logging_and_support\":6101.0,\"mining_quarrying_and_oil_and_gas_extraction\":111448.0,\"utilities\":0.0,\"construction\":188782.0,\"manufacturing\":409149.0,\"service_producing_industries\":5400691.0,\"trade\":659266.0,\"transportation_and_warehousing\":265522.0,\"information_and_cultural_industries\":209652.0,\"finance_and_insurance\":596187.0,\"real_estate_and_rental_and_leasing\":113351.0,\"professional_scientific_and_technical_services\":657745.0,\"management_of_companies_and_enterprises\":0.0,\"administrative_and_support_waste_management_and_remediation_services\":212700.0,\"educational_services\":1236763.0,\"health_care_and_social_assistance\":261077.0,\"arts_entertainment_and_recreation\":69079.0,\"accommodation_and_food_services\":93938.0,\"other_services_except_public_administration\":157240.0,\"public_administration\":805574.0,\"unclassified_businesses\":0.0,\"date\":\"2022-12-22\",\"category\":\"Canada\"},\"February 2022\":{\"industrial_aggregate_including_unclassified_businesses\":0.0,\"industrial_aggregate_excluding_unclassified_businesses\":6317604.0,\"goods_producing_industries\":801693.0,\"forestry_logging_and_support\":6256.0,\"mining_quarrying_and_oil_and_gas_extraction\":106810.0,\"utilities\":0.0,\"construction\":184234.0,\"manufacturing\":431048.0,\"service_producing_industries\":5515910.0,\"trade\":687865.0,\"transportation_and_warehousing\":261379.0,\"information_and_cultural_industries\":216667.0,\"finance_and_insurance\":593975.0,\"real_estate_and_rental_and_leasing\":111150.0,\"professional_scientific_and_technical_services\":703527.0,\"management_of_companies_and_enterprises\":0.0,\"administrative_and_support_waste_management_and_remediation_services\":198963.0,\"educational_services\":1282334.0,\"health_care_and_social_assistance\":261061.0,\"arts_entertainment_and_recreation\":69022.0,\"accommodation_and_food_services\":85007.0,\"other_services_except_public_administration\":170856.0,\"public_administration\":813069.0,\"unclassified_businesses\":0.0,\"date\":\"2022-12-22\",\"category\":\"Canada\"},\"March 2022\":{\"industrial_aggregate_including_unclassified_businesses\":0.0,\"industrial_aggregate_excluding_unclassified_businesses\":6328072.0,\"goods_producing_industries\":798560.0,\"forestry_logging_and_support\":0.0,\"mining_quarrying_and_oil_and_gas_extraction\":100622.0,\"utilities\":69875.0,\"construction\":175456.0,\"manufacturing\":447276.0,\"service_producing_industries\":5529512.0,\"trade\":681738.0,\"transportation_and_warehousing\":257641.0,\"information_and_cultural_industries\":187466.0,\"finance_and_insurance\":620698.0,\"real_estate_and_rental_and_leasing\":121061.0,\"professional_scientific_and_technical_services\":718559.0,\"management_of_companies_and_enterprises\":0.0,\"administrative_and_support_waste_management_and_remediation_services\":207768.0,\"educational_services\":1310470.0,\"health_care_and_social_assistance\":240752.0,\"arts_entertainment_and_recreation\":70282.0,\"accommodation_and_food_services\":87241.0,\"other_services_except_public_administration\":164593.0,\"public_administration\":811767.0,\"unclassified_businesses\":0.0,\"date\":\"2022-12-22\",\"category\":\"Canada\"},\"April 2022\":{\"industrial_aggregate_including_unclassified_businesses\":0.0,\"industrial_aggregate_excluding_unclassified_businesses\":6310063.0,\"goods_producing_industries\":801936.0,\"forestry_logging_and_support\":4832.0,\"mining_quarrying_and_oil_and_gas_extraction\":106509.0,\"utilities\":62633.0,\"construction\":180683.0,\"manufacturing\":447278.0,\"service_producing_industries\":5508127.0,\"trade\":651925.0,\"transportation_and_warehousing\":262869.0,\"information_and_cultural_industries\":196082.0,\"finance_and_insurance\":646048.0,\"real_estate_and_rental_and_leasing\":114054.0,\"professional_scientific_and_technical_services\":719856.0,\"management_of_companies_and_enterprises\":0.0,\"administrative_and_support_waste_management_and_remediation_services\":207678.0,\"educational_services\":1311815.0,\"health_care_and_social_assistance\":234016.0,\"arts_entertainment_and_recreation\":74434.0,\"accommodation_and_food_services\":83160.0,\"other_services_except_public_administration\":166285.0,\"public_administration\":790358.0,\"unclassified_businesses\":0.0,\"date\":\"2022-12-22\",\"category\":\"Canada\"},\"May 2022\":{\"industrial_aggregate_including_unclassified_businesses\":0.0,\"industrial_aggregate_excluding_unclassified_businesses\":6209722.0,\"goods_producing_industries\":764178.0,\"forestry_logging_and_support\":3813.0,\"mining_quarrying_and_oil_and_gas_extraction\":98099.0,\"utilities\":75268.0,\"construction\":172453.0,\"manufacturing\":414545.0,\"service_producing_industries\":5445544.0,\"trade\":649844.0,\"transportation_and_warehousing\":269448.0,\"information_and_cultural_industries\":207072.0,\"finance_and_insurance\":583319.0,\"real_estate_and_rental_and_leasing\":125397.0,\"professional_scientific_and_technical_services\":712940.0,\"management_of_companies_and_enterprises\":0.0,\"administrative_and_support_waste_management_and_remediation_services\":199087.0,\"educational_services\":1246087.0,\"health_care_and_social_assistance\":267412.0,\"arts_entertainment_and_recreation\":75928.0,\"accommodation_and_food_services\":78083.0,\"other_services_except_public_administration\":151475.0,\"public_administration\":814425.0,\"unclassified_businesses\":0.0,\"date\":\"2022-12-22\",\"category\":\"Canada\"},\"June 2022\":{\"industrial_aggregate_including_unclassified_businesses\":0.0,\"industrial_aggregate_excluding_unclassified_businesses\":6175067.0,\"goods_producing_industries\":774333.0,\"forestry_logging_and_support\":3077.0,\"mining_quarrying_and_oil_and_gas_extraction\":114466.0,\"utilities\":75956.0,\"construction\":187400.0,\"manufacturing\":393434.0,\"service_producing_industries\":5400734.0,\"trade\":616793.0,\"transportation_and_warehousing\":251853.0,\"information_and_cultural_industries\":184193.0,\"finance_and_insurance\":597083.0,\"real_estate_and_rental_and_leasing\":123091.0,\"professional_scientific_and_technical_services\":715923.0,\"management_of_companies_and_enterprises\":0.0,\"administrative_and_support_waste_management_and_remediation_services\":222199.0,\"educational_services\":1220590.0,\"health_care_and_social_assistance\":284067.0,\"arts_entertainment_and_recreation\":78709.0,\"accommodation_and_food_services\":85204.0,\"other_services_except_public_administration\":156913.0,\"public_administration\":812220.0,\"unclassified_businesses\":0.0,\"date\":\"2022-12-22\",\"category\":\"Canada\"},\"July 2022\":{\"industrial_aggregate_including_unclassified_businesses\":0.0,\"industrial_aggregate_excluding_unclassified_businesses\":6028318.0,\"goods_producing_industries\":795760.0,\"forestry_logging_and_support\":2116.0,\"mining_quarrying_and_oil_and_gas_extraction\":104785.0,\"utilities\":71014.0,\"construction\":207855.0,\"manufacturing\":409989.0,\"service_producing_industries\":5232558.0,\"trade\":635475.0,\"transportation_and_warehousing\":249962.0,\"information_and_cultural_industries\":218767.0,\"finance_and_insurance\":617536.0,\"real_estate_and_rental_and_leasing\":119847.0,\"professional_scientific_and_technical_services\":731553.0,\"management_of_companies_and_enterprises\":0.0,\"administrative_and_support_waste_management_and_remediation_services\":212358.0,\"educational_services\":984601.0,\"health_care_and_social_assistance\":283756.0,\"arts_entertainment_and_recreation\":81385.0,\"accommodation_and_food_services\":84791.0,\"other_services_except_public_administration\":136851.0,\"public_administration\":810714.0,\"unclassified_businesses\":0.0,\"date\":\"2022-12-22\",\"category\":\"Canada\"},\"August 2022\":{\"industrial_aggregate_including_unclassified_businesses\":0.0,\"industrial_aggregate_excluding_unclassified_businesses\":5839084.0,\"goods_producing_industries\":734721.0,\"forestry_logging_and_support\":1290.0,\"mining_quarrying_and_oil_and_gas_extraction\":114101.0,\"utilities\":61339.0,\"construction\":177835.0,\"manufacturing\":380157.0,\"service_producing_industries\":5104363.0,\"trade\":631299.0,\"transportation_and_warehousing\":263346.0,\"information_and_cultural_industries\":200486.0,\"finance_and_insurance\":611251.0,\"real_estate_and_rental_and_leasing\":134898.0,\"professional_scientific_and_technical_services\":716339.0,\"management_of_companies_and_enterprises\":0.0,\"administrative_and_support_waste_management_and_remediation_services\":203658.0,\"educational_services\":875200.0,\"health_care_and_social_assistance\":258625.0,\"arts_entertainment_and_recreation\":86401.0,\"accommodation_and_food_services\":86740.0,\"other_services_except_public_administration\":141957.0,\"public_administration\":830676.0,\"unclassified_businesses\":0.0,\"date\":\"2022-12-22\",\"category\":\"Canada\"},\"September 2022\":{\"industrial_aggregate_including_unclassified_businesses\":0.0,\"industrial_aggregate_excluding_unclassified_businesses\":6289257.0,\"goods_producing_industries\":709829.0,\"forestry_logging_and_support\":4232.0,\"mining_quarrying_and_oil_and_gas_extraction\":103753.0,\"utilities\":48418.0,\"construction\":184472.0,\"manufacturing\":368955.0,\"service_producing_industries\":5579428.0,\"trade\":649223.0,\"transportation_and_warehousing\":266596.0,\"information_and_cultural_industries\":231364.0,\"finance_and_insurance\":649217.0,\"real_estate_and_rental_and_leasing\":133823.0,\"professional_scientific_and_technical_services\":719071.0,\"management_of_companies_and_enterprises\":0.0,\"administrative_and_support_waste_management_and_remediation_services\":200744.0,\"educational_services\":1195104.0,\"health_care_and_social_assistance\":270152.0,\"arts_entertainment_and_recreation\":88519.0,\"accommodation_and_food_services\":87532.0,\"other_services_except_public_administration\":139118.0,\"public_administration\":871832.0,\"unclassified_businesses\":0.0,\"date\":\"2022-12-22\",\"category\":\"Canada\"},\"October 2022\":{\"industrial_aggregate_including_unclassified_businesses\":0.0,\"industrial_aggregate_excluding_unclassified_businesses\":6371149.0,\"goods_producing_industries\":721108.0,\"forestry_logging_and_support\":3162.0,\"mining_quarrying_and_oil_and_gas_extraction\":101147.0,\"utilities\":48018.0,\"construction\":202316.0,\"manufacturing\":366465.0,\"service_producing_industries\":5650040.0,\"trade\":674211.0,\"transportation_and_warehousing\":253939.0,\"information_and_cultural_industries\":211822.0,\"finance_and_insurance\":639799.0,\"real_estate_and_rental_and_leasing\":138766.0,\"professional_scientific_and_technical_services\":729413.0,\"management_of_companies_and_enterprises\":0.0,\"administrative_and_support_waste_management_and_remediation_services\":189571.0,\"educational_services\":1283532.0,\"health_care_and_social_assistance\":279581.0,\"arts_entertainment_and_recreation\":87577.0,\"accommodation_and_food_services\":89109.0,\"other_services_except_public_administration\":130523.0,\"public_administration\":869048.0,\"unclassified_businesses\":0.0,\"date\":\"2022-12-22\",\"category\":\"Canada\"}}', 'canada_employees_paid_by_the_hour': '{\"January 2022\":{\"industrial_aggregate_including_unclassified_businesses\":0.0,\"industrial_aggregate_excluding_unclassified_businesses\":9304456.0,\"goods_producing_industries\":1934330.0,\"forestry_logging_and_support\":21005.0,\"mining_quarrying_and_oil_and_gas_extraction\":79198.0,\"utilities\":0.0,\"construction\":731180.0,\"manufacturing\":1032588.0,\"service_producing_industries\":7370126.0,\"trade\":1966935.0,\"transportation_and_warehousing\":432942.0,\"information_and_cultural_industries\":136044.0,\"finance_and_insurance\":156730.0,\"real_estate_and_rental_and_leasing\":111685.0,\"professional_scientific_and_technical_services\":330337.0,\"management_of_companies_and_enterprises\":0.0,\"administrative_and_support_waste_management_and_remediation_services\":535198.0,\"educational_services\":54515.0,\"health_care_and_social_assistance\":1866505.0,\"arts_entertainment_and_recreation\":154607.0,\"accommodation_and_food_services\":924840.0,\"other_services_except_public_administration\":306009.0,\"public_administration\":346057.0,\"unclassified_businesses\":0.0,\"date\":\"2022-12-22\",\"category\":\"Canada\"},\"February 2022\":{\"industrial_aggregate_including_unclassified_businesses\":0.0,\"industrial_aggregate_excluding_unclassified_businesses\":9349982.0,\"goods_producing_industries\":1967904.0,\"forestry_logging_and_support\":22854.0,\"mining_quarrying_and_oil_and_gas_extraction\":87335.0,\"utilities\":0.0,\"construction\":770268.0,\"manufacturing\":1032851.0,\"service_producing_industries\":7382078.0,\"trade\":1896334.0,\"transportation_and_warehousing\":441345.0,\"information_and_cultural_industries\":143521.0,\"finance_and_insurance\":157495.0,\"real_estate_and_rental_and_leasing\":109654.0,\"professional_scientific_and_technical_services\":300490.0,\"management_of_companies_and_enterprises\":0.0,\"administrative_and_support_waste_management_and_remediation_services\":556607.0,\"educational_services\":59235.0,\"health_care_and_social_assistance\":1900265.0,\"arts_entertainment_and_recreation\":159585.0,\"accommodation_and_food_services\":962240.0,\"other_services_except_public_administration\":291702.0,\"public_administration\":351802.0,\"unclassified_businesses\":0.0,\"date\":\"2022-12-22\",\"category\":\"Canada\"},\"March 2022\":{\"industrial_aggregate_including_unclassified_businesses\":0.0,\"industrial_aggregate_excluding_unclassified_businesses\":9530931.0,\"goods_producing_industries\":1991806.0,\"forestry_logging_and_support\":0.0,\"mining_quarrying_and_oil_and_gas_extraction\":91513.0,\"utilities\":55433.0,\"construction\":796978.0,\"manufacturing\":1021859.0,\"service_producing_industries\":7539125.0,\"trade\":1929079.0,\"transportation_and_warehousing\":430751.0,\"information_and_cultural_industries\":166616.0,\"finance_and_insurance\":133992.0,\"real_estate_and_rental_and_leasing\":103341.0,\"professional_scientific_and_technical_services\":320565.0,\"management_of_companies_and_enterprises\":0.0,\"administrative_and_support_waste_management_and_remediation_services\":550073.0,\"educational_services\":56848.0,\"health_care_and_social_assistance\":1926329.0,\"arts_entertainment_and_recreation\":172621.0,\"accommodation_and_food_services\":1018261.0,\"other_services_except_public_administration\":300404.0,\"public_administration\":365737.0,\"unclassified_businesses\":0.0,\"date\":\"2022-12-22\",\"category\":\"Canada\"},\"April 2022\":{\"industrial_aggregate_including_unclassified_businesses\":0.0,\"industrial_aggregate_excluding_unclassified_businesses\":9736182.0,\"goods_producing_industries\":2032242.0,\"forestry_logging_and_support\":23299.0,\"mining_quarrying_and_oil_and_gas_extraction\":86167.0,\"utilities\":63280.0,\"construction\":823016.0,\"manufacturing\":1036480.0,\"service_producing_industries\":7703940.0,\"trade\":1958675.0,\"transportation_and_warehousing\":450993.0,\"information_and_cultural_industries\":166972.0,\"finance_and_insurance\":125135.0,\"real_estate_and_rental_and_leasing\":114697.0,\"professional_scientific_and_technical_services\":310455.0,\"management_of_companies_and_enterprises\":0.0,\"administrative_and_support_waste_management_and_remediation_services\":569621.0,\"educational_services\":60949.0,\"health_care_and_social_assistance\":1935436.0,\"arts_entertainment_and_recreation\":182582.0,\"accommodation_and_food_services\":1075396.0,\"other_services_except_public_administration\":307392.0,\"public_administration\":385520.0,\"unclassified_businesses\":0.0,\"date\":\"2022-12-22\",\"category\":\"Canada\"},\"May 2022\":{\"industrial_aggregate_including_unclassified_businesses\":0.0,\"industrial_aggregate_excluding_unclassified_businesses\":10007884.0,\"goods_producing_industries\":2142269.0,\"forestry_logging_and_support\":25229.0,\"mining_quarrying_and_oil_and_gas_extraction\":102331.0,\"utilities\":51891.0,\"construction\":888365.0,\"manufacturing\":1074453.0,\"service_producing_industries\":7865615.0,\"trade\":1996516.0,\"transportation_and_warehousing\":443320.0,\"information_and_cultural_industries\":156391.0,\"finance_and_insurance\":184497.0,\"real_estate_and_rental_and_leasing\":113063.0,\"professional_scientific_and_technical_services\":331791.0,\"management_of_companies_and_enterprises\":0.0,\"administrative_and_support_waste_management_and_remediation_services\":595531.0,\"educational_services\":60571.0,\"health_care_and_social_assistance\":1893143.0,\"arts_entertainment_and_recreation\":204913.0,\"accommodation_and_food_services\":1131888.0,\"other_services_except_public_administration\":325861.0,\"public_administration\":381740.0,\"unclassified_businesses\":0.0,\"date\":\"2022-12-22\",\"category\":\"Canada\"},\"June 2022\":{\"industrial_aggregate_including_unclassified_businesses\":0.0,\"industrial_aggregate_excluding_unclassified_businesses\":10308173.0,\"goods_producing_industries\":2188566.0,\"forestry_logging_and_support\":28079.0,\"mining_quarrying_and_oil_and_gas_extraction\":88347.0,\"utilities\":53312.0,\"construction\":915916.0,\"manufacturing\":1102913.0,\"service_producing_industries\":8119606.0,\"trade\":2051671.0,\"transportation_and_warehousing\":469373.0,\"information_and_cultural_industries\":178722.0,\"finance_and_insurance\":175181.0,\"real_estate_and_rental_and_leasing\":126604.0,\"professional_scientific_and_technical_services\":342737.0,\"management_of_companies_and_enterprises\":0.0,\"administrative_and_support_waste_management_and_remediation_services\":594823.0,\"educational_services\":62586.0,\"health_care_and_social_assistance\":1901529.0,\"arts_entertainment_and_recreation\":228636.0,\"accommodation_and_food_services\":1182992.0,\"other_services_except_public_administration\":340245.0,\"public_administration\":403646.0,\"unclassified_businesses\":0.0,\"date\":\"2022-12-22\",\"category\":\"Canada\"},\"July 2022\":{\"industrial_aggregate_including_unclassified_businesses\":0.0,\"industrial_aggregate_excluding_unclassified_businesses\":10317205.0,\"goods_producing_industries\":2167061.0,\"forestry_logging_and_support\":33185.0,\"mining_quarrying_and_oil_and_gas_extraction\":98149.0,\"utilities\":57720.0,\"construction\":886474.0,\"manufacturing\":1091533.0,\"service_producing_industries\":8150144.0,\"trade\":2055602.0,\"transportation_and_warehousing\":454279.0,\"information_and_cultural_industries\":152262.0,\"finance_and_insurance\":166054.0,\"real_estate_and_rental_and_leasing\":127440.0,\"professional_scientific_and_technical_services\":332337.0,\"management_of_companies_and_enterprises\":0.0,\"administrative_and_support_waste_management_and_remediation_services\":607977.0,\"educational_services\":63979.0,\"health_care_and_social_assistance\":1897775.0,\"arts_entertainment_and_recreation\":248564.0,\"accommodation_and_food_services\":1207855.0,\"other_services_except_public_administration\":367309.0,\"public_administration\":424988.0,\"unclassified_businesses\":0.0,\"date\":\"2022-12-22\",\"category\":\"Canada\"},\"August 2022\":{\"industrial_aggregate_including_unclassified_businesses\":0.0,\"industrial_aggregate_excluding_unclassified_businesses\":10323261.0,\"goods_producing_industries\":2237505.0,\"forestry_logging_and_support\":34352.0,\"mining_quarrying_and_oil_and_gas_extraction\":89223.0,\"utilities\":69500.0,\"construction\":920635.0,\"manufacturing\":1123794.0,\"service_producing_industries\":8085756.0,\"trade\":2045785.0,\"transportation_and_warehousing\":451583.0,\"information_and_cultural_industries\":176212.0,\"finance_and_insurance\":170480.0,\"real_estate_and_rental_and_leasing\":119884.0,\"professional_scientific_and_technical_services\":326635.0,\"management_of_companies_and_enterprises\":0.0,\"administrative_and_support_waste_management_and_remediation_services\":609029.0,\"educational_services\":58881.0,\"health_care_and_social_assistance\":1905176.0,\"arts_entertainment_and_recreation\":239833.0,\"accommodation_and_food_services\":1199298.0,\"other_services_except_public_administration\":349852.0,\"public_administration\":389395.0,\"unclassified_businesses\":0.0,\"date\":\"2022-12-22\",\"category\":\"Canada\"},\"September 2022\":{\"industrial_aggregate_including_unclassified_businesses\":0.0,\"industrial_aggregate_excluding_unclassified_businesses\":10309095.0,\"goods_producing_industries\":2300251.0,\"forestry_logging_and_support\":30324.0,\"mining_quarrying_and_oil_and_gas_extraction\":101090.0,\"utilities\":80793.0,\"construction\":950165.0,\"manufacturing\":1137879.0,\"service_producing_industries\":8008844.0,\"trade\":2036713.0,\"transportation_and_warehousing\":467276.0,\"information_and_cultural_industries\":141276.0,\"finance_and_insurance\":136994.0,\"real_estate_and_rental_and_leasing\":124293.0,\"professional_scientific_and_technical_services\":342087.0,\"management_of_companies_and_enterprises\":0.0,\"administrative_and_support_waste_management_and_remediation_services\":620265.0,\"educational_services\":59942.0,\"health_care_and_social_assistance\":1905096.0,\"arts_entertainment_and_recreation\":231181.0,\"accommodation_and_food_services\":1204240.0,\"other_services_except_public_administration\":356372.0,\"public_administration\":345036.0,\"unclassified_businesses\":0.0,\"date\":\"2022-12-22\",\"category\":\"Canada\"},\"October 2022\":{\"industrial_aggregate_including_unclassified_businesses\":0.0,\"industrial_aggregate_excluding_unclassified_businesses\":10188281.0,\"goods_producing_industries\":2248671.0,\"forestry_logging_and_support\":27248.0,\"mining_quarrying_and_oil_and_gas_extraction\":102152.0,\"utilities\":80220.0,\"construction\":905863.0,\"manufacturing\":1133187.0,\"service_producing_industries\":7939610.0,\"trade\":2009288.0,\"transportation_and_warehousing\":480196.0,\"information_and_cultural_industries\":166494.0,\"finance_and_insurance\":136841.0,\"real_estate_and_rental_and_leasing\":113147.0,\"professional_scientific_and_technical_services\":330948.0,\"management_of_companies_and_enterprises\":0.0,\"administrative_and_support_waste_management_and_remediation_services\":621679.0,\"educational_services\":64533.0,\"health_care_and_social_assistance\":1893173.0,\"arts_entertainment_and_recreation\":203149.0,\"accommodation_and_food_services\":1168407.0,\"other_services_except_public_administration\":355568.0,\"public_administration\":348993.0,\"unclassified_businesses\":0.0,\"date\":\"2022-12-22\",\"category\":\"Canada\"}}'}\n"
     ]
    }
   ],
   "source": [
    "\n",
    "\n",
    "\n"
   ]
  },
  {
   "cell_type": "code",
   "execution_count": null,
   "metadata": {},
   "outputs": [],
   "source": []
  },
  {
   "cell_type": "code",
   "execution_count": null,
   "metadata": {},
   "outputs": [],
   "source": []
  },
  {
   "cell_type": "code",
   "execution_count": 6,
   "metadata": {},
   "outputs": [
    {
     "ename": "NameError",
     "evalue": "name 'test' is not defined",
     "output_type": "error",
     "traceback": [
      "\u001b[0;31m---------------------------------------------------------------------------\u001b[0m",
      "\u001b[0;31mNameError\u001b[0m                                 Traceback (most recent call last)",
      "\u001b[1;32m/Users/boristsao/Documents/Projects/stats-can-vis/statscanvis-pyscrapper/notebook.ipynb Cell 8\u001b[0m in \u001b[0;36m<cell line: 1>\u001b[0;34m()\u001b[0m\n\u001b[0;32m----> <a href='vscode-notebook-cell:/Users/boristsao/Documents/Projects/stats-can-vis/statscanvis-pyscrapper/notebook.ipynb#Y112sZmlsZQ%3D%3D?line=0'>1</a>\u001b[0m \u001b[39mprint\u001b[39m(test)\n",
      "\u001b[0;31mNameError\u001b[0m: name 'test' is not defined"
     ]
    }
   ],
   "source": [
    "print(test)"
   ]
  },
  {
   "cell_type": "code",
   "execution_count": null,
   "metadata": {},
   "outputs": [
    {
     "name": "stdout",
     "output_type": "stream",
     "text": [
      "Today:  2023-01-05\n"
     ]
    }
   ],
   "source": [
    "print(\"Today: \", date.today())\n"
   ]
  },
  {
   "cell_type": "code",
   "execution_count": null,
   "metadata": {},
   "outputs": [
    {
     "ename": "TypeError",
     "evalue": "simple_scrapper() missing 8 required positional arguments: 'pid', 'pickMembers1', 'pickMembers2', 'startMonth', 'startYear', 'endMonth', 'endYear', and 'referencePeriods'",
     "output_type": "error",
     "traceback": [
      "\u001b[0;31m---------------------------------------------------------------------------\u001b[0m",
      "\u001b[0;31mTypeError\u001b[0m                                 Traceback (most recent call last)",
      "\u001b[1;32m/Users/boristsao/Documents/Projects/stats-can-vis/statscanvis-pyscrapper/notebook.ipynb Cell 5\u001b[0m in \u001b[0;36m<cell line: 1>\u001b[0;34m()\u001b[0m\n\u001b[0;32m----> <a href='vscode-notebook-cell:/Users/boristsao/Documents/Projects/stats-can-vis/statscanvis-pyscrapper/notebook.ipynb#Y103sZmlsZQ%3D%3D?line=0'>1</a>\u001b[0m test \u001b[39m=\u001b[39m scrapper\u001b[39m.\u001b[39;49msimple_scrapper()\n\u001b[1;32m      <a href='vscode-notebook-cell:/Users/boristsao/Documents/Projects/stats-can-vis/statscanvis-pyscrapper/notebook.ipynb#Y103sZmlsZQ%3D%3D?line=1'>2</a>\u001b[0m \u001b[39mprint\u001b[39m(test)\n",
      "\u001b[0;31mTypeError\u001b[0m: simple_scrapper() missing 8 required positional arguments: 'pid', 'pickMembers1', 'pickMembers2', 'startMonth', 'startYear', 'endMonth', 'endYear', and 'referencePeriods'"
     ]
    }
   ],
   "source": [
    "test = scrapper.simple_scrapper()\n",
    "print(test)"
   ]
  },
  {
   "cell_type": "code",
   "execution_count": null,
   "metadata": {},
   "outputs": [],
   "source": [
    "#url = \"https://www150.statcan.gc.ca/t1/tbl1/en/tv.action?pid=1410020101&pickMembers%5B0%5D=1.3&pickMembers%5B1%5D=2.1&cubeTimeFrame.startMonth=06&cubeTimeFrame.startYear=2022&cubeTimeFrame.endMonth=10&cubeTimeFrame.endYear=2022&referencePeriods=20220601%2C20221001\"\n",
    "\n",
    "#https://www150.statcan.gc.ca/t1/tbl1/en/tv.action?\n",
    "\n",
    "\n",
    "# pid=1410020101&\n",
    "# pickMembers%5B0%5D=1.3\n",
    "# &pickMembers%5B1%5D=2.1\n",
    "# &cubeTimeFrame.startMonth=0\n",
    "# 6&cubeTimeFrame.startYear=2022\n",
    "# &cubeTimeFrame.endMonth=10\n",
    "# &cubeTimeFrame.endYear=2022\n",
    "# &referencePeriods=20220601%2C20221001b"
   ]
  },
  {
   "cell_type": "code",
   "execution_count": null,
   "metadata": {},
   "outputs": [],
   "source": []
  }
 ],
 "metadata": {
  "kernelspec": {
   "display_name": "base",
   "language": "python",
   "name": "python3"
  },
  "language_info": {
   "codemirror_mode": {
    "name": "ipython",
    "version": 3
   },
   "file_extension": ".py",
   "mimetype": "text/x-python",
   "name": "python",
   "nbconvert_exporter": "python",
   "pygments_lexer": "ipython3",
   "version": "3.9.12"
  },
  "orig_nbformat": 4,
  "vscode": {
   "interpreter": {
    "hash": "8d057af1a5c49b4bed786b95378487de8898a19ac88ffccdd8bd5a4534c5371a"
   }
  }
 },
 "nbformat": 4,
 "nbformat_minor": 2
}
