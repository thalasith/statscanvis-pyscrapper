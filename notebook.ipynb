{
 "cells": [
  {
   "cell_type": "code",
   "execution_count": 1,
   "metadata": {},
   "outputs": [],
   "source": [
    "from sqlalchemy import create_engine\n",
    "import os\n",
    "from dotenv import load_dotenv\n",
    "load_dotenv()\n",
    "try:\n",
    "    from . import scrapper\n",
    "except:\n",
    "    import scrapper\n"
   ]
  },
  {
   "cell_type": "code",
   "execution_count": 2,
   "metadata": {},
   "outputs": [],
   "source": [
    "list_pick_members1 = [\"1.1\", \"1.2\", \"1.3\", \"1.4\", \"1.5\", \"1.6\", \"1.7\", \"1.8\", \"1.9\", \"1.10\", \"1.11\", \"1.12\", \"1.14\", \"1.15\"]\n",
    "# list_pick_members1_name = [\"Canada\", \"Newfoundland and Labrador\", \"Prince Edward Island\", \"Nova Scotia\", \"New Brunswick\", \"Quebec\", \"Ontario\", \"Manitoba\", \"Saskatchewan\", \"Alberta\", \"British Columbia\", \"Yukon\", \"Northwest Territories\", \"Nunavut\"]\n",
    "\n",
    "list_pick_members2 = [\"2.2\", \"2.3\"]\n",
    "# list_pick_members2_name = [\"Salaried employees paid a fixed salary\", \"Employees paid by the hour\"]\n",
    "\n",
    "# joined_pi = zip(list_pick_members1, list_pick_members1_name)\n",
    "# joined_pi2 = zip(list_pick_members2, list_pick_members2_name)\n",
    "\n",
    "pid=str(1410020101)\n",
    "pickMembers1=str(1.3)\n",
    "pickMembers2=str(2.1)\n",
    "startMonth=\"01\"\n",
    "startYear=\"2022\"\n",
    "endMonth=\"12\"\n",
    "endYear=\"2022\"\n",
    "referencePeriods=\"20220101%2C20221001\"\n",
    "\n",
    "filter_names = [\"Geography\", \"Type of Employee\"]\n"
   ]
  },
  {
   "cell_type": "code",
   "execution_count": 3,
   "metadata": {},
   "outputs": [],
   "source": [
    "url = 'https://www150.statcan.gc.ca/t1/tbl1/en/tv.action?pid=' + pid + '&pickMembers%5B0%5D='+ pickMembers1 + '&pickMembers%5B1%5D='+ pickMembers2 + '&cubeTimeFrame.startMonth='+ startMonth + '&cubeTimeFrame.startYear=' + startYear + '&cubeTimeFrame.endMonth=10&cubeTimeFrame.endYear=2022&referencePeriods=' + referencePeriods\n",
    "filter_names = [\"Geography\", \"Type of employee\"]\n",
    "\n",
    "dataframe = scrapper.simple_scrapper(url, filter_names)"
   ]
  },
  {
   "cell_type": "code",
   "execution_count": 4,
   "metadata": {},
   "outputs": [
    {
     "data": {
      "text/plain": [
       "array(['Prince Edward Island'], dtype=object)"
      ]
     },
     "execution_count": 4,
     "metadata": {},
     "output_type": "execute_result"
    }
   ],
   "source": [
    "dataframe[\"geography\"].unique()"
   ]
  },
  {
   "cell_type": "code",
   "execution_count": 5,
   "metadata": {},
   "outputs": [
    {
     "name": "stdout",
     "output_type": "stream",
     "text": [
      "[('1.1', '2.2'), ('1.1', '2.3'), ('1.2', '2.2'), ('1.2', '2.3'), ('1.3', '2.2'), ('1.3', '2.3'), ('1.4', '2.2'), ('1.4', '2.3'), ('1.5', '2.2'), ('1.5', '2.3'), ('1.6', '2.2'), ('1.6', '2.3'), ('1.7', '2.2'), ('1.7', '2.3'), ('1.8', '2.2'), ('1.8', '2.3'), ('1.9', '2.2'), ('1.9', '2.3'), ('1.10', '2.2'), ('1.10', '2.3'), ('1.11', '2.2'), ('1.11', '2.3'), ('1.12', '2.2'), ('1.12', '2.3'), ('1.14', '2.2'), ('1.14', '2.3'), ('1.15', '2.2'), ('1.15', '2.3')]\n"
     ]
    }
   ],
   "source": [
    "# list1 = [1, 2, 3]\n",
    "# list2 = ['a', 'b', 'c']\n",
    "\n",
    "result = [(x, y) for x in list_pick_members1 for y in list_pick_members2]\n",
    "print(result)"
   ]
  },
  {
   "cell_type": "code",
   "execution_count": 6,
   "metadata": {},
   "outputs": [],
   "source": [
    "pid=str(1410020101)\n",
    "pickMembers1=str(1.3)\n",
    "pickMembers2=str(2.1)\n",
    "startMonth=\"01\"\n",
    "startYear=\"2022\"\n",
    "endMonth=\"12\"\n",
    "endYear=\"2022\"\n",
    "referencePeriods=\"20220101%2C20221001\"\n",
    "\n",
    "filter_names = [\"Geography\", \"Type of employee\"]\n",
    "    "
   ]
  },
  {
   "cell_type": "code",
   "execution_count": 7,
   "metadata": {},
   "outputs": [
    {
     "name": "stdout",
     "output_type": "stream",
     "text": [
      "Data inserted into database\n"
     ]
    },
    {
     "ename": "ResourceClosedError",
     "evalue": "This Connection is closed",
     "output_type": "error",
     "traceback": [
      "\u001b[0;31m---------------------------------------------------------------------------\u001b[0m",
      "\u001b[0;31mResourceClosedError\u001b[0m                       Traceback (most recent call last)",
      "\u001b[1;32m/Users/boristsao/Documents/Projects/stats-can-vis/statscanvis-pyscrapper/notebook.ipynb Cell 7\u001b[0m in \u001b[0;36m<cell line: 10>\u001b[0;34m()\u001b[0m\n\u001b[1;32m     <a href='vscode-notebook-cell:/Users/boristsao/Documents/Projects/stats-can-vis/statscanvis-pyscrapper/notebook.ipynb#W6sZmlsZQ%3D%3D?line=10'>11</a>\u001b[0m url \u001b[39m=\u001b[39m \u001b[39m'\u001b[39m\u001b[39mhttps://www150.statcan.gc.ca/t1/tbl1/en/tv.action?pid=\u001b[39m\u001b[39m'\u001b[39m \u001b[39m+\u001b[39m pid \u001b[39m+\u001b[39m \u001b[39m'\u001b[39m\u001b[39m&pickMembers\u001b[39m\u001b[39m%\u001b[39m\u001b[39m5B0\u001b[39m\u001b[39m%\u001b[39m\u001b[39m5D=\u001b[39m\u001b[39m'\u001b[39m\u001b[39m+\u001b[39m x \u001b[39m+\u001b[39m \u001b[39m'\u001b[39m\u001b[39m&pickMembers\u001b[39m\u001b[39m%\u001b[39m\u001b[39m5B1\u001b[39m\u001b[39m%\u001b[39m\u001b[39m5D=\u001b[39m\u001b[39m'\u001b[39m\u001b[39m+\u001b[39m y \u001b[39m+\u001b[39m \u001b[39m'\u001b[39m\u001b[39m&cubeTimeFrame.startMonth=\u001b[39m\u001b[39m'\u001b[39m\u001b[39m+\u001b[39m startMonth \u001b[39m+\u001b[39m \u001b[39m'\u001b[39m\u001b[39m&cubeTimeFrame.startYear=\u001b[39m\u001b[39m'\u001b[39m \u001b[39m+\u001b[39m startYear \u001b[39m+\u001b[39m \u001b[39m'\u001b[39m\u001b[39m&cubeTimeFrame.endMonth=10&cubeTimeFrame.endYear=2022&referencePeriods=\u001b[39m\u001b[39m'\u001b[39m \u001b[39m+\u001b[39m referencePeriods\n\u001b[1;32m     <a href='vscode-notebook-cell:/Users/boristsao/Documents/Projects/stats-can-vis/statscanvis-pyscrapper/notebook.ipynb#W6sZmlsZQ%3D%3D?line=11'>12</a>\u001b[0m df \u001b[39m=\u001b[39m scrapper\u001b[39m.\u001b[39msimple_scrapper(url, filter_names)\n\u001b[0;32m---> <a href='vscode-notebook-cell:/Users/boristsao/Documents/Projects/stats-can-vis/statscanvis-pyscrapper/notebook.ipynb#W6sZmlsZQ%3D%3D?line=12'>13</a>\u001b[0m \u001b[39mwith\u001b[39;00m engine\u001b[39m.\u001b[39;49mbegin() \u001b[39mas\u001b[39;00m engine:\n\u001b[1;32m     <a href='vscode-notebook-cell:/Users/boristsao/Documents/Projects/stats-can-vis/statscanvis-pyscrapper/notebook.ipynb#W6sZmlsZQ%3D%3D?line=13'>14</a>\u001b[0m     df\u001b[39m.\u001b[39mto_sql(table_name, engine, if_exists\u001b[39m=\u001b[39m\u001b[39m'\u001b[39m\u001b[39mappend\u001b[39m\u001b[39m'\u001b[39m, index\u001b[39m=\u001b[39m\u001b[39mFalse\u001b[39;00m)\n\u001b[1;32m     <a href='vscode-notebook-cell:/Users/boristsao/Documents/Projects/stats-can-vis/statscanvis-pyscrapper/notebook.ipynb#W6sZmlsZQ%3D%3D?line=14'>15</a>\u001b[0m     \u001b[39mprint\u001b[39m(\u001b[39m\"\u001b[39m\u001b[39mData inserted into database\u001b[39m\u001b[39m\"\u001b[39m)\n",
      "File \u001b[0;32m~/opt/anaconda3/lib/python3.9/site-packages/sqlalchemy/engine/base.py:768\u001b[0m, in \u001b[0;36mConnection.begin\u001b[0;34m(self)\u001b[0m\n\u001b[1;32m    766\u001b[0m     \u001b[39mreturn\u001b[39;00m\n\u001b[1;32m    767\u001b[0m \u001b[39melif\u001b[39;00m \u001b[39mself\u001b[39m\u001b[39m.\u001b[39m_transaction \u001b[39mis\u001b[39;00m \u001b[39mNone\u001b[39;00m:\n\u001b[0;32m--> 768\u001b[0m     \u001b[39mself\u001b[39m\u001b[39m.\u001b[39m_transaction \u001b[39m=\u001b[39m RootTransaction(\u001b[39mself\u001b[39;49m)\n\u001b[1;32m    769\u001b[0m     \u001b[39mreturn\u001b[39;00m \u001b[39mself\u001b[39m\u001b[39m.\u001b[39m_transaction\n\u001b[1;32m    770\u001b[0m \u001b[39melse\u001b[39;00m:\n",
      "File \u001b[0;32m~/opt/anaconda3/lib/python3.9/site-packages/sqlalchemy/engine/base.py:2483\u001b[0m, in \u001b[0;36mRootTransaction.__init__\u001b[0;34m(self, connection)\u001b[0m\n\u001b[1;32m   2481\u001b[0m     TransactionalContext\u001b[39m.\u001b[39m_trans_ctx_check(connection)\n\u001b[1;32m   2482\u001b[0m \u001b[39mself\u001b[39m\u001b[39m.\u001b[39mconnection \u001b[39m=\u001b[39m connection\n\u001b[0;32m-> 2483\u001b[0m \u001b[39mself\u001b[39;49m\u001b[39m.\u001b[39;49m_connection_begin_impl()\n\u001b[1;32m   2484\u001b[0m connection\u001b[39m.\u001b[39m_transaction \u001b[39m=\u001b[39m \u001b[39mself\u001b[39m\n\u001b[1;32m   2486\u001b[0m \u001b[39mself\u001b[39m\u001b[39m.\u001b[39mis_active \u001b[39m=\u001b[39m \u001b[39mTrue\u001b[39;00m\n",
      "File \u001b[0;32m~/opt/anaconda3/lib/python3.9/site-packages/sqlalchemy/engine/base.py:2522\u001b[0m, in \u001b[0;36mRootTransaction._connection_begin_impl\u001b[0;34m(self)\u001b[0m\n\u001b[1;32m   2521\u001b[0m \u001b[39mdef\u001b[39;00m \u001b[39m_connection_begin_impl\u001b[39m(\u001b[39mself\u001b[39m):\n\u001b[0;32m-> 2522\u001b[0m     \u001b[39mself\u001b[39;49m\u001b[39m.\u001b[39;49mconnection\u001b[39m.\u001b[39;49m_begin_impl(\u001b[39mself\u001b[39;49m)\n",
      "File \u001b[0;32m~/opt/anaconda3/lib/python3.9/site-packages/sqlalchemy/engine/base.py:952\u001b[0m, in \u001b[0;36mConnection._begin_impl\u001b[0;34m(self, transaction)\u001b[0m\n\u001b[1;32m    950\u001b[0m     \u001b[39mself\u001b[39m\u001b[39m.\u001b[39mengine\u001b[39m.\u001b[39mdialect\u001b[39m.\u001b[39mdo_begin(\u001b[39mself\u001b[39m\u001b[39m.\u001b[39mconnection)\n\u001b[1;32m    951\u001b[0m \u001b[39mexcept\u001b[39;00m \u001b[39mBaseException\u001b[39;00m \u001b[39mas\u001b[39;00m e:\n\u001b[0;32m--> 952\u001b[0m     \u001b[39mself\u001b[39;49m\u001b[39m.\u001b[39;49m_handle_dbapi_exception(e, \u001b[39mNone\u001b[39;49;00m, \u001b[39mNone\u001b[39;49;00m, \u001b[39mNone\u001b[39;49;00m, \u001b[39mNone\u001b[39;49;00m)\n\u001b[1;32m    953\u001b[0m \u001b[39mfinally\u001b[39;00m:\n\u001b[1;32m    954\u001b[0m     \u001b[39mself\u001b[39m\u001b[39m.\u001b[39m__in_begin \u001b[39m=\u001b[39m \u001b[39mFalse\u001b[39;00m\n",
      "File \u001b[0;32m~/opt/anaconda3/lib/python3.9/site-packages/sqlalchemy/engine/base.py:2036\u001b[0m, in \u001b[0;36mConnection._handle_dbapi_exception\u001b[0;34m(self, e, statement, parameters, cursor, context)\u001b[0m\n\u001b[1;32m   2032\u001b[0m         util\u001b[39m.\u001b[39mraise_(\n\u001b[1;32m   2033\u001b[0m             sqlalchemy_exception, with_traceback\u001b[39m=\u001b[39mexc_info[\u001b[39m2\u001b[39m], from_\u001b[39m=\u001b[39me\n\u001b[1;32m   2034\u001b[0m         )\n\u001b[1;32m   2035\u001b[0m     \u001b[39melse\u001b[39;00m:\n\u001b[0;32m-> 2036\u001b[0m         util\u001b[39m.\u001b[39;49mraise_(exc_info[\u001b[39m1\u001b[39;49m], with_traceback\u001b[39m=\u001b[39;49mexc_info[\u001b[39m2\u001b[39;49m])\n\u001b[1;32m   2038\u001b[0m \u001b[39mfinally\u001b[39;00m:\n\u001b[1;32m   2039\u001b[0m     \u001b[39mdel\u001b[39;00m \u001b[39mself\u001b[39m\u001b[39m.\u001b[39m_reentrant_error\n",
      "File \u001b[0;32m~/opt/anaconda3/lib/python3.9/site-packages/sqlalchemy/util/compat.py:207\u001b[0m, in \u001b[0;36mraise_\u001b[0;34m(***failed resolving arguments***)\u001b[0m\n\u001b[1;32m    204\u001b[0m     exception\u001b[39m.\u001b[39m__cause__ \u001b[39m=\u001b[39m replace_context\n\u001b[1;32m    206\u001b[0m \u001b[39mtry\u001b[39;00m:\n\u001b[0;32m--> 207\u001b[0m     \u001b[39mraise\u001b[39;00m exception\n\u001b[1;32m    208\u001b[0m \u001b[39mfinally\u001b[39;00m:\n\u001b[1;32m    209\u001b[0m     \u001b[39m# credit to\u001b[39;00m\n\u001b[1;32m    210\u001b[0m     \u001b[39m# https://cosmicpercolator.com/2016/01/13/exception-leaks-in-python-2-and-3/\u001b[39;00m\n\u001b[1;32m    211\u001b[0m     \u001b[39m# as the __traceback__ object creates a cycle\u001b[39;00m\n\u001b[1;32m    212\u001b[0m     \u001b[39mdel\u001b[39;00m exception, replace_context, from_, with_traceback\n",
      "File \u001b[0;32m~/opt/anaconda3/lib/python3.9/site-packages/sqlalchemy/engine/base.py:950\u001b[0m, in \u001b[0;36mConnection._begin_impl\u001b[0;34m(self, transaction)\u001b[0m\n\u001b[1;32m    947\u001b[0m     \u001b[39mself\u001b[39m\u001b[39m.\u001b[39mdispatch\u001b[39m.\u001b[39mbegin(\u001b[39mself\u001b[39m)\n\u001b[1;32m    949\u001b[0m \u001b[39mtry\u001b[39;00m:\n\u001b[0;32m--> 950\u001b[0m     \u001b[39mself\u001b[39m\u001b[39m.\u001b[39mengine\u001b[39m.\u001b[39mdialect\u001b[39m.\u001b[39mdo_begin(\u001b[39mself\u001b[39;49m\u001b[39m.\u001b[39;49mconnection)\n\u001b[1;32m    951\u001b[0m \u001b[39mexcept\u001b[39;00m \u001b[39mBaseException\u001b[39;00m \u001b[39mas\u001b[39;00m e:\n\u001b[1;32m    952\u001b[0m     \u001b[39mself\u001b[39m\u001b[39m.\u001b[39m_handle_dbapi_exception(e, \u001b[39mNone\u001b[39;00m, \u001b[39mNone\u001b[39;00m, \u001b[39mNone\u001b[39;00m, \u001b[39mNone\u001b[39;00m)\n",
      "File \u001b[0;32m~/opt/anaconda3/lib/python3.9/site-packages/sqlalchemy/engine/base.py:463\u001b[0m, in \u001b[0;36mConnection.connection\u001b[0;34m(self)\u001b[0m\n\u001b[1;32m    461\u001b[0m \u001b[39mif\u001b[39;00m \u001b[39mself\u001b[39m\u001b[39m.\u001b[39m_dbapi_connection \u001b[39mis\u001b[39;00m \u001b[39mNone\u001b[39;00m:\n\u001b[1;32m    462\u001b[0m     \u001b[39mtry\u001b[39;00m:\n\u001b[0;32m--> 463\u001b[0m         \u001b[39mreturn\u001b[39;00m \u001b[39mself\u001b[39;49m\u001b[39m.\u001b[39;49m_revalidate_connection()\n\u001b[1;32m    464\u001b[0m     \u001b[39mexcept\u001b[39;00m (exc\u001b[39m.\u001b[39mPendingRollbackError, exc\u001b[39m.\u001b[39mResourceClosedError):\n\u001b[1;32m    465\u001b[0m         \u001b[39mraise\u001b[39;00m\n",
      "File \u001b[0;32m~/opt/anaconda3/lib/python3.9/site-packages/sqlalchemy/engine/base.py:576\u001b[0m, in \u001b[0;36mConnection._revalidate_connection\u001b[0;34m(self)\u001b[0m\n\u001b[1;32m    572\u001b[0m     \u001b[39mself\u001b[39m\u001b[39m.\u001b[39m_dbapi_connection \u001b[39m=\u001b[39m \u001b[39mself\u001b[39m\u001b[39m.\u001b[39mengine\u001b[39m.\u001b[39mraw_connection(\n\u001b[1;32m    573\u001b[0m         _connection\u001b[39m=\u001b[39m\u001b[39mself\u001b[39m\n\u001b[1;32m    574\u001b[0m     )\n\u001b[1;32m    575\u001b[0m     \u001b[39mreturn\u001b[39;00m \u001b[39mself\u001b[39m\u001b[39m.\u001b[39m_dbapi_connection\n\u001b[0;32m--> 576\u001b[0m \u001b[39mraise\u001b[39;00m exc\u001b[39m.\u001b[39mResourceClosedError(\u001b[39m\"\u001b[39m\u001b[39mThis Connection is closed\u001b[39m\u001b[39m\"\u001b[39m)\n",
      "\u001b[0;31mResourceClosedError\u001b[0m: This Connection is closed"
     ]
    }
   ],
   "source": [
    "table_name = \"monthly_employment_by_industry\"\n",
    "\n",
    "# Connecting to Planet Scale\n",
    "ssl_args = {'ssl_ca': \"/etc/ssl/cert.pem\"}\n",
    "\n",
    "conn_string = 'mysql+pymysql://' + os.getenv(\"USERNAME\") + ':' + os.getenv(\"PASSWORD\") + '@' + os.getenv(\"HOST\") + '/' + os.getenv(\"DATABASE\") \n",
    "\n",
    "for x, y in result:\n",
    "    url = 'https://www150.statcan.gc.ca/t1/tbl1/en/tv.action?pid=' + pid + '&pickMembers%5B0%5D='+ x + '&pickMembers%5B1%5D='+ y + '&cubeTimeFrame.startMonth='+ startMonth + '&cubeTimeFrame.startYear=' + startYear + '&cubeTimeFrame.endMonth=10&cubeTimeFrame.endYear=2022&referencePeriods=' + referencePeriods\n",
    "    df = scrapper.simple_scrapper(url, filter_names)\n",
    "    engine = create_engine(conn_string, connect_args=ssl_args)\n",
    "    with engine.begin() as engine:\n",
    "        df.to_sql(table_name, engine, if_exists='append', index=False)\n",
    "        print(\"Data inserted into database\")"
   ]
  },
  {
   "cell_type": "code",
   "execution_count": null,
   "metadata": {},
   "outputs": [],
   "source": []
  }
 ],
 "metadata": {
  "kernelspec": {
   "display_name": "base",
   "language": "python",
   "name": "python3"
  },
  "language_info": {
   "codemirror_mode": {
    "name": "ipython",
    "version": 3
   },
   "file_extension": ".py",
   "mimetype": "text/x-python",
   "name": "python",
   "nbconvert_exporter": "python",
   "pygments_lexer": "ipython3",
   "version": "3.9.12"
  },
  "orig_nbformat": 4,
  "vscode": {
   "interpreter": {
    "hash": "8d057af1a5c49b4bed786b95378487de8898a19ac88ffccdd8bd5a4534c5371a"
   }
  }
 },
 "nbformat": 4,
 "nbformat_minor": 2
}
