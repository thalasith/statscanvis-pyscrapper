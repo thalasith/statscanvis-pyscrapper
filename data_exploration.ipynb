{
 "cells": [
  {
   "cell_type": "code",
   "execution_count": 1,
   "metadata": {},
   "outputs": [],
   "source": [
    "import pandas as pd\n",
    "import requests\n",
    "import json\n",
    "from bs4 import BeautifulSoup\n",
    "from sqlalchemy import create_engine\n",
    "import os\n",
    "from dotenv import load_dotenv\n",
    "load_dotenv()\n",
    "\n",
    "url = \"https://www150.statcan.gc.ca/t1/tbl1/en/tv.action?pid=1410020101&pickMembers%5B0%5D=1.3&pickMembers%5B1%5D=2.1&cubeTimeFrame.startMonth=01&cubeTimeFrame.startYear=2022&cubeTimeFrame.endMonth=10&cubeTimeFrame.endYear=2022&referencePeriods=20220101%2C20221001\"\n",
    "filter_names = [\"Geography\", \"Type of employee\"]\n",
    "\n",
    "# Helper function to find data between two strings\n",
    "def find_between( s, first, last ):\n",
    "    try:\n",
    "        start = s.index( first ) + len( first )\n",
    "        end = s.index( last, start )\n",
    "        return s[start:end]\n",
    "    except ValueError:\n",
    "        return \"\"\n",
    "\n",
    "# Helper function to check if a string is a float\n",
    "def isfloat(num):\n",
    "    try:\n",
    "        float(num)\n",
    "        return True\n",
    "    except ValueError:\n",
    "        return False"
   ]
  },
  {
   "cell_type": "code",
   "execution_count": 2,
   "metadata": {},
   "outputs": [],
   "source": [
    "page = requests.get(url)\n",
    "soup = BeautifulSoup(page.content, 'html.parser')\n",
    "result = find_between(soup.prettify(), 'tableContainerElement = $(\".tableContainer\").clone();', 'window.addEventListener(\"resize\", function() {') + 'end'\n",
    "data = find_between(result, 'prepareTable(', '\\n')[:-2]\n",
    "json_data = json.loads(data)\n",
    "rows = json_data['rows']"
   ]
  },
  {
   "cell_type": "code",
   "execution_count": 3,
   "metadata": {},
   "outputs": [],
   "source": [
    "new_rows = []\n",
    "for row in rows:\n",
    "    values = row['values']\n",
    "    for value in values:\n",
    "        new_rows.append(value[\"value\"])"
   ]
  },
  {
   "cell_type": "code",
   "execution_count": 4,
   "metadata": {},
   "outputs": [],
   "source": [
    "# Return the headers for the data table.\n",
    "headers = next(item for item in json_data['headers'][\"columnHeaders\"] if item[\"name\"] == \"Reference period\")\n",
    "header_values = []\n",
    "for item in headers[\"values\"]:\n",
    "        header_values.append(item[\"value\"])\n",
    "rows_values = {}\n",
    "key = \"\"\n",
    "data = []\n",
    "index = 0\n",
    "for row in new_rows:\n",
    "    temp_data = {}\n",
    "    if not isfloat(row):\n",
    "        key = row\n",
    "        rows_values[key] = []\n",
    "        data = []\n",
    "        index = 0\n",
    "    if isfloat(row):\n",
    "        data.append(float(row))\n",
    "        rows_values[key] = data\n",
    "        index += 1"
   ]
  },
  {
   "cell_type": "code",
   "execution_count": 5,
   "metadata": {},
   "outputs": [],
   "source": [
    "test_data = []\n",
    "keys = []\n",
    "for key, value in rows_values.items():\n",
    "    index=0\n",
    "    temp_data = {}\n",
    "    temp_data[\"key\"] = key\n",
    "    key = key.replace(\" \", \"_\").replace(\",\",\"\").replace(\"(\",\"\").replace(\")\",\"\").replace(\"-\",\"_\").replace(\"__\",\"_\").lower()[:60]\n",
    "    keys.append(key)\n",
    "    for i in value:\n",
    "        temp_data[header_values[index]] = i\n",
    "        index += 1\n",
    "    test_data.append(temp_data)"
   ]
  },
  {
   "cell_type": "code",
   "execution_count": 6,
   "metadata": {},
   "outputs": [],
   "source": [
    "df = pd.DataFrame(test_data).transpose().drop(\"key\")\n",
    "df.columns = keys\n",
    "df[\"date\"] = soup.find_all('meta', attrs={'name': 'dcterms.issued'})[0]['content']\n",
    "for filter_name in filter_names:\n",
    "    df[filter_name] = next(item for item in json_data['headers'][\"columnHeaders\"] if item[\"name\"] == filter_name)[\"values\"][0][\"value\"]\n"
   ]
  },
  {
   "cell_type": "code",
   "execution_count": 7,
   "metadata": {},
   "outputs": [],
   "source": [
    "\n",
    "df['month'] = df.index\n",
    "df.reset_index(drop=True, inplace=True)\n"
   ]
  },
  {
   "cell_type": "code",
   "execution_count": null,
   "metadata": {},
   "outputs": [],
   "source": []
  }
 ],
 "metadata": {
  "kernelspec": {
   "display_name": "base",
   "language": "python",
   "name": "python3"
  },
  "language_info": {
   "codemirror_mode": {
    "name": "ipython",
    "version": 3
   },
   "file_extension": ".py",
   "mimetype": "text/x-python",
   "name": "python",
   "nbconvert_exporter": "python",
   "pygments_lexer": "ipython3",
   "version": "3.9.12"
  },
  "orig_nbformat": 4,
  "vscode": {
   "interpreter": {
    "hash": "8d057af1a5c49b4bed786b95378487de8898a19ac88ffccdd8bd5a4534c5371a"
   }
  }
 },
 "nbformat": 4,
 "nbformat_minor": 2
}
