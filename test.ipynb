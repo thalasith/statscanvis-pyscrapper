{
 "cells": [
  {
   "cell_type": "code",
   "execution_count": 20,
   "metadata": {},
   "outputs": [],
   "source": [
    "pick_members_1 = {\"names\": [\"1.1\", \"1.2\", \"1.3\", \"1.4\", \"1.5\", \"1.6\", \"1.7\", \"1.8\", \"1.9\", \"1.10\", \"1.11\", \"1.12\", \"1.14\", \"1.15\"], \"values\": [\"Canada\", \"Newfoundland and Labrador\", \"Prince Edward Island\", \"Nova Scotia\", \"New Brunswick\", \"Quebec\", \"Ontario\", \"Manitoba\", \"Saskatchewan\", \"Alberta\", \"British Columbia\", \"Yukon\", \"Northwest Territories\", \"Nunavut\"]}\n",
    "pick_members_2 = {\"names\": [\"2.2\", \"2.3\"], \"values\": [\"Salaried employees paid a fixed salary\", \"Employees paid by the hour\"]}\n",
    "\n",
    "pick_members_dict = {\"&pickMembers%5B0%5D=\": pick_members_1, \"&pickMembers%5B1%5D=\": pick_members_2}\n",
    "\n",
    "keys = list(pick_members_dict.keys())\n",
    "values = list((pick_members_dict[key][\"names\"] for key in keys))\n"
   ]
  },
  {
   "cell_type": "code",
   "execution_count": 21,
   "metadata": {},
   "outputs": [],
   "source": [
    "combined_list_picker = [(x, y) for x in values[0] for y in values[1]]\n",
    "pick_members_1_dict = dict(zip(pick_members_dict[\"&pickMembers%5B0%5D=\"][\"names\"], pick_members_dict[\"&pickMembers%5B0%5D=\"][\"values\"]))\n",
    "pick_members_2_dict = dict(zip(pick_members_dict[\"&pickMembers%5B1%5D=\"][\"names\"], pick_members_dict[\"&pickMembers%5B1%5D=\"][\"values\"]))"
   ]
  },
  {
   "cell_type": "code",
   "execution_count": 22,
   "metadata": {},
   "outputs": [],
   "source": [
    "from datetime import date\n",
    "from dateutil.relativedelta import relativedelta\n",
    "pid=\"1410020101\"\n",
    "table_name = \"monthly_employment_by_industry\"\n",
    "filter_names = [\"Geography\", \"Type of employee\"]\n",
    "today = date.today()\n",
    "four_months_ago = date.today() - relativedelta(months=+4)\n",
    "start_month=str(four_months_ago.month).zfill(2)\n",
    "start_year=str(four_months_ago.year)\n",
    "end_month=str(today.month).zfill(2)\n",
    "end_year=str(today.year)\n",
    "referencePeriods = start_year + start_month + \"01\" + \"%2C\" + end_year + end_month + \"28\""
   ]
  },
  {
   "cell_type": "code",
   "execution_count": 23,
   "metadata": {},
   "outputs": [
    {
     "name": "stdout",
     "output_type": "stream",
     "text": [
      "https://www150.statcan.gc.ca/t1/tbl1/en/tv.action?pid=1410020101&pickMembers%5B0%5D=1.1&pickMembers%5B1%5D=2.2&cubeTimeFrame.startMonth=09&cubeTimeFrame.startYear=2022&cubeTimeFrame.endMonth=01&cubeTimeFrame.endYear=2023&referencePeriods=20220901%2C20230128\n",
      "https://www150.statcan.gc.ca/t1/tbl1/en/tv.action?pid=1410020101&pickMembers%5B0%5D=1.1&pickMembers%5B1%5D=2.3&cubeTimeFrame.startMonth=09&cubeTimeFrame.startYear=2022&cubeTimeFrame.endMonth=01&cubeTimeFrame.endYear=2023&referencePeriods=20220901%2C20230128\n",
      "https://www150.statcan.gc.ca/t1/tbl1/en/tv.action?pid=1410020101&pickMembers%5B0%5D=1.2&pickMembers%5B1%5D=2.2&cubeTimeFrame.startMonth=09&cubeTimeFrame.startYear=2022&cubeTimeFrame.endMonth=01&cubeTimeFrame.endYear=2023&referencePeriods=20220901%2C20230128\n",
      "https://www150.statcan.gc.ca/t1/tbl1/en/tv.action?pid=1410020101&pickMembers%5B0%5D=1.2&pickMembers%5B1%5D=2.3&cubeTimeFrame.startMonth=09&cubeTimeFrame.startYear=2022&cubeTimeFrame.endMonth=01&cubeTimeFrame.endYear=2023&referencePeriods=20220901%2C20230128\n",
      "https://www150.statcan.gc.ca/t1/tbl1/en/tv.action?pid=1410020101&pickMembers%5B0%5D=1.3&pickMembers%5B1%5D=2.2&cubeTimeFrame.startMonth=09&cubeTimeFrame.startYear=2022&cubeTimeFrame.endMonth=01&cubeTimeFrame.endYear=2023&referencePeriods=20220901%2C20230128\n",
      "https://www150.statcan.gc.ca/t1/tbl1/en/tv.action?pid=1410020101&pickMembers%5B0%5D=1.3&pickMembers%5B1%5D=2.3&cubeTimeFrame.startMonth=09&cubeTimeFrame.startYear=2022&cubeTimeFrame.endMonth=01&cubeTimeFrame.endYear=2023&referencePeriods=20220901%2C20230128\n",
      "https://www150.statcan.gc.ca/t1/tbl1/en/tv.action?pid=1410020101&pickMembers%5B0%5D=1.4&pickMembers%5B1%5D=2.2&cubeTimeFrame.startMonth=09&cubeTimeFrame.startYear=2022&cubeTimeFrame.endMonth=01&cubeTimeFrame.endYear=2023&referencePeriods=20220901%2C20230128\n",
      "https://www150.statcan.gc.ca/t1/tbl1/en/tv.action?pid=1410020101&pickMembers%5B0%5D=1.4&pickMembers%5B1%5D=2.3&cubeTimeFrame.startMonth=09&cubeTimeFrame.startYear=2022&cubeTimeFrame.endMonth=01&cubeTimeFrame.endYear=2023&referencePeriods=20220901%2C20230128\n",
      "https://www150.statcan.gc.ca/t1/tbl1/en/tv.action?pid=1410020101&pickMembers%5B0%5D=1.5&pickMembers%5B1%5D=2.2&cubeTimeFrame.startMonth=09&cubeTimeFrame.startYear=2022&cubeTimeFrame.endMonth=01&cubeTimeFrame.endYear=2023&referencePeriods=20220901%2C20230128\n",
      "https://www150.statcan.gc.ca/t1/tbl1/en/tv.action?pid=1410020101&pickMembers%5B0%5D=1.5&pickMembers%5B1%5D=2.3&cubeTimeFrame.startMonth=09&cubeTimeFrame.startYear=2022&cubeTimeFrame.endMonth=01&cubeTimeFrame.endYear=2023&referencePeriods=20220901%2C20230128\n",
      "https://www150.statcan.gc.ca/t1/tbl1/en/tv.action?pid=1410020101&pickMembers%5B0%5D=1.6&pickMembers%5B1%5D=2.2&cubeTimeFrame.startMonth=09&cubeTimeFrame.startYear=2022&cubeTimeFrame.endMonth=01&cubeTimeFrame.endYear=2023&referencePeriods=20220901%2C20230128\n",
      "https://www150.statcan.gc.ca/t1/tbl1/en/tv.action?pid=1410020101&pickMembers%5B0%5D=1.6&pickMembers%5B1%5D=2.3&cubeTimeFrame.startMonth=09&cubeTimeFrame.startYear=2022&cubeTimeFrame.endMonth=01&cubeTimeFrame.endYear=2023&referencePeriods=20220901%2C20230128\n",
      "https://www150.statcan.gc.ca/t1/tbl1/en/tv.action?pid=1410020101&pickMembers%5B0%5D=1.7&pickMembers%5B1%5D=2.2&cubeTimeFrame.startMonth=09&cubeTimeFrame.startYear=2022&cubeTimeFrame.endMonth=01&cubeTimeFrame.endYear=2023&referencePeriods=20220901%2C20230128\n",
      "https://www150.statcan.gc.ca/t1/tbl1/en/tv.action?pid=1410020101&pickMembers%5B0%5D=1.7&pickMembers%5B1%5D=2.3&cubeTimeFrame.startMonth=09&cubeTimeFrame.startYear=2022&cubeTimeFrame.endMonth=01&cubeTimeFrame.endYear=2023&referencePeriods=20220901%2C20230128\n",
      "https://www150.statcan.gc.ca/t1/tbl1/en/tv.action?pid=1410020101&pickMembers%5B0%5D=1.8&pickMembers%5B1%5D=2.2&cubeTimeFrame.startMonth=09&cubeTimeFrame.startYear=2022&cubeTimeFrame.endMonth=01&cubeTimeFrame.endYear=2023&referencePeriods=20220901%2C20230128\n",
      "https://www150.statcan.gc.ca/t1/tbl1/en/tv.action?pid=1410020101&pickMembers%5B0%5D=1.8&pickMembers%5B1%5D=2.3&cubeTimeFrame.startMonth=09&cubeTimeFrame.startYear=2022&cubeTimeFrame.endMonth=01&cubeTimeFrame.endYear=2023&referencePeriods=20220901%2C20230128\n",
      "https://www150.statcan.gc.ca/t1/tbl1/en/tv.action?pid=1410020101&pickMembers%5B0%5D=1.9&pickMembers%5B1%5D=2.2&cubeTimeFrame.startMonth=09&cubeTimeFrame.startYear=2022&cubeTimeFrame.endMonth=01&cubeTimeFrame.endYear=2023&referencePeriods=20220901%2C20230128\n",
      "https://www150.statcan.gc.ca/t1/tbl1/en/tv.action?pid=1410020101&pickMembers%5B0%5D=1.9&pickMembers%5B1%5D=2.3&cubeTimeFrame.startMonth=09&cubeTimeFrame.startYear=2022&cubeTimeFrame.endMonth=01&cubeTimeFrame.endYear=2023&referencePeriods=20220901%2C20230128\n",
      "https://www150.statcan.gc.ca/t1/tbl1/en/tv.action?pid=1410020101&pickMembers%5B0%5D=1.10&pickMembers%5B1%5D=2.2&cubeTimeFrame.startMonth=09&cubeTimeFrame.startYear=2022&cubeTimeFrame.endMonth=01&cubeTimeFrame.endYear=2023&referencePeriods=20220901%2C20230128\n",
      "https://www150.statcan.gc.ca/t1/tbl1/en/tv.action?pid=1410020101&pickMembers%5B0%5D=1.10&pickMembers%5B1%5D=2.3&cubeTimeFrame.startMonth=09&cubeTimeFrame.startYear=2022&cubeTimeFrame.endMonth=01&cubeTimeFrame.endYear=2023&referencePeriods=20220901%2C20230128\n",
      "https://www150.statcan.gc.ca/t1/tbl1/en/tv.action?pid=1410020101&pickMembers%5B0%5D=1.11&pickMembers%5B1%5D=2.2&cubeTimeFrame.startMonth=09&cubeTimeFrame.startYear=2022&cubeTimeFrame.endMonth=01&cubeTimeFrame.endYear=2023&referencePeriods=20220901%2C20230128\n",
      "https://www150.statcan.gc.ca/t1/tbl1/en/tv.action?pid=1410020101&pickMembers%5B0%5D=1.11&pickMembers%5B1%5D=2.3&cubeTimeFrame.startMonth=09&cubeTimeFrame.startYear=2022&cubeTimeFrame.endMonth=01&cubeTimeFrame.endYear=2023&referencePeriods=20220901%2C20230128\n",
      "https://www150.statcan.gc.ca/t1/tbl1/en/tv.action?pid=1410020101&pickMembers%5B0%5D=1.12&pickMembers%5B1%5D=2.2&cubeTimeFrame.startMonth=09&cubeTimeFrame.startYear=2022&cubeTimeFrame.endMonth=01&cubeTimeFrame.endYear=2023&referencePeriods=20220901%2C20230128\n",
      "https://www150.statcan.gc.ca/t1/tbl1/en/tv.action?pid=1410020101&pickMembers%5B0%5D=1.12&pickMembers%5B1%5D=2.3&cubeTimeFrame.startMonth=09&cubeTimeFrame.startYear=2022&cubeTimeFrame.endMonth=01&cubeTimeFrame.endYear=2023&referencePeriods=20220901%2C20230128\n",
      "https://www150.statcan.gc.ca/t1/tbl1/en/tv.action?pid=1410020101&pickMembers%5B0%5D=1.14&pickMembers%5B1%5D=2.2&cubeTimeFrame.startMonth=09&cubeTimeFrame.startYear=2022&cubeTimeFrame.endMonth=01&cubeTimeFrame.endYear=2023&referencePeriods=20220901%2C20230128\n",
      "https://www150.statcan.gc.ca/t1/tbl1/en/tv.action?pid=1410020101&pickMembers%5B0%5D=1.14&pickMembers%5B1%5D=2.3&cubeTimeFrame.startMonth=09&cubeTimeFrame.startYear=2022&cubeTimeFrame.endMonth=01&cubeTimeFrame.endYear=2023&referencePeriods=20220901%2C20230128\n",
      "https://www150.statcan.gc.ca/t1/tbl1/en/tv.action?pid=1410020101&pickMembers%5B0%5D=1.15&pickMembers%5B1%5D=2.2&cubeTimeFrame.startMonth=09&cubeTimeFrame.startYear=2022&cubeTimeFrame.endMonth=01&cubeTimeFrame.endYear=2023&referencePeriods=20220901%2C20230128\n",
      "https://www150.statcan.gc.ca/t1/tbl1/en/tv.action?pid=1410020101&pickMembers%5B0%5D=1.15&pickMembers%5B1%5D=2.3&cubeTimeFrame.startMonth=09&cubeTimeFrame.startYear=2022&cubeTimeFrame.endMonth=01&cubeTimeFrame.endYear=2023&referencePeriods=20220901%2C20230128\n"
     ]
    }
   ],
   "source": [
    "# pick_members_dict = {}\n",
    "if pick_members_dict == {}:\n",
    "    url = 'https://www150.statcan.gc.ca/t1/tbl1/en/tv.action?pid=' + pid + '&cubeTimeFrame.startMonth='+ start_month + '&cubeTimeFrame.startYear=' + start_year + '&cubeTimeFrame.endMonth=' + end_month +'&cubeTimeFrame.endYear=' + end_year + '&referencePeriods=' + referencePeriods\n",
    "    print(url)\n",
    "else:\n",
    "    for x, y in combined_list_picker:\n",
    "        geography=pick_members_1_dict[x]\n",
    "        type_of_employee=pick_members_2_dict[y]\n",
    "        url = 'https://www150.statcan.gc.ca/t1/tbl1/en/tv.action?pid=' + pid + keys[0] + x + keys[1] + y + '&cubeTimeFrame.startMonth='+ start_month + '&cubeTimeFrame.startYear=' + start_year + '&cubeTimeFrame.endMonth=' + end_month +'&cubeTimeFrame.endYear=' + end_year + '&referencePeriods=' + referencePeriods\n",
    "        print(url)\n",
    "    "
   ]
  },
  {
   "cell_type": "code",
   "execution_count": null,
   "metadata": {},
   "outputs": [],
   "source": []
  }
 ],
 "metadata": {
  "kernelspec": {
   "display_name": ".venv",
   "language": "python",
   "name": "python3"
  },
  "language_info": {
   "codemirror_mode": {
    "name": "ipython",
    "version": 3
   },
   "file_extension": ".py",
   "mimetype": "text/x-python",
   "name": "python",
   "nbconvert_exporter": "python",
   "pygments_lexer": "ipython3",
   "version": "3.9.13"
  },
  "orig_nbformat": 4,
  "vscode": {
   "interpreter": {
    "hash": "761f37a02670cca8f02730e2c7755870b61864280cbbc348b34c69106b58d481"
   }
  }
 },
 "nbformat": 4,
 "nbformat_minor": 2
}
