{
 "cells": [
  {
   "cell_type": "code",
   "execution_count": 30,
   "metadata": {},
   "outputs": [],
   "source": [
    "from datetime import date\n",
    "from dateutil.relativedelta import relativedelta\n",
    "today = date.today()\n",
    "four_months_ago = date.today() - relativedelta(months=+4)"
   ]
  },
  {
   "cell_type": "code",
   "execution_count": 27,
   "metadata": {},
   "outputs": [
    {
     "name": "stdout",
     "output_type": "stream",
     "text": [
      "2022-07-08\n"
     ]
    }
   ],
   "source": [
    "\n",
    "\n",
    "# date=\"2022-12-22\"\n",
    "# geography=\"Canada\"\n",
    "# type_of_employee=\"Salaried employees paid a fixed salary\"\n",
    "# month= \"January 2022\"\n",
    "\n",
    "# query = \"SELECT * FROM \" + table_name +  \" WHERE date = '\" + date + \"' AND geography = '\" + geography + \"' AND type_of_employee = '\" + type_of_employee + \"' AND month = '\" + month + \"';\""
   ]
  },
  {
   "cell_type": "code",
   "execution_count": 31,
   "metadata": {},
   "outputs": [],
   "source": [
    "pid=str(1410020101)\n",
    "pickMembers1=str(1.3)\n",
    "pickMembers2=str(2.1)\n",
    "startMonth=str(four_months_ago.month).zfill(2)\n",
    "startYear=str(four_months_ago.year)\n",
    "endMonth=str(today.month).zfill(2)\n",
    "endYear=str(today.year)\n",
    "referencePeriods = startYear + startMonth + \"01\" + \"%2C\" + endYear + endMonth + \"28\" \n",
    "table_name = \"monthly_employment_by_industry\"\n",
    "\n",
    "list_pick_members1 = [\"1.1\", \"1.2\", \"1.3\", \"1.4\", \"1.5\", \"1.6\", \"1.7\", \"1.8\", \"1.9\", \"1.10\", \"1.11\", \"1.12\", \"1.14\", \"1.15\"]\n",
    "list_pick_names1 = [\"Canada\", \"Newfoundland and Labrador\", \"Prince Edward Island\", \"Nova Scotia\", \"New Brunswick\", \"Quebec\", \"Ontario\", \"Manitoba\", \"Saskatchewan\", \"Alberta\", \"British Columbia\", \"Yukon\", \"Northwest Territories\", \"Nunavut\"]\n",
    "\n",
    "list_pick_members2 = [\"2.2\", \"2.3\"]\n",
    "list_pick_names2 = [\"Salaried employees paid a fixed salary\", \"Hourly paid employees\"]\n",
    "\n",
    "url = 'https://www150.statcan.gc.ca/t1/tbl1/en/tv.action?pid=' + pid + '&pickMembers%5B0%5D='+ '1.1' + '&pickMembers%5B1%5D='+ '1.2' + '&cubeTimeFrame.startMonth='+ startMonth + '&cubeTimeFrame.startYear=' + startYear + '&cubeTimeFrame.endMonth=' + endMonth +'&cubeTimeFrame.endYear=' + endYear + '&referencePeriods=' + referencePeriods"
   ]
  },
  {
   "cell_type": "code",
   "execution_count": 32,
   "metadata": {},
   "outputs": [
    {
     "name": "stdout",
     "output_type": "stream",
     "text": [
      "https://www150.statcan.gc.ca/t1/tbl1/en/tv.action?pid=1410020101&pickMembers%5B0%5D=1.1&pickMembers%5B1%5D=1.2&cubeTimeFrame.startMonth=11&cubeTimeFrame.startYear=2022&cubeTimeFrame.endMonth=01&cubeTimeFrame.endYear=2023&referencePeriods=20221101%2C20230128\n"
     ]
    }
   ],
   "source": [
    "print(url)\n",
    "# result = [(x, y) for x in list_pick_members1 for y in list_pick_members2]"
   ]
  },
  {
   "cell_type": "code",
   "execution_count": 13,
   "metadata": {},
   "outputs": [
    {
     "name": "stdout",
     "output_type": "stream",
     "text": [
      "https://www150.statcan.gc.ca/t1/tbl1/en/tv.action?pid=1410020101&pickMembers%5B0%5D=1.1&pickMembers%5B1%5D=2.2&cubeTimeFrame.startMonth=01&cubeTimeFrame.startYear=2023&cubeTimeFrame.endMonth=10&cubeTimeFrame.endYear=2022 &referencePeriods=20230101%2C20221028\n",
      "https://www150.statcan.gc.ca/t1/tbl1/en/tv.action?pid=1410020101&pickMembers%5B0%5D=1.1&pickMembers%5B1%5D=2.3&cubeTimeFrame.startMonth=01&cubeTimeFrame.startYear=2023&cubeTimeFrame.endMonth=10&cubeTimeFrame.endYear=2022 &referencePeriods=20230101%2C20221028\n",
      "https://www150.statcan.gc.ca/t1/tbl1/en/tv.action?pid=1410020101&pickMembers%5B0%5D=1.2&pickMembers%5B1%5D=2.2&cubeTimeFrame.startMonth=01&cubeTimeFrame.startYear=2023&cubeTimeFrame.endMonth=10&cubeTimeFrame.endYear=2022 &referencePeriods=20230101%2C20221028\n",
      "https://www150.statcan.gc.ca/t1/tbl1/en/tv.action?pid=1410020101&pickMembers%5B0%5D=1.2&pickMembers%5B1%5D=2.3&cubeTimeFrame.startMonth=01&cubeTimeFrame.startYear=2023&cubeTimeFrame.endMonth=10&cubeTimeFrame.endYear=2022 &referencePeriods=20230101%2C20221028\n",
      "https://www150.statcan.gc.ca/t1/tbl1/en/tv.action?pid=1410020101&pickMembers%5B0%5D=1.3&pickMembers%5B1%5D=2.2&cubeTimeFrame.startMonth=01&cubeTimeFrame.startYear=2023&cubeTimeFrame.endMonth=10&cubeTimeFrame.endYear=2022 &referencePeriods=20230101%2C20221028\n",
      "https://www150.statcan.gc.ca/t1/tbl1/en/tv.action?pid=1410020101&pickMembers%5B0%5D=1.3&pickMembers%5B1%5D=2.3&cubeTimeFrame.startMonth=01&cubeTimeFrame.startYear=2023&cubeTimeFrame.endMonth=10&cubeTimeFrame.endYear=2022 &referencePeriods=20230101%2C20221028\n",
      "https://www150.statcan.gc.ca/t1/tbl1/en/tv.action?pid=1410020101&pickMembers%5B0%5D=1.4&pickMembers%5B1%5D=2.2&cubeTimeFrame.startMonth=01&cubeTimeFrame.startYear=2023&cubeTimeFrame.endMonth=10&cubeTimeFrame.endYear=2022 &referencePeriods=20230101%2C20221028\n",
      "https://www150.statcan.gc.ca/t1/tbl1/en/tv.action?pid=1410020101&pickMembers%5B0%5D=1.4&pickMembers%5B1%5D=2.3&cubeTimeFrame.startMonth=01&cubeTimeFrame.startYear=2023&cubeTimeFrame.endMonth=10&cubeTimeFrame.endYear=2022 &referencePeriods=20230101%2C20221028\n",
      "https://www150.statcan.gc.ca/t1/tbl1/en/tv.action?pid=1410020101&pickMembers%5B0%5D=1.5&pickMembers%5B1%5D=2.2&cubeTimeFrame.startMonth=01&cubeTimeFrame.startYear=2023&cubeTimeFrame.endMonth=10&cubeTimeFrame.endYear=2022 &referencePeriods=20230101%2C20221028\n",
      "https://www150.statcan.gc.ca/t1/tbl1/en/tv.action?pid=1410020101&pickMembers%5B0%5D=1.5&pickMembers%5B1%5D=2.3&cubeTimeFrame.startMonth=01&cubeTimeFrame.startYear=2023&cubeTimeFrame.endMonth=10&cubeTimeFrame.endYear=2022 &referencePeriods=20230101%2C20221028\n",
      "https://www150.statcan.gc.ca/t1/tbl1/en/tv.action?pid=1410020101&pickMembers%5B0%5D=1.6&pickMembers%5B1%5D=2.2&cubeTimeFrame.startMonth=01&cubeTimeFrame.startYear=2023&cubeTimeFrame.endMonth=10&cubeTimeFrame.endYear=2022 &referencePeriods=20230101%2C20221028\n",
      "https://www150.statcan.gc.ca/t1/tbl1/en/tv.action?pid=1410020101&pickMembers%5B0%5D=1.6&pickMembers%5B1%5D=2.3&cubeTimeFrame.startMonth=01&cubeTimeFrame.startYear=2023&cubeTimeFrame.endMonth=10&cubeTimeFrame.endYear=2022 &referencePeriods=20230101%2C20221028\n",
      "https://www150.statcan.gc.ca/t1/tbl1/en/tv.action?pid=1410020101&pickMembers%5B0%5D=1.7&pickMembers%5B1%5D=2.2&cubeTimeFrame.startMonth=01&cubeTimeFrame.startYear=2023&cubeTimeFrame.endMonth=10&cubeTimeFrame.endYear=2022 &referencePeriods=20230101%2C20221028\n",
      "https://www150.statcan.gc.ca/t1/tbl1/en/tv.action?pid=1410020101&pickMembers%5B0%5D=1.7&pickMembers%5B1%5D=2.3&cubeTimeFrame.startMonth=01&cubeTimeFrame.startYear=2023&cubeTimeFrame.endMonth=10&cubeTimeFrame.endYear=2022 &referencePeriods=20230101%2C20221028\n",
      "https://www150.statcan.gc.ca/t1/tbl1/en/tv.action?pid=1410020101&pickMembers%5B0%5D=1.8&pickMembers%5B1%5D=2.2&cubeTimeFrame.startMonth=01&cubeTimeFrame.startYear=2023&cubeTimeFrame.endMonth=10&cubeTimeFrame.endYear=2022 &referencePeriods=20230101%2C20221028\n",
      "https://www150.statcan.gc.ca/t1/tbl1/en/tv.action?pid=1410020101&pickMembers%5B0%5D=1.8&pickMembers%5B1%5D=2.3&cubeTimeFrame.startMonth=01&cubeTimeFrame.startYear=2023&cubeTimeFrame.endMonth=10&cubeTimeFrame.endYear=2022 &referencePeriods=20230101%2C20221028\n",
      "https://www150.statcan.gc.ca/t1/tbl1/en/tv.action?pid=1410020101&pickMembers%5B0%5D=1.9&pickMembers%5B1%5D=2.2&cubeTimeFrame.startMonth=01&cubeTimeFrame.startYear=2023&cubeTimeFrame.endMonth=10&cubeTimeFrame.endYear=2022 &referencePeriods=20230101%2C20221028\n",
      "https://www150.statcan.gc.ca/t1/tbl1/en/tv.action?pid=1410020101&pickMembers%5B0%5D=1.9&pickMembers%5B1%5D=2.3&cubeTimeFrame.startMonth=01&cubeTimeFrame.startYear=2023&cubeTimeFrame.endMonth=10&cubeTimeFrame.endYear=2022 &referencePeriods=20230101%2C20221028\n",
      "https://www150.statcan.gc.ca/t1/tbl1/en/tv.action?pid=1410020101&pickMembers%5B0%5D=1.10&pickMembers%5B1%5D=2.2&cubeTimeFrame.startMonth=01&cubeTimeFrame.startYear=2023&cubeTimeFrame.endMonth=10&cubeTimeFrame.endYear=2022 &referencePeriods=20230101%2C20221028\n",
      "https://www150.statcan.gc.ca/t1/tbl1/en/tv.action?pid=1410020101&pickMembers%5B0%5D=1.10&pickMembers%5B1%5D=2.3&cubeTimeFrame.startMonth=01&cubeTimeFrame.startYear=2023&cubeTimeFrame.endMonth=10&cubeTimeFrame.endYear=2022 &referencePeriods=20230101%2C20221028\n",
      "https://www150.statcan.gc.ca/t1/tbl1/en/tv.action?pid=1410020101&pickMembers%5B0%5D=1.11&pickMembers%5B1%5D=2.2&cubeTimeFrame.startMonth=01&cubeTimeFrame.startYear=2023&cubeTimeFrame.endMonth=10&cubeTimeFrame.endYear=2022 &referencePeriods=20230101%2C20221028\n",
      "https://www150.statcan.gc.ca/t1/tbl1/en/tv.action?pid=1410020101&pickMembers%5B0%5D=1.11&pickMembers%5B1%5D=2.3&cubeTimeFrame.startMonth=01&cubeTimeFrame.startYear=2023&cubeTimeFrame.endMonth=10&cubeTimeFrame.endYear=2022 &referencePeriods=20230101%2C20221028\n",
      "https://www150.statcan.gc.ca/t1/tbl1/en/tv.action?pid=1410020101&pickMembers%5B0%5D=1.12&pickMembers%5B1%5D=2.2&cubeTimeFrame.startMonth=01&cubeTimeFrame.startYear=2023&cubeTimeFrame.endMonth=10&cubeTimeFrame.endYear=2022 &referencePeriods=20230101%2C20221028\n",
      "https://www150.statcan.gc.ca/t1/tbl1/en/tv.action?pid=1410020101&pickMembers%5B0%5D=1.12&pickMembers%5B1%5D=2.3&cubeTimeFrame.startMonth=01&cubeTimeFrame.startYear=2023&cubeTimeFrame.endMonth=10&cubeTimeFrame.endYear=2022 &referencePeriods=20230101%2C20221028\n",
      "https://www150.statcan.gc.ca/t1/tbl1/en/tv.action?pid=1410020101&pickMembers%5B0%5D=1.14&pickMembers%5B1%5D=2.2&cubeTimeFrame.startMonth=01&cubeTimeFrame.startYear=2023&cubeTimeFrame.endMonth=10&cubeTimeFrame.endYear=2022 &referencePeriods=20230101%2C20221028\n",
      "https://www150.statcan.gc.ca/t1/tbl1/en/tv.action?pid=1410020101&pickMembers%5B0%5D=1.14&pickMembers%5B1%5D=2.3&cubeTimeFrame.startMonth=01&cubeTimeFrame.startYear=2023&cubeTimeFrame.endMonth=10&cubeTimeFrame.endYear=2022 &referencePeriods=20230101%2C20221028\n",
      "https://www150.statcan.gc.ca/t1/tbl1/en/tv.action?pid=1410020101&pickMembers%5B0%5D=1.15&pickMembers%5B1%5D=2.2&cubeTimeFrame.startMonth=01&cubeTimeFrame.startYear=2023&cubeTimeFrame.endMonth=10&cubeTimeFrame.endYear=2022 &referencePeriods=20230101%2C20221028\n",
      "https://www150.statcan.gc.ca/t1/tbl1/en/tv.action?pid=1410020101&pickMembers%5B0%5D=1.15&pickMembers%5B1%5D=2.3&cubeTimeFrame.startMonth=01&cubeTimeFrame.startYear=2023&cubeTimeFrame.endMonth=10&cubeTimeFrame.endYear=2022 &referencePeriods=20230101%2C20221028\n"
     ]
    }
   ],
   "source": [
    "for x, y in result:\n",
    "    url = 'https://www150.statcan.gc.ca/t1/tbl1/en/tv.action?pid=' + pid + '&pickMembers%5B0%5D='+ x + '&pickMembers%5B1%5D='+ y + '&cubeTimeFrame.startMonth='+ startMonth + '&cubeTimeFrame.startYear=' + startYear + '&cubeTimeFrame.endMonth=' + endMonth + '&cubeTimeFrame.endYear=' + endYear + ' &referencePeriods=' + referencePeriods\n",
    "    print(url)"
   ]
  },
  {
   "cell_type": "code",
   "execution_count": 6,
   "metadata": {},
   "outputs": [],
   "source": [
    "url = 'https://www150.statcan.gc.ca/t1/tbl1/en/tv.action?pid=1410020101&pickMembers%5B0%5D=1.1&pickMembers%5B1%5D=2.2&cubeTimeFrame.startMonth=12&cubeTimeFrame.startYear=2022&cubeTimeFrame.endMonth=01&cubeTimeFrame.endYear=2023%20&referencePeriods=20221201%2C20230128'"
   ]
  },
  {
   "cell_type": "code",
   "execution_count": 7,
   "metadata": {},
   "outputs": [
    {
     "name": "stdout",
     "output_type": "stream",
     "text": [
      "https://www150.statcan.gc.ca/t1/tbl1/en/tv.action?pid=1410020101&pickMembers%5B0%5D=1.1&pickMembers%5B1%5D=2.2&cubeTimeFrame.startMonth=12&cubeTimeFrame.startYear=2022&cubeTimeFrame.endMonth=01&cubeTimeFrame.endYear=2023%20&referencePeriods=20221201%2C20230128\n"
     ]
    }
   ],
   "source": [
    "print(url)"
   ]
  },
  {
   "cell_type": "code",
   "execution_count": null,
   "metadata": {},
   "outputs": [],
   "source": []
  }
 ],
 "metadata": {
  "kernelspec": {
   "display_name": "base",
   "language": "python",
   "name": "python3"
  },
  "language_info": {
   "codemirror_mode": {
    "name": "ipython",
    "version": 3
   },
   "file_extension": ".py",
   "mimetype": "text/x-python",
   "name": "python",
   "nbconvert_exporter": "python",
   "pygments_lexer": "ipython3",
   "version": "3.9.12"
  },
  "orig_nbformat": 4,
  "vscode": {
   "interpreter": {
    "hash": "8d057af1a5c49b4bed786b95378487de8898a19ac88ffccdd8bd5a4534c5371a"
   }
  }
 },
 "nbformat": 4,
 "nbformat_minor": 2
}
