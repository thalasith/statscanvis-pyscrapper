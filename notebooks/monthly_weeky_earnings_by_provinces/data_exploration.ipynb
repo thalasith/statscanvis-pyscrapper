{
 "cells": [
  {
   "cell_type": "code",
   "execution_count": 1,
   "metadata": {},
   "outputs": [],
   "source": [
    "import os\n",
    "import sys\n",
    "from dotenv import load_dotenv\n",
    "load_dotenv()\n",
    "import sys\n",
    "sys.path.insert(1, os.getenv('LIBRARY_PATH'))\n",
    "from datetime import date\n",
    "from dateutil.relativedelta import relativedelta\n",
    "import scrapper\n",
    "import data_pipeline"
   ]
  },
  {
   "cell_type": "code",
   "execution_count": 2,
   "metadata": {},
   "outputs": [],
   "source": [
    "url = \"https://www150.statcan.gc.ca/t1/tbl1/en/tv.action?pid=1410022301&pickMembers%5B0%5D=2.2&pickMembers%5B1%5D=3.35&cubeTimeFrame.startMonth=06&cubeTimeFrame.startYear=2022&cubeTimeFrame.endMonth=10&cubeTimeFrame.endYear=2022&referencePeriods=20220601%2C20221001\"\n",
    "\n",
    "table = \"1410022301\"\n",
    "def clean_string(string):\n",
    "    return string.replace(\" \", \"_\").replace(\",\",\"\").replace(\"(\",\"\").replace(\")\",\"\").replace(\"-\",\"_\").replace(\"__\",\"_\").lower()[:60]"
   ]
  },
  {
   "cell_type": "code",
   "execution_count": 3,
   "metadata": {},
   "outputs": [],
   "source": [
    "\n",
    "industries_dict = {'3.1': 'industrial_aggregate_including_unclassified_businesses', '3.2': 'industrial_aggregate_excluding_unclassified_businesses', '3.3': 'goods_producing_industries', '3.4': 'forestry_logging_and_support', '3.10': 'mining_quarrying_and_oil_and_gas_extraction', '3.17': 'utilities', '3.21': 'construction', '3.34': 'manufacturing', '3.143': 'service_producing_industries', '3.144': 'trade', '3.215': 'transportation_and_warehousing', '3.253': 'information_and_cultural_industries', '3.267': 'finance_and_insurance', '3.284': 'real_estate_and_rental_and_leasing', '3.295': 'professional_scientific_and_technical_services', '3.306': 'management_of_companies_and_enterprises', '3.321': 'educational_services', '3.331': 'health_care_and_social_assistance', '3.354': 'arts_entertainment_and_recreation', '3.367': 'accommodation_and_food_services', '3.377': 'other_services_except_public_administration', '3.393': 'public_administration'}\n",
    "pick_members_2 = {\"names\": ['2.2'], \"values\": ['average_weekly_earnings']}\n",
    "pick_members_3 = {\"names\": ['3.1', '3.2', '3.3', '3.4', '3.10', '3.17', '3.21', '3.34', '3.143', '3.144', '3.215', '3.253', '3.267', '3.284', '3.295', '3.306', '3.321', '3.331', '3.354', '3.367', '3.377', '3.393'],\"values\": ['industrial_aggregate_including_unclassified_businesses', 'industrial_aggregate_excluding_unclassified_businesses', 'goods_producing_industries', 'forestry_logging_and_support', 'mining_quarrying_and_oil_and_gas_extraction', 'utilities', 'construction', 'manufacturing', 'service_producing_industries', 'trade', 'transportation_and_warehousing', 'information_and_cultural_industries', 'finance_and_insurance', 'real_estate_and_rental_and_leasing', 'professional_scientific_and_technical_services', 'management_of_companies_and_enterprises', 'educational_services', 'health_care_and_social_assistance', 'arts_entertainment_and_recreation', 'accommodation_and_food_services', 'other_services_except_public_administration', 'public_administration'] }\n",
    "pick_members_dict = {\"&pickMembers%5B0%5D=\": pick_members_2, \"&pickMembers%5B1%5D=\": pick_members_3}\n",
    "filter_names = {\"pick_member_1\": \"Estimate\", \"pick_member_2\": \"North American Industry Classification System (NAICS)\"}\n",
    "table_name = \"average_weekly_earnings_by_industry\"\n",
    "filter_keys = list(filter_names.keys())\n",
    "filter_values = list(filter_names.values())"
   ]
  },
  {
   "cell_type": "code",
   "execution_count": 4,
   "metadata": {},
   "outputs": [],
   "source": [
    "pid=\"1410022301\"\n",
    "pickMembers1=str(1.3)\n",
    "pickMembers2=str(2.1)\n",
    "start_month=\"01\"\n",
    "start_year=\"2022\"\n",
    "end_month=\"12\"\n",
    "end_year=\"2022\"\n",
    "referencePeriods=\"20220101%2C20221001\"\n",
    "\n",
    "conn_string = 'mysql+pymysql://' + os.environ[\"USERNAME\"] + ':' + os.environ[\"PASSWORD\"] + '@' + os.environ[\"HOST\"] + '/' + os.environ[\"DATABASE\"] \n",
    "\n",
    "keys = list(pick_members_dict.keys())\n",
    "values = list((pick_members_dict[key][\"names\"] for key in keys))\n",
    "\n",
    "pick_members_1_dict = dict(zip(pick_members_dict[\"&pickMembers%5B0%5D=\"][\"names\"], pick_members_dict[\"&pickMembers%5B0%5D=\"][\"values\"]))\n",
    "pick_members_2_dict = dict(zip(pick_members_dict[\"&pickMembers%5B1%5D=\"][\"names\"], pick_members_dict[\"&pickMembers%5B1%5D=\"][\"values\"]))\n",
    "result = [(x, y) for x in values[0] for y in values[1]]\n"
   ]
  },
  {
   "cell_type": "code",
   "execution_count": 5,
   "metadata": {},
   "outputs": [
    {
     "name": "stdout",
     "output_type": "stream",
     "text": [
      "[('2.2', '3.1'), ('2.2', '3.2'), ('2.2', '3.3'), ('2.2', '3.4'), ('2.2', '3.10'), ('2.2', '3.17'), ('2.2', '3.21'), ('2.2', '3.34'), ('2.2', '3.143'), ('2.2', '3.144'), ('2.2', '3.215'), ('2.2', '3.253'), ('2.2', '3.267'), ('2.2', '3.284'), ('2.2', '3.295'), ('2.2', '3.306'), ('2.2', '3.321'), ('2.2', '3.331'), ('2.2', '3.354'), ('2.2', '3.367'), ('2.2', '3.377'), ('2.2', '3.393')]\n"
     ]
    }
   ],
   "source": [
    "print(result)"
   ]
  },
  {
   "cell_type": "code",
   "execution_count": 6,
   "metadata": {},
   "outputs": [],
   "source": [
    "import pandas as pd\n",
    "final_df = pd.DataFrame()"
   ]
  },
  {
   "cell_type": "code",
   "execution_count": 7,
   "metadata": {},
   "outputs": [],
   "source": [
    "# for x, y in result:\n",
    "#     estimate = pick_members_1_dict[x]\n",
    "#     industry = pick_members_2_dict[y]\n",
    "\n",
    "#     url = 'https://www150.statcan.gc.ca/t1/tbl1/en/tv.action?pid=' + pid + '&pickMembers%5B0%5D='+ x + '&pickMembers%5B1%5D='+ y + '&cubeTimeFrame.startMonth='+ start_month + '&cubeTimeFrame.startYear=' + start_year + '&cubeTimeFrame.endMonth=' + end_month +'&cubeTimeFrame.endYear=' + end_year + '&referencePeriods=' + referencePeriods\n",
    "#     test_df = scrapper.simple_scrapper(url, filter_names)\n",
    "\n",
    "    \n",
    "#     new_test_df = test_df.melt(['date', 'month'], var_name='industry', value_name=industry)\n",
    "#     if final_df.empty:\n",
    "#         final_df[\"month\"] = new_test_df[\"month\"]\n",
    "#         final_df[\"date\"] = new_test_df[\"date\"]\n",
    "        \n",
    "#     final_df[industry] = new_test_df[industry]\n",
    "#     print(\"Running for: \" + estimate + \" \" + industry)\n"
   ]
  },
  {
   "cell_type": "code",
   "execution_count": 8,
   "metadata": {},
   "outputs": [],
   "source": [
    "today = date.today()\n",
    "four_months_ago = date.today() - relativedelta(months=+4)\n",
    "start_month=str(four_months_ago.month).zfill(2)\n",
    "start_year=str(four_months_ago.year)\n",
    "end_month=str(today.month).zfill(2)\n",
    "end_year=str(today.year)\n",
    "referencePeriods = start_year + start_month + \"01\" + \"%2C\" + end_year + end_month + \"28\" \n",
    "final_df = pd.DataFrame()"
   ]
  },
  {
   "cell_type": "code",
   "execution_count": 13,
   "metadata": {},
   "outputs": [
    {
     "name": "stdout",
     "output_type": "stream",
     "text": [
      "estimate\n",
      "Running for: average_weekly_earnings industrial_aggregate_including_unclassified_businesses\n",
      "estimate\n",
      "Running for: average_weekly_earnings industrial_aggregate_excluding_unclassified_businesses\n",
      "estimate\n",
      "Running for: average_weekly_earnings goods_producing_industries\n",
      "estimate\n",
      "Running for: average_weekly_earnings forestry_logging_and_support\n",
      "estimate\n",
      "Running for: average_weekly_earnings mining_quarrying_and_oil_and_gas_extraction\n",
      "estimate\n",
      "Running for: average_weekly_earnings utilities\n",
      "estimate\n",
      "Running for: average_weekly_earnings construction\n",
      "estimate\n",
      "Running for: average_weekly_earnings manufacturing\n",
      "estimate\n",
      "Running for: average_weekly_earnings service_producing_industries\n",
      "estimate\n",
      "Running for: average_weekly_earnings trade\n",
      "estimate\n",
      "Running for: average_weekly_earnings transportation_and_warehousing\n",
      "estimate\n",
      "Running for: average_weekly_earnings information_and_cultural_industries\n",
      "estimate\n",
      "Running for: average_weekly_earnings finance_and_insurance\n",
      "estimate\n",
      "Running for: average_weekly_earnings real_estate_and_rental_and_leasing\n",
      "estimate\n",
      "Running for: average_weekly_earnings professional_scientific_and_technical_services\n",
      "estimate\n",
      "Running for: average_weekly_earnings management_of_companies_and_enterprises\n",
      "estimate\n",
      "Running for: average_weekly_earnings educational_services\n",
      "estimate\n",
      "Running for: average_weekly_earnings health_care_and_social_assistance\n",
      "estimate\n",
      "Running for: average_weekly_earnings arts_entertainment_and_recreation\n",
      "estimate\n",
      "Running for: average_weekly_earnings accommodation_and_food_services\n",
      "estimate\n",
      "Running for: average_weekly_earnings other_services_except_public_administration\n",
      "estimate\n",
      "Running for: average_weekly_earnings public_administration\n"
     ]
    }
   ],
   "source": [
    "\n",
    "for x, y in result:\n",
    "    pick_member_1 = pick_members_1_dict[x]\n",
    "    pick_member_2 = pick_members_2_dict[y]\n",
    "\n",
    "    url = 'https://www150.statcan.gc.ca/t1/tbl1/en/tv.action?pid=' + pid + '&pickMembers%5B0%5D='+ x + '&pickMembers%5B1%5D='+ y + '&cubeTimeFrame.startMonth='+ start_month + '&cubeTimeFrame.startYear=' + start_year + '&cubeTimeFrame.endMonth=' + end_month +'&cubeTimeFrame.endYear=' + end_year + '&referencePeriods=' + referencePeriods\n",
    "    test_df = scrapper.simple_scrapper(url, list(filter_names.values())).iloc[-1]\n",
    "    \n",
    "    new_test_df = pd.DataFrame(test_df).T.melt(['date', 'month'], var_name='province', value_name=pick_member_2)\n",
    "    latest_month = new_test_df[\"month\"]\n",
    "    \n",
    "    if final_df.empty:\n",
    "        final_df[\"month\"] = new_test_df[\"month\"]\n",
    "        final_df[\"date\"] = new_test_df[\"date\"]\n",
    "        \n",
    "    final_df[pick_member_2] = new_test_df[pick_member_2]\n",
    "    print( clean_string(filter_values[0]))\n",
    "    # print(\"SELECT FROM \" + table_name +  \" WHERE '\" + clean_string(filter_values[0]) + \"' = '\" + pick_member_1 + \"' AND '\" + clean_string(filter_values[1]) + \"' = '\" + pick_member_2 + \"' AND month = '\" + latest_month + \"';\")\n",
    "    print(\"Running for: \" + pick_member_1 + \" \" + pick_member_2)"
   ]
  },
  {
   "cell_type": "code",
   "execution_count": null,
   "metadata": {},
   "outputs": [],
   "source": [
    "# average_weekly_earnings = data_pipeline.data_pipeline_job(pid, [\"average_weekly_earnings\"], pick_members_dict, filter_names, transpose=True)\n",
    "# average_weekly_earnings.drop(average_weekly_earnings.tail(2).index, inplace = True)"
   ]
  }
 ],
 "metadata": {
  "kernelspec": {
   "display_name": "base",
   "language": "python",
   "name": "python3"
  },
  "language_info": {
   "codemirror_mode": {
    "name": "ipython",
    "version": 3
   },
   "file_extension": ".py",
   "mimetype": "text/x-python",
   "name": "python",
   "nbconvert_exporter": "python",
   "pygments_lexer": "ipython3",
   "version": "3.9.12"
  },
  "orig_nbformat": 4,
  "vscode": {
   "interpreter": {
    "hash": "8d057af1a5c49b4bed786b95378487de8898a19ac88ffccdd8bd5a4534c5371a"
   }
  }
 },
 "nbformat": 4,
 "nbformat_minor": 2
}
