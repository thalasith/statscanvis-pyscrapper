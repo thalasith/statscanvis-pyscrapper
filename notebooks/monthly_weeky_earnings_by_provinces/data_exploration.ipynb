{
 "cells": [
  {
   "cell_type": "code",
   "execution_count": 1,
   "metadata": {},
   "outputs": [],
   "source": [
    "import os\n",
    "import sys\n",
    "from dotenv import load_dotenv\n",
    "load_dotenv()\n",
    "import sys\n",
    "sys.path.insert(1, os.getenv('LIBRARY_PATH'))\n",
    "from datetime import date\n",
    "from dateutil.relativedelta import relativedelta\n",
    "import scrapper"
   ]
  },
  {
   "cell_type": "code",
   "execution_count": 2,
   "metadata": {},
   "outputs": [],
   "source": [
    "url = \"https://www150.statcan.gc.ca/t1/tbl1/en/tv.action?pid=1410022301&pickMembers%5B0%5D=2.2&pickMembers%5B1%5D=3.35&cubeTimeFrame.startMonth=06&cubeTimeFrame.startYear=2022&cubeTimeFrame.endMonth=10&cubeTimeFrame.endYear=2022&referencePeriods=20220601%2C20221001\"\n",
    "\n",
    "table = \"1410022301\"\n",
    "\n",
    "# test = scrapper.simple_scrapper(url, [])\n"
   ]
  },
  {
   "cell_type": "code",
   "execution_count": 55,
   "metadata": {},
   "outputs": [],
   "source": [
    "\n",
    "industries_dict = {'3.1': 'industrial_aggregate_including_unclassified_businesses', '3.2': 'industrial_aggregate_excluding_unclassified_businesses', '3.3': 'goods_producing_industries', '3.4': 'forestry_logging_and_support', '3.10': 'mining_quarrying_and_oil_and_gas_extraction', '3.17': 'utilities', '3.21': 'construction', '3.34': 'manufacturing', '3.143': 'service_producing_industries', '3.144': 'trade', '3.215': 'transportation_and_warehousing', '3.253': 'information_and_cultural_industries', '3.267': 'finance_and_insurance', '3.284': 'real_estate_and_rental_and_leasing', '3.295': 'professional_scientific_and_technical_services', '3.306': 'management_of_companies_and_enterprises', '3.321': 'educational_services', '3.331': 'health_care_and_social_assistance', '3.354': 'arts_entertainment_and_recreation', '3.367': 'accommodation_and_food_services', '3.377': 'other_services_except_public_administration', '3.393': 'public_administration'}\n",
    "pick_members_2 = {\"names\": ['2.2'], \"values\": ['average_weekly_earnings']}\n",
    "pick_members_3 = {\"names\": ['3.1', '3.2', '3.3', '3.4', '3.10', '3.17', '3.21', '3.34', '3.143', '3.144', '3.215', '3.253', '3.267', '3.284', '3.295', '3.306', '3.321', '3.331', '3.354', '3.367', '3.377', '3.393'],\"values\": ['industrial_aggregate_including_unclassified_businesses', 'industrial_aggregate_excluding_unclassified_businesses', 'goods_producing_industries', 'forestry_logging_and_support', 'mining_quarrying_and_oil_and_gas_extraction', 'utilities', 'construction', 'manufacturing', 'service_producing_industries', 'trade', 'transportation_and_warehousing', 'information_and_cultural_industries', 'finance_and_insurance', 'real_estate_and_rental_and_leasing', 'professional_scientific_and_technical_services', 'management_of_companies_and_enterprises', 'educational_services', 'health_care_and_social_assistance', 'arts_entertainment_and_recreation', 'accommodation_and_food_services', 'other_services_except_public_administration', 'public_administration'] }\n",
    "pick_members_dict = {\"&pickMembers%5B0%5D=\": pick_members_2, \"&pickMembers%5B1%5D=\": pick_members_3}\n",
    "filter_names = []"
   ]
  },
  {
   "cell_type": "code",
   "execution_count": 56,
   "metadata": {},
   "outputs": [],
   "source": [
    "pid=\"1410022301\"\n",
    "pickMembers1=str(1.3)\n",
    "pickMembers2=str(2.1)\n",
    "start_month=\"01\"\n",
    "start_year=\"2022\"\n",
    "end_month=\"12\"\n",
    "end_year=\"2022\"\n",
    "referencePeriods=\"20220101%2C20221001\"\n",
    "# today = date.today()\n",
    "# four_months_ago = date.today() - relativedelta(months=+4)\n",
    "# start_month=str(four_months_ago.month).zfill(2)\n",
    "# start_year=str(four_months_ago.year)\n",
    "# end_month=str(today.month).zfill(2)\n",
    "# end_year=str(today.year)\n",
    "# referencePeriods = start_year + start_month + \"01\" + \"%2C\" + end_year + end_month + \"28\" \n",
    "\n",
    "conn_string = 'mysql+pymysql://' + os.environ[\"USERNAME\"] + ':' + os.environ[\"PASSWORD\"] + '@' + os.environ[\"HOST\"] + '/' + os.environ[\"DATABASE\"] \n",
    "\n",
    "keys = list(pick_members_dict.keys())\n",
    "values = list((pick_members_dict[key][\"names\"] for key in keys))\n",
    "\n",
    "pick_members_1_dict = dict(zip(pick_members_dict[\"&pickMembers%5B0%5D=\"][\"names\"], pick_members_dict[\"&pickMembers%5B0%5D=\"][\"values\"]))\n",
    "pick_members_2_dict = dict(zip(pick_members_dict[\"&pickMembers%5B1%5D=\"][\"names\"], pick_members_dict[\"&pickMembers%5B1%5D=\"][\"values\"]))\n",
    "result = [(x, y) for x in values[0] for y in values[1]]\n"
   ]
  },
  {
   "cell_type": "code",
   "execution_count": 57,
   "metadata": {},
   "outputs": [
    {
     "name": "stdout",
     "output_type": "stream",
     "text": [
      "[('2.2', '3.1'), ('2.2', '3.2'), ('2.2', '3.3'), ('2.2', '3.4'), ('2.2', '3.10'), ('2.2', '3.17'), ('2.2', '3.21'), ('2.2', '3.34'), ('2.2', '3.143'), ('2.2', '3.144'), ('2.2', '3.215'), ('2.2', '3.253'), ('2.2', '3.267'), ('2.2', '3.284'), ('2.2', '3.295'), ('2.2', '3.306'), ('2.2', '3.321'), ('2.2', '3.331'), ('2.2', '3.354'), ('2.2', '3.367'), ('2.2', '3.377'), ('2.2', '3.393')]\n"
     ]
    }
   ],
   "source": [
    "print(result)"
   ]
  },
  {
   "cell_type": "code",
   "execution_count": 58,
   "metadata": {},
   "outputs": [],
   "source": [
    "import pandas as pd\n",
    "final_df = pd.DataFrame()"
   ]
  },
  {
   "cell_type": "code",
   "execution_count": 61,
   "metadata": {},
   "outputs": [
    {
     "name": "stdout",
     "output_type": "stream",
     "text": [
      "Running for: average_weekly_earnings industrial_aggregate_including_unclassified_businesses\n",
      "Running for: average_weekly_earnings industrial_aggregate_excluding_unclassified_businesses\n",
      "Running for: average_weekly_earnings goods_producing_industries\n",
      "Running for: average_weekly_earnings forestry_logging_and_support\n",
      "Running for: average_weekly_earnings mining_quarrying_and_oil_and_gas_extraction\n",
      "Running for: average_weekly_earnings utilities\n",
      "Running for: average_weekly_earnings construction\n",
      "Running for: average_weekly_earnings manufacturing\n",
      "Running for: average_weekly_earnings service_producing_industries\n",
      "Running for: average_weekly_earnings trade\n",
      "Running for: average_weekly_earnings transportation_and_warehousing\n",
      "Running for: average_weekly_earnings information_and_cultural_industries\n",
      "Running for: average_weekly_earnings finance_and_insurance\n",
      "Running for: average_weekly_earnings real_estate_and_rental_and_leasing\n",
      "Running for: average_weekly_earnings professional_scientific_and_technical_services\n",
      "Running for: average_weekly_earnings management_of_companies_and_enterprises\n",
      "Running for: average_weekly_earnings educational_services\n",
      "Running for: average_weekly_earnings health_care_and_social_assistance\n",
      "Running for: average_weekly_earnings arts_entertainment_and_recreation\n",
      "Running for: average_weekly_earnings accommodation_and_food_services\n",
      "Running for: average_weekly_earnings other_services_except_public_administration\n",
      "Running for: average_weekly_earnings public_administration\n"
     ]
    }
   ],
   "source": [
    "\n",
    "\n",
    "for x, y in result:\n",
    "    estimate = pick_members_1_dict[x]\n",
    "    industry = pick_members_2_dict[y]\n",
    "\n",
    "    url = 'https://www150.statcan.gc.ca/t1/tbl1/en/tv.action?pid=' + pid + '&pickMembers%5B0%5D='+ x + '&pickMembers%5B1%5D='+ y + '&cubeTimeFrame.startMonth='+ start_month + '&cubeTimeFrame.startYear=' + start_year + '&cubeTimeFrame.endMonth=' + end_month +'&cubeTimeFrame.endYear=' + end_year + '&referencePeriods=' + referencePeriods\n",
    "    test_df = scrapper.simple_scrapper(url, filter_names)\n",
    "\n",
    "    \n",
    "    new_test_df = test_df.melt(['date', 'month'], var_name='industry', value_name=industry)\n",
    "    if final_df.empty:\n",
    "        final_df[\"month\"] = new_test_df[\"month\"]\n",
    "        final_df[\"date\"] = new_test_df[\"date\"]\n",
    "        \n",
    "    final_df[industry] = new_test_df[industry]\n",
    "    print(\"Running for: \" + estimate + \" \" + industry)\n"
   ]
  },
  {
   "cell_type": "code",
   "execution_count": 62,
   "metadata": {},
   "outputs": [
    {
     "name": "stdout",
     "output_type": "stream",
     "text": [
      "              month        date  \\\n",
      "0      January 2022  2013-09-27   \n",
      "1     February 2022  2013-09-27   \n",
      "2        March 2022  2013-09-27   \n",
      "3        April 2022  2013-09-27   \n",
      "4          May 2022  2013-09-27   \n",
      "..              ...         ...   \n",
      "135       June 2022  2013-09-27   \n",
      "136       July 2022  2013-09-27   \n",
      "137     August 2022  2013-09-27   \n",
      "138  September 2022  2013-09-27   \n",
      "139    October 2022  2013-09-27   \n",
      "\n",
      "    industrial_aggregate_including_unclassified_businesses  \\\n",
      "0                                                  0.0       \n",
      "1                                                  0.0       \n",
      "2                                                  0.0       \n",
      "3                                                  0.0       \n",
      "4                                                  0.0       \n",
      "..                                                 ...       \n",
      "135                                                0.0       \n",
      "136                                                0.0       \n",
      "137                                                0.0       \n",
      "138                                                0.0       \n",
      "139                                                0.0       \n",
      "\n",
      "    industrial_aggregate_excluding_unclassified_businesses  \\\n",
      "0                                              1156.85       \n",
      "1                                              1158.81       \n",
      "2                                              1167.74       \n",
      "3                                              1160.84       \n",
      "4                                              1159.12       \n",
      "..                                                 ...       \n",
      "135                                            1526.07       \n",
      "136                                            1516.07       \n",
      "137                                            1559.72       \n",
      "138                                            1586.96       \n",
      "139                                            1574.73       \n",
      "\n",
      "    goods_producing_industries forestry_logging_and_support  \\\n",
      "0                      1391.61                      1259.39   \n",
      "1                      1398.87                      1220.36   \n",
      "2                      1422.86                      1290.18   \n",
      "3                      1409.21                      1299.93   \n",
      "4                      1420.24                       1273.6   \n",
      "..                         ...                          ...   \n",
      "135                    2012.33                          0.0   \n",
      "136                    2091.21                          0.0   \n",
      "137                    2155.48                          0.0   \n",
      "138                    2154.54                          0.0   \n",
      "139                    2157.29                          0.0   \n",
      "\n",
      "    mining_quarrying_and_oil_and_gas_extraction utilities construction  \\\n",
      "0                                       2221.72   1909.29      1412.22   \n",
      "1                                       2155.98   2004.71      1415.26   \n",
      "2                                       2163.48    2003.0      1434.71   \n",
      "3                                       2203.34   1933.06      1409.99   \n",
      "4                                       2250.37   2020.58      1425.72   \n",
      "..                                          ...       ...          ...   \n",
      "135                                         0.0       0.0      1331.71   \n",
      "136                                         0.0       0.0      1604.64   \n",
      "137                                         0.0       0.0      1607.73   \n",
      "138                                         0.0       0.0      1652.36   \n",
      "139                                         0.0       0.0      1618.61   \n",
      "\n",
      "    manufacturing  ... finance_and_insurance  \\\n",
      "0         1230.14  ...               1493.99   \n",
      "1         1252.15  ...               1530.85   \n",
      "2         1282.35  ...               1566.48   \n",
      "3         1260.96  ...               1523.32   \n",
      "4         1257.44  ...               1545.21   \n",
      "..            ...  ...                   ...   \n",
      "135           0.0  ...                   0.0   \n",
      "136           0.0  ...                   0.0   \n",
      "137           0.0  ...                   0.0   \n",
      "138           0.0  ...               1799.19   \n",
      "139           0.0  ...               1773.69   \n",
      "\n",
      "    real_estate_and_rental_and_leasing  \\\n",
      "0                              1194.56   \n",
      "1                               1138.7   \n",
      "2                              1156.07   \n",
      "3                              1178.06   \n",
      "4                              1214.87   \n",
      "..                                 ...   \n",
      "135                            1685.59   \n",
      "136                            1485.53   \n",
      "137                            1423.08   \n",
      "138                            1452.32   \n",
      "139                            1637.36   \n",
      "\n",
      "    professional_scientific_and_technical_services  \\\n",
      "0                                          1577.75   \n",
      "1                                          1579.66   \n",
      "2                                          1626.65   \n",
      "3                                           1661.6   \n",
      "4                                          1651.14   \n",
      "..                                             ...   \n",
      "135                                        1599.71   \n",
      "136                                        1271.81   \n",
      "137                                        1098.38   \n",
      "138                                        1130.75   \n",
      "139                                         1125.6   \n",
      "\n",
      "    management_of_companies_and_enterprises educational_services  \\\n",
      "0                                   1545.05              1171.65   \n",
      "1                                   1540.05               1180.1   \n",
      "2                                   1502.46              1180.18   \n",
      "3                                   1473.18              1190.46   \n",
      "4                                   1529.34              1170.41   \n",
      "..                                      ...                  ...   \n",
      "135                                     0.0              1259.21   \n",
      "136                                     0.0              1330.95   \n",
      "137                                     0.0              1502.07   \n",
      "138                                     0.0              1559.77   \n",
      "139                                     0.0              1551.82   \n",
      "\n",
      "    health_care_and_social_assistance arts_entertainment_and_recreation  \\\n",
      "0                             1033.12                            713.32   \n",
      "1                             1032.94                            709.16   \n",
      "2                             1030.44                            697.74   \n",
      "3                             1024.34                            707.02   \n",
      "4                              1039.1                             710.0   \n",
      "..                                ...                               ...   \n",
      "135                           1494.87                           1230.44   \n",
      "136                           1560.28                           1172.95   \n",
      "137                            1574.9                           1289.01   \n",
      "138                           1533.37                               0.0   \n",
      "139                           1517.84                               0.0   \n",
      "\n",
      "    accommodation_and_food_services  \\\n",
      "0                            455.82   \n",
      "1                            454.59   \n",
      "2                             462.1   \n",
      "3                            465.52   \n",
      "4                            463.27   \n",
      "..                              ...   \n",
      "135                          878.48   \n",
      "136                           878.3   \n",
      "137                          852.34   \n",
      "138                          939.44   \n",
      "139                          833.54   \n",
      "\n",
      "    other_services_except_public_administration public_administration  \n",
      "0                                        955.84               1495.46  \n",
      "1                                        978.29               1482.17  \n",
      "2                                        976.59               1504.54  \n",
      "3                                        981.39               1494.55  \n",
      "4                                        961.97               1492.91  \n",
      "..                                          ...                   ...  \n",
      "135                                     1889.23               1610.77  \n",
      "136                                     1418.96               1591.15  \n",
      "137                                      987.97                1608.2  \n",
      "138                                     1522.04               1725.48  \n",
      "139                                     1624.98               1657.92  \n",
      "\n",
      "[140 rows x 24 columns]\n"
     ]
    }
   ],
   "source": [
    "print(final_df)"
   ]
  },
  {
   "cell_type": "code",
   "execution_count": 60,
   "metadata": {},
   "outputs": [
    {
     "name": "stdout",
     "output_type": "stream",
     "text": [
      "https://www150.statcan.gc.ca/t1/tbl1/en/tv.action?pid=1410022301&pickMembers%5B0%5D=2.2&pickMembers%5B1%5D=3.1&cubeTimeFrame.startMonth=01&cubeTimeFrame.startYear=2022&cubeTimeFrame.endMonth=12&cubeTimeFrame.endYear=2022&referencePeriods=20220101%2C20221001\n"
     ]
    }
   ],
   "source": [
    "print(url)"
   ]
  },
  {
   "cell_type": "code",
   "execution_count": null,
   "metadata": {},
   "outputs": [],
   "source": []
  }
 ],
 "metadata": {
  "kernelspec": {
   "display_name": "base",
   "language": "python",
   "name": "python3"
  },
  "language_info": {
   "codemirror_mode": {
    "name": "ipython",
    "version": 3
   },
   "file_extension": ".py",
   "mimetype": "text/x-python",
   "name": "python",
   "nbconvert_exporter": "python",
   "pygments_lexer": "ipython3",
   "version": "3.9.12"
  },
  "orig_nbformat": 4,
  "vscode": {
   "interpreter": {
    "hash": "8d057af1a5c49b4bed786b95378487de8898a19ac88ffccdd8bd5a4534c5371a"
   }
  }
 },
 "nbformat": 4,
 "nbformat_minor": 2
}
