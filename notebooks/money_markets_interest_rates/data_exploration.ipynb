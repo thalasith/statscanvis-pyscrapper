{
 "cells": [
  {
   "cell_type": "code",
   "execution_count": 1,
   "metadata": {},
   "outputs": [],
   "source": [
    "import pandas as pd\n",
    "import requests\n",
    "import json\n",
    "from bs4 import BeautifulSoup\n",
    "from sqlalchemy import create_engine\n",
    "import itertools\n",
    "import os\n",
    "import sys\n",
    "from dotenv import load_dotenv\n",
    "load_dotenv()\n",
    "import sys\n",
    "sys.path.insert(1, os.getenv('LIBRARY_PATH'))\n",
    "import scrapper\n",
    "\n",
    "#https://www150.statcan.gc.ca/t1/tbl1/en/tv.action?pid=1010013901&cubeTimeFrame.startDaily=2022-01-01&cubeTimeFrame.endDaily=2023-01-01&referencePeriods=20220101%2C20230101\n",
    "url = \"https://www150.statcan.gc.ca/t1/tbl1/en/tv.action?pid=1010013901\"\n",
    "table_name = \"money_markets_interest_rates\"\n",
    "filter_names = [\"Geography\"]"
   ]
  },
  {
   "cell_type": "code",
   "execution_count": 2,
   "metadata": {},
   "outputs": [],
   "source": [
    "# Helper function to find data between two strings\n",
    "def find_between( s, first, last ):\n",
    "    try:\n",
    "        start = s.index( first ) + len( first )\n",
    "        end = s.index( last, start )\n",
    "        return s[start:end]\n",
    "    except ValueError:\n",
    "        return \"\"\n",
    "\n",
    "# Helper function to check if a string is a float\n",
    "def isfloat(num):\n",
    "    try:\n",
    "        float(num)\n",
    "        return True\n",
    "    except ValueError:\n",
    "        return False"
   ]
  },
  {
   "cell_type": "code",
   "execution_count": 3,
   "metadata": {},
   "outputs": [],
   "source": [
    "page = requests.get(url)\n",
    "soup = BeautifulSoup(page.content, 'html.parser')\n",
    "result = find_between(soup.prettify(), 'tableContainerElement = $(\".tableContainer\").clone();', 'window.addEventListener(\"resize\", function() {') + 'end'\n",
    "data = find_between(result, 'prepareTable(', '\\n')[:-2]\n",
    "json_data = json.loads(data)\n",
    "rows = json_data['rows']"
   ]
  },
  {
   "cell_type": "code",
   "execution_count": 4,
   "metadata": {},
   "outputs": [],
   "source": [
    "# Return the headers for the data table.\n",
    "headers = next(item for item in json_data['headers'][\"columnHeaders\"] if item[\"name\"] == \"Reference period\")\n",
    "header_values = []\n",
    "for item in headers[\"values\"]:\n",
    "        header_values.append(item[\"value\"])"
   ]
  },
  {
   "cell_type": "code",
   "execution_count": 5,
   "metadata": {},
   "outputs": [],
   "source": [
    "rows = json_data['rows']\n",
    "flattened_rows = list(itertools.chain.from_iterable([row['values'] for row in rows]))\n",
    "new_rows = []\n",
    "for row in flattened_rows:\n",
    "    new_rows.append(row['value'])\n",
    "keys = []\n",
    "data = {}\n",
    "\n",
    "for row in new_rows:\n",
    "    if not isfloat(row):\n",
    "        key = row.replace(\" \", \"_\").replace(\",\",\"\").replace(\"(\",\"\").replace(\")\",\"\").replace(\"-\",\"_\").replace(\"__\",\"_\").lower()[:60]\n",
    "        keys.append(key)\n",
    "        data[key] = []\n",
    "    if isfloat(row):\n",
    "        data[key].append(float(row))\n",
    "\n",
    "rows_values = {key: value for key, value in data.items()}"
   ]
  },
  {
   "cell_type": "code",
   "execution_count": 6,
   "metadata": {},
   "outputs": [],
   "source": [
    "final_data = [{\"key\": name, **{month: value for month, value in zip(header_values, values)}} for name, values in rows_values.items()]\n"
   ]
  },
  {
   "cell_type": "code",
   "execution_count": 7,
   "metadata": {},
   "outputs": [],
   "source": [
    "df = pd.DataFrame(final_data).transpose().drop(\"key\")\n",
    "df.columns = keys\n",
    "df[\"date\"] = soup.find_all('meta', attrs={'name': 'dcterms.issued'})[0]['content']\n",
    "\n"
   ]
  },
  {
   "cell_type": "code",
   "execution_count": 8,
   "metadata": {},
   "outputs": [],
   "source": [
    "\n",
    "df['month'] = df.index\n",
    "df.reset_index(drop=True, inplace=True)\n",
    "for filter_name in filter_names:\n",
    "        new_name = filter_name.replace(\" \", \"_\").replace(\",\",\"\").replace(\"(\",\"\").replace(\")\",\"\").replace(\"-\",\"_\").replace(\"__\",\"_\").lower()[:60]\n",
    "        df[new_name] = next(item for item in json_data['headers'][\"columnHeaders\"] if item[\"name\"] == filter_name)[\"values\"][0][\"value\"]\n"
   ]
  },
  {
   "cell_type": "code",
   "execution_count": 9,
   "metadata": {},
   "outputs": [],
   "source": [
    "df.to_csv(os.getenv('PROJECT_PATH') + \"data/\" + table_name + \".csv\", index=False)"
   ]
  }
 ],
 "metadata": {
  "kernelspec": {
   "display_name": "base",
   "language": "python",
   "name": "python3"
  },
  "language_info": {
   "codemirror_mode": {
    "name": "ipython",
    "version": 3
   },
   "file_extension": ".py",
   "mimetype": "text/x-python",
   "name": "python",
   "nbconvert_exporter": "python",
   "pygments_lexer": "ipython3",
   "version": "3.9.12 (main, Apr  5 2022, 01:53:17) \n[Clang 12.0.0 ]"
  },
  "orig_nbformat": 4,
  "vscode": {
   "interpreter": {
    "hash": "8d057af1a5c49b4bed786b95378487de8898a19ac88ffccdd8bd5a4534c5371a"
   }
  }
 },
 "nbformat": 4,
 "nbformat_minor": 2
}
