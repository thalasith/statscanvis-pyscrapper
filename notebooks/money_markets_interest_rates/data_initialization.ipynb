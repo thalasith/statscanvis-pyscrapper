{
 "cells": [
  {
   "cell_type": "code",
   "execution_count": 1,
   "metadata": {},
   "outputs": [],
   "source": [
    "from sqlalchemy import create_engine\n",
    "from datetime import date\n",
    "import os\n",
    "import sys\n",
    "from dotenv import load_dotenv\n",
    "load_dotenv()\n",
    "import sys\n",
    "sys.path.insert(1, os.getenv('LIBRARY_PATH'))\n",
    "import scrapper"
   ]
  },
  {
   "cell_type": "code",
   "execution_count": 2,
   "metadata": {},
   "outputs": [
    {
     "name": "stdout",
     "output_type": "stream",
     "text": [
      "20220101%2C2023128\n"
     ]
    }
   ],
   "source": [
    "date_2022 = str(date(2022, 1, 1))\n",
    "date_2023 = str(date.today())\n",
    "referencePeriods = \"20220101\" + \"%2C\" + str(date.today().year) + str(date.today().month) + \"28\" \n",
    "print(referencePeriods)\n",
    "\n",
    "# print(\"2023-01-10\" == str(date.today()))\n"
   ]
  },
  {
   "cell_type": "code",
   "execution_count": 3,
   "metadata": {},
   "outputs": [
    {
     "name": "stdout",
     "output_type": "stream",
     "text": [
      "https://www150.statcan.gc.ca/t1/tbl1/en/tv.action?pid=1010013901&cubeTimeFrame.startDaily=2022-01-01&cubeTimeFrame.endDaily=2023-01-11&referencePeriods=20220101%2C2023128\n"
     ]
    }
   ],
   "source": [
    "# https://www150.statcan.gc.ca/t1/tbl1/en/tv.action?pid=1010013901&cubeTimeFrame.startDaily=2022-01-01&cubeTimeFrame.endDaily=2023-01-06&referencePeriods=20220101%2C20230106\n",
    "url = \"https://www150.statcan.gc.ca/t1/tbl1/en/tv.action?pid=1010013901&cubeTimeFrame.startDaily=\" + date_2022 + \"&cubeTimeFrame.endDaily=\" + date_2023 + \"&referencePeriods=\" + referencePeriods\n",
    "print(url)"
   ]
  },
  {
   "cell_type": "markdown",
   "metadata": {},
   "source": []
  },
  {
   "cell_type": "code",
   "execution_count": 8,
   "metadata": {},
   "outputs": [],
   "source": [
    "table_name = \"money_market_interest_rates\"\n",
    "\n",
    "# Connecting to Planet Scale\n",
    "ssl_args = {'ssl_ca': \"/etc/ssl/cert.pem\"}\n",
    "\n",
    "conn_string = 'mysql+pymysql://' + os.getenv(\"USERNAME\") + ':' + os.getenv(\"PASSWORD\") + '@' + os.getenv(\"HOST\") + '/' + os.getenv(\"DATABASE\") \n",
    "\n",
    "df = scrapper.simple_scrapper(url, [])\n",
    "# return the bottom value where the column \"overnight_money_market_financing\" is not zero\n",
    "df = df[df[\"overnight_money_market_financing\"] != 0 & df[\"government_of_canada_benchmark_bond_yields_2_year\"] != 0 ]\n",
    "\n",
    "# df.to_csv(\"data/\" + table_name + \".csv\")\n",
    "    # url = 'https://www150.statcan.gc.ca/t1/tbl1/en/tv.action?pid=' + pid + '&pickMembers%5B0%5D='+ x + '&pickMembers%5B1%5D='+ y + '&cubeTimeFrame.startMonth='+ startMonth + '&cubeTimeFrame.startYear=' + startYear + '&cubeTimeFrame.endMonth=' + endMonth + '&cubeTimeFrame.endYear=' + endYear + '&referencePeriods=' + referencePeriods\n",
    "    # df = scrapper.simple_scrapper(url, filter_names)\n",
    "    # df.to_csv(\"data/\" + x + \"_\" + y + \".csv\")\n",
    "    # engine = create_engine(conn_string, connect_args=ssl_args)\n",
    "    # with engine.begin() as engine:\n",
    "    #     df.to_sql(table_name, engine, if_exists='append', index=False)\n",
    "    #     print(\"Inserted data from \" + x + \" and \" + y + \" into \" + table_name + \" successfully\")"
   ]
  },
  {
   "cell_type": "code",
   "execution_count": null,
   "metadata": {},
   "outputs": [],
   "source": [
    "df.to_csv(os.getenv('PROJECT_PATH') + \"data/\" + table_name + \".csv\", index=False)"
   ]
  }
 ],
 "metadata": {
  "kernelspec": {
   "display_name": "base",
   "language": "python",
   "name": "python3"
  },
  "language_info": {
   "codemirror_mode": {
    "name": "ipython",
    "version": 3
   },
   "file_extension": ".py",
   "mimetype": "text/x-python",
   "name": "python",
   "nbconvert_exporter": "python",
   "pygments_lexer": "ipython3",
   "version": "3.9.12 (main, Apr  5 2022, 01:53:17) \n[Clang 12.0.0 ]"
  },
  "orig_nbformat": 4,
  "vscode": {
   "interpreter": {
    "hash": "8d057af1a5c49b4bed786b95378487de8898a19ac88ffccdd8bd5a4534c5371a"
   }
  }
 },
 "nbformat": 4,
 "nbformat_minor": 2
}
