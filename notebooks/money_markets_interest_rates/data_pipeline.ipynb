{
 "cells": [
  {
   "cell_type": "code",
   "execution_count": 3,
   "metadata": {},
   "outputs": [],
   "source": [
    "from dotenv import load_dotenv\n",
    "load_dotenv()\n",
    "import sys\n",
    "sys.path.insert(1, os.getenv('LIBRARY_PATH'))\n",
    "import data_pipeline\n"
   ]
  },
  {
   "cell_type": "code",
   "execution_count": 4,
   "metadata": {},
   "outputs": [
    {
     "name": "stdout",
     "output_type": "stream",
     "text": [
      "October 2022 Canada Salaried employees paid a fixed salary data already exists in monthly_employment_by_industry table\n",
      "October 2022 Canada Employees paid by the hour data already exists in monthly_employment_by_industry table\n",
      "October 2022 Newfoundland and Labrador Salaried employees paid a fixed salary data already exists in monthly_employment_by_industry table\n",
      "October 2022 Newfoundland and Labrador Employees paid by the hour data already exists in monthly_employment_by_industry table\n",
      "October 2022 Prince Edward Island Salaried employees paid a fixed salary data already exists in monthly_employment_by_industry table\n",
      "October 2022 Prince Edward Island Employees paid by the hour data already exists in monthly_employment_by_industry table\n",
      "October 2022 Nova Scotia Salaried employees paid a fixed salary data already exists in monthly_employment_by_industry table\n",
      "October 2022 Nova Scotia Employees paid by the hour data already exists in monthly_employment_by_industry table\n",
      "October 2022 New Brunswick Salaried employees paid a fixed salary data already exists in monthly_employment_by_industry table\n",
      "October 2022 New Brunswick Employees paid by the hour data already exists in monthly_employment_by_industry table\n",
      "October 2022 Quebec Salaried employees paid a fixed salary data already exists in monthly_employment_by_industry table\n",
      "October 2022 Quebec Employees paid by the hour data already exists in monthly_employment_by_industry table\n",
      "October 2022 Ontario Salaried employees paid a fixed salary data already exists in monthly_employment_by_industry table\n",
      "October 2022 Ontario Employees paid by the hour data already exists in monthly_employment_by_industry table\n",
      "October 2022 Manitoba Salaried employees paid a fixed salary data already exists in monthly_employment_by_industry table\n",
      "October 2022 Manitoba Employees paid by the hour data already exists in monthly_employment_by_industry table\n",
      "October 2022 Saskatchewan Salaried employees paid a fixed salary data already exists in monthly_employment_by_industry table\n",
      "October 2022 Saskatchewan Employees paid by the hour data already exists in monthly_employment_by_industry table\n",
      "October 2022 Alberta Salaried employees paid a fixed salary data already exists in monthly_employment_by_industry table\n",
      "October 2022 Alberta Employees paid by the hour data already exists in monthly_employment_by_industry table\n",
      "October 2022 British Columbia Salaried employees paid a fixed salary data already exists in monthly_employment_by_industry table\n",
      "October 2022 British Columbia Employees paid by the hour data already exists in monthly_employment_by_industry table\n",
      "October 2022 Yukon Salaried employees paid a fixed salary data already exists in monthly_employment_by_industry table\n",
      "October 2022 Yukon Employees paid by the hour data already exists in monthly_employment_by_industry table\n",
      "October 2022 Northwest Territories Salaried employees paid a fixed salary data already exists in monthly_employment_by_industry table\n",
      "October 2022 Northwest Territories Employees paid by the hour data already exists in monthly_employment_by_industry table\n",
      "October 2022 Nunavut Salaried employees paid a fixed salary data already exists in monthly_employment_by_industry table\n",
      "October 2022 Nunavut Employees paid by the hour data already exists in monthly_employment_by_industry table\n",
      "\u001b[32;1mData pipeline job completed for monthly_employment_by_industry table at 2023-01-10\u001b[0m\n"
     ]
    }
   ],
   "source": [
    "pid=\"1410020101\"\n",
    "table_name = \"monthly_employment_by_industry\"\n",
    "pick_members_1 = {\"names\": [\"1.1\", \"1.2\", \"1.3\", \"1.4\", \"1.5\", \"1.6\", \"1.7\", \"1.8\", \"1.9\", \"1.10\", \"1.11\", \"1.12\", \"1.14\", \"1.15\"], \"values\": [\"Canada\", \"Newfoundland and Labrador\", \"Prince Edward Island\", \"Nova Scotia\", \"New Brunswick\", \"Quebec\", \"Ontario\", \"Manitoba\", \"Saskatchewan\", \"Alberta\", \"British Columbia\", \"Yukon\", \"Northwest Territories\", \"Nunavut\"]}\n",
    "pick_members_2 = {\"names\": [\"2.2\", \"2.3\"], \"values\": [\"Salaried employees paid a fixed salary\", \"Employees paid by the hour\"]}\n",
    "pick_members_dict = {\"&pickMembers%5B0%5D=\": pick_members_1, \"&pickMembers%5B1%5D=\": pick_members_2}\n",
    "filter_names = [\"Geography\", \"Type of employee\"]\n",
    "data_pipeline.data_pipeline_job(pid=pid, table_name=table_name, pick_members_dict=pick_members_dict, filter_names=filter_names)"
   ]
  }
 ],
 "metadata": {
  "kernelspec": {
   "display_name": "base",
   "language": "python",
   "name": "python3"
  },
  "language_info": {
   "codemirror_mode": {
    "name": "ipython",
    "version": 3
   },
   "file_extension": ".py",
   "mimetype": "text/x-python",
   "name": "python",
   "nbconvert_exporter": "python",
   "pygments_lexer": "ipython3",
   "version": "3.9.12"
  },
  "orig_nbformat": 4,
  "vscode": {
   "interpreter": {
    "hash": "8d057af1a5c49b4bed786b95378487de8898a19ac88ffccdd8bd5a4534c5371a"
   }
  }
 },
 "nbformat": 4,
 "nbformat_minor": 2
}
