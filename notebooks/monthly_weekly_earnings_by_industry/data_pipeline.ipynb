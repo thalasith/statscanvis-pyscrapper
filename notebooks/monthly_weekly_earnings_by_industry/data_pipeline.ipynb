{
 "cells": [
  {
   "cell_type": "code",
   "execution_count": 1,
   "metadata": {},
   "outputs": [],
   "source": [
    "import pandas as pd\n",
    "\n",
    "import os\n",
    "import sys\n",
    "from dotenv import load_dotenv\n",
    "load_dotenv()\n",
    "import sys\n",
    "sys.path.insert(1, os.getenv('LIBRARY_PATH'))\n",
    "import scrapper\n",
    "from datetime import date, datetime, timedelta\n",
    "from dateutil.relativedelta import relativedelta\n",
    "import data_pipeline\n",
    "from sqlalchemy import create_engine\n",
    "\n",
    "today = date.today()\n",
    "four_months_ago = date.today() - relativedelta(months=+4)"
   ]
  },
  {
   "cell_type": "code",
   "execution_count": 2,
   "metadata": {},
   "outputs": [],
   "source": [
    "pid=str(1410020301)\n",
    "filter_names = [\"Geography\", \"Type of employees\"]\n",
    "startMonth=str(four_months_ago.month).zfill(2)\n",
    "startYear=str(four_months_ago.year)\n",
    "endMonth=str(today.month).zfill(2)\n",
    "endYear=str(today.year)\n",
    "referencePeriods = startYear + startMonth + \"01\" + \"%2C\" + endYear + endMonth + \"28\" \n",
    "table_name = \"monthly_weekly_earnings_by_industry\"\n",
    "\n",
    "\n"
   ]
  },
  {
   "cell_type": "code",
   "execution_count": 3,
   "metadata": {},
   "outputs": [],
   "source": [
    "pick_members_1 = {\"names\": [\"1.1\", \"1.2\", \"1.3\", \"1.4\", \"1.5\", \"1.6\", \"1.7\", \"1.8\", \"1.9\", \"1.10\", \"1.11\", \"1.12\", \"1.14\", \"1.15\"], \"values\": [\"Canada\", \"Newfoundland and Labrador\", \"Prince Edward Island\", \"Nova Scotia\", \"New Brunswick\", \"Quebec\", \"Ontario\", \"Manitoba\", \"Saskatchewan\", \"Alberta\", \"British Columbia\", \"Yukon\", \"Northwest Territories\", \"Nunavut\"]}\n",
    "pick_members_2 = {\"names\": [\"2.2\", \"2.3\"], \"values\": [\"Salaried employees paid a fixed salary\", \"Employees paid by the hour\"]}\n",
    "pick_members_1_dict = dict(zip(pick_members_1[\"names\"], pick_members_1[\"values\"]))\n",
    "pick_members_2_dict = dict(zip(pick_members_2[\"names\"], pick_members_2[\"values\"]))\n",
    "\n",
    "result = [(x, y) for x in pick_members_1[\"names\"] for y in pick_members_2[\"names\"]]"
   ]
  },
  {
   "cell_type": "code",
   "execution_count": 4,
   "metadata": {},
   "outputs": [
    {
     "name": "stdout",
     "output_type": "stream",
     "text": [
      "2022-10-01 00:00:00+00:00 Canada Salaried employees paid a fixed salary data already exists in monthly_weekly_earnings_by_industry table\n",
      "2022-10-01 00:00:00+00:00 Canada Employees paid by the hour data already exists in monthly_weekly_earnings_by_industry table\n",
      "2022-10-01 00:00:00+00:00 Newfoundland and Labrador Salaried employees paid a fixed salary data already exists in monthly_weekly_earnings_by_industry table\n",
      "2022-10-01 00:00:00+00:00 Newfoundland and Labrador Employees paid by the hour data already exists in monthly_weekly_earnings_by_industry table\n",
      "2022-10-01 00:00:00+00:00 Prince Edward Island Salaried employees paid a fixed salary data already exists in monthly_weekly_earnings_by_industry table\n",
      "2022-10-01 00:00:00+00:00 Prince Edward Island Employees paid by the hour data already exists in monthly_weekly_earnings_by_industry table\n",
      "2022-10-01 00:00:00+00:00 Nova Scotia Salaried employees paid a fixed salary data already exists in monthly_weekly_earnings_by_industry table\n",
      "2022-10-01 00:00:00+00:00 Nova Scotia Employees paid by the hour data already exists in monthly_weekly_earnings_by_industry table\n",
      "2022-10-01 00:00:00+00:00 New Brunswick Salaried employees paid a fixed salary data already exists in monthly_weekly_earnings_by_industry table\n",
      "2022-10-01 00:00:00+00:00 New Brunswick Employees paid by the hour data already exists in monthly_weekly_earnings_by_industry table\n",
      "2022-10-01 00:00:00+00:00 Quebec Salaried employees paid a fixed salary data already exists in monthly_weekly_earnings_by_industry table\n",
      "2022-10-01 00:00:00+00:00 Quebec Employees paid by the hour data already exists in monthly_weekly_earnings_by_industry table\n",
      "2022-10-01 00:00:00+00:00 Ontario Salaried employees paid a fixed salary data already exists in monthly_weekly_earnings_by_industry table\n",
      "2022-10-01 00:00:00+00:00 Ontario Employees paid by the hour data already exists in monthly_weekly_earnings_by_industry table\n",
      "2022-10-01 00:00:00+00:00 Manitoba Salaried employees paid a fixed salary data already exists in monthly_weekly_earnings_by_industry table\n",
      "2022-10-01 00:00:00+00:00 Manitoba Employees paid by the hour data already exists in monthly_weekly_earnings_by_industry table\n",
      "2022-10-01 00:00:00+00:00 Saskatchewan Salaried employees paid a fixed salary data already exists in monthly_weekly_earnings_by_industry table\n",
      "2022-10-01 00:00:00+00:00 Saskatchewan Employees paid by the hour data already exists in monthly_weekly_earnings_by_industry table\n",
      "2022-10-01 00:00:00+00:00 Alberta Salaried employees paid a fixed salary data already exists in monthly_weekly_earnings_by_industry table\n",
      "2022-10-01 00:00:00+00:00 Alberta Employees paid by the hour data already exists in monthly_weekly_earnings_by_industry table\n",
      "2022-10-01 00:00:00+00:00 British Columbia Salaried employees paid a fixed salary data already exists in monthly_weekly_earnings_by_industry table\n",
      "2022-10-01 00:00:00+00:00 British Columbia Employees paid by the hour data already exists in monthly_weekly_earnings_by_industry table\n",
      "2022-10-01 00:00:00+00:00 Yukon Salaried employees paid a fixed salary data already exists in monthly_weekly_earnings_by_industry table\n",
      "2022-10-01 00:00:00+00:00 Yukon Employees paid by the hour data already exists in monthly_weekly_earnings_by_industry table\n",
      "2022-10-01 00:00:00+00:00 Northwest Territories Salaried employees paid a fixed salary data already exists in monthly_weekly_earnings_by_industry table\n",
      "2022-10-01 00:00:00+00:00 Northwest Territories Employees paid by the hour data already exists in monthly_weekly_earnings_by_industry table\n",
      "2022-10-01 00:00:00+00:00 Nunavut Salaried employees paid a fixed salary data already exists in monthly_weekly_earnings_by_industry table\n",
      "2022-10-01 00:00:00+00:00 Nunavut Employees paid by the hour data already exists in monthly_weekly_earnings_by_industry table\n"
     ]
    }
   ],
   "source": [
    "# Connecting to Planet Scale\n",
    "\n",
    "conn_string = 'mysql+pymysql://' + os.environ[\"USERNAME\"] + ':' + os.environ[\"PASSWORD\"] + '@' + os.environ[\"HOST\"] + '/' + os.environ[\"DATABASE\"] \n",
    "\n",
    "for x, y in result:\n",
    "    geography=pick_members_1_dict[x]\n",
    "    type_of_employee=pick_members_2_dict[y]\n",
    "\n",
    "    url = 'https://www150.statcan.gc.ca/t1/tbl1/en/tv.action?pid=' + pid + '&pickMembers%5B0%5D='+ x + '&pickMembers%5B1%5D='+ y + '&cubeTimeFrame.startMonth='+ startMonth + '&cubeTimeFrame.startYear=' + startYear + '&cubeTimeFrame.endMonth=' + endMonth +'&cubeTimeFrame.endYear=' + endYear + '&referencePeriods=' + referencePeriods\n",
    "    df = scrapper.simple_scrapper(url, filter_names).iloc[-1]\n",
    "    latest_month = df[\"month\"]\n",
    "    end_of_month = latest_month.replace(day=28) + timedelta(days=4)\n",
    "    end_of_month = end_of_month - timedelta(days=end_of_month.day)\n",
    "\n",
    "    \n",
    "    query = \"SELECT * FROM \" + table_name +  \" WHERE geography = '\" + geography + \"' AND type_of_employee = '\" + type_of_employee + \"' AND month BETWEEN '\" + str(latest_month) + \"' AND '\" + str(end_of_month) +\"';\"\n",
    "\n",
    "    engine = create_engine(conn_string, connect_args={\n",
    "        \"ssl\": {\n",
    "            \"ssl_ca\": \"ca.pem\",\n",
    "            \"ssl_cert\": \"client-cert.pem\",\n",
    "            \"ssl_key\": \"client-key.pem\"\n",
    "        }\n",
    "    })\n",
    "    with engine.begin() as engine:\n",
    "        sql_data = pd.read_sql_query(query, engine)\n",
    "        sql_latest_month = pd.to_datetime(sql_data[\"month\"].values[0], utc=True)\n",
    "\n",
    "        if (sql_latest_month == latest_month):\n",
    "            print(str(latest_month) + \" \" + geography + \" \"+ type_of_employee + \" data already exists in \" + table_name + \" table\")\n",
    "        else:\n",
    "            df.to_sql(table_name, engine, if_exists=\"append\", index=False)\n",
    "            print(\"Inserted data from \" + x + \" and \" + y + \" into \" + table_name + \" successfully\")\n"
   ]
  },
  {
   "cell_type": "code",
   "execution_count": 5,
   "metadata": {},
   "outputs": [],
   "source": [
    "import re\n",
    "\n",
    "def clean_string(string):\n",
    "    new_string = re.sub(\"([[]).*?([]])\", '', string).replace(\" \", \"_\").replace(\",\",\"\").replace(\"(\",\"\").replace(\")\",\"\").replace(\"-\",\"_\").replace(\"__\",\"_\").lower()[:60]\n",
    "    if new_string[-1] == '_':\n",
    "        final_string = new_string[:-1]\n",
    "    else:\n",
    "        final_string = new_string\n",
    "    return final_string\n"
   ]
  },
  {
   "cell_type": "code",
   "execution_count": 6,
   "metadata": {},
   "outputs": [],
   "source": [
    "test = 'Other services (except public administration)  [81]'"
   ]
  },
  {
   "cell_type": "code",
   "execution_count": 7,
   "metadata": {},
   "outputs": [
    {
     "name": "stderr",
     "output_type": "stream",
     "text": [
      "/var/folders/0p/c1842hdx3cl1f16fhby8ffhr0000gn/T/ipykernel_91464/3127920579.py:4: FutureWarning: Possible nested set at position 2\n",
      "  new_string = re.sub(\"([[]).*?([]])\", '', string).replace(\" \", \"_\").replace(\",\",\"\").replace(\"(\",\"\").replace(\")\",\"\").replace(\"-\",\"_\").replace(\"__\",\"_\").lower()[:60]\n"
     ]
    },
    {
     "data": {
      "text/plain": [
       "'other_services_except_public_administration'"
      ]
     },
     "execution_count": 7,
     "metadata": {},
     "output_type": "execute_result"
    }
   ],
   "source": [
    "clean_string(test)"
   ]
  },
  {
   "cell_type": "code",
   "execution_count": null,
   "metadata": {},
   "outputs": [],
   "source": []
  }
 ],
 "metadata": {
  "kernelspec": {
   "display_name": "base",
   "language": "python",
   "name": "python3"
  },
  "language_info": {
   "codemirror_mode": {
    "name": "ipython",
    "version": 3
   },
   "file_extension": ".py",
   "mimetype": "text/x-python",
   "name": "python",
   "nbconvert_exporter": "python",
   "pygments_lexer": "ipython3",
   "version": "3.9.12"
  },
  "orig_nbformat": 4,
  "vscode": {
   "interpreter": {
    "hash": "8d057af1a5c49b4bed786b95378487de8898a19ac88ffccdd8bd5a4534c5371a"
   }
  }
 },
 "nbformat": 4,
 "nbformat_minor": 2
}
