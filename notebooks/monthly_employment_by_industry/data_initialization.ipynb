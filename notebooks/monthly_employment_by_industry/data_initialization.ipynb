{
 "cells": [
  {
   "attachments": {},
   "cell_type": "markdown",
   "metadata": {},
   "source": [
    "<h1>Data Initialization for Monthly Employment by Industry</h1>\n",
    "\n",
    "This file is used to initialize the data table named \"monthly_weekly_earnings_by_industry\" in sql."
   ]
  },
  {
   "cell_type": "code",
   "execution_count": 1,
   "metadata": {},
   "outputs": [],
   "source": [
    "# import libraries\n",
    "import pandas as pd\n",
    "import os\n",
    "import sys\n",
    "from dotenv import load_dotenv\n",
    "load_dotenv()\n",
    "import sys\n",
    "sys.path.insert(1, os.getenv('LIBRARY_PATH'))\n",
    "from datetime import date\n",
    "from dateutil.relativedelta import relativedelta\n",
    "import scrapper\n",
    "import data_pipeline\n",
    "from sqlalchemy import create_engine"
   ]
  },
  {
   "cell_type": "code",
   "execution_count": 2,
   "metadata": {},
   "outputs": [],
   "source": [
    "# list_pick_members1 represents the provinces and list_pick_members2 represents the employee types (e.g. hourly vs salaried).\n",
    "list_pick_members1 = [\"1.1\", \"1.2\", \"1.3\", \"1.4\", \"1.5\", \"1.6\", \"1.7\", \"1.8\", \"1.9\", \"1.10\", \"1.11\", \"1.12\", \"1.14\", \"1.15\"]\n",
    "list_pick_members2 = [\"2.2\", \"2.3\"]"
   ]
  },
  {
   "cell_type": "code",
   "execution_count": 3,
   "metadata": {},
   "outputs": [],
   "source": [
    "# Create a list of tuples that will be used to create the filter options.\n",
    "combined_list_picker = [(x, y) for x in list_pick_members1 for y in list_pick_members2]"
   ]
  },
  {
   "cell_type": "code",
   "execution_count": 4,
   "metadata": {},
   "outputs": [],
   "source": [
    "# pid is the id of the table that we want to scrape.\n",
    "pid=str(1410020101)\n",
    "# start and end dates of the reference periods.\n",
    "startMonth=\"01\"\n",
    "startYear=\"2022\"\n",
    "endMonth=\"12\"\n",
    "endYear=\"2022\"\n",
    "# referencePeriods is the list of reference periods that we want to scrape.\n",
    "referencePeriods = startYear + startMonth + \"01\" + \"%2C\" + endYear + endMonth + \"28\" \n",
    "# Filter names are the names of the filters that will be used in the data pipeline.\n",
    "filter_names = [\"Geography\", \"Type of employee\"]"
   ]
  },
  {
   "cell_type": "code",
   "execution_count": 5,
   "metadata": {},
   "outputs": [
    {
     "name": "stderr",
     "output_type": "stream",
     "text": [
      "/Users/boristsao/Documents/Projects/stats-can-vis/statscanvis-pyscrapper/library/scrapper.py:33: FutureWarning: Possible nested set at position 2\n",
      "  new_string = re.sub(\"([[]).*?([]])\", '', string).replace(\" \", \"_\").replace(\",\",\"\").replace(\"(\",\"\").replace(\")\",\"\").replace(\"-\",\"_\").replace(\"__\",\"_\").lower()[:60]\n"
     ]
    },
    {
     "name": "stdout",
     "output_type": "stream",
     "text": [
      "Inserted data from 1.1 and 2.2 into monthly_employment_by_industry successfully\n",
      "Inserted data from 1.1 and 2.3 into monthly_employment_by_industry successfully\n",
      "Inserted data from 1.2 and 2.2 into monthly_employment_by_industry successfully\n",
      "Inserted data from 1.2 and 2.3 into monthly_employment_by_industry successfully\n",
      "Inserted data from 1.3 and 2.2 into monthly_employment_by_industry successfully\n",
      "Inserted data from 1.3 and 2.3 into monthly_employment_by_industry successfully\n",
      "Inserted data from 1.4 and 2.2 into monthly_employment_by_industry successfully\n",
      "Inserted data from 1.4 and 2.3 into monthly_employment_by_industry successfully\n",
      "Inserted data from 1.5 and 2.2 into monthly_employment_by_industry successfully\n",
      "Inserted data from 1.5 and 2.3 into monthly_employment_by_industry successfully\n",
      "Inserted data from 1.6 and 2.2 into monthly_employment_by_industry successfully\n",
      "Inserted data from 1.6 and 2.3 into monthly_employment_by_industry successfully\n",
      "Inserted data from 1.7 and 2.2 into monthly_employment_by_industry successfully\n",
      "Inserted data from 1.7 and 2.3 into monthly_employment_by_industry successfully\n",
      "Inserted data from 1.8 and 2.2 into monthly_employment_by_industry successfully\n",
      "Inserted data from 1.8 and 2.3 into monthly_employment_by_industry successfully\n",
      "Inserted data from 1.9 and 2.2 into monthly_employment_by_industry successfully\n",
      "Inserted data from 1.9 and 2.3 into monthly_employment_by_industry successfully\n",
      "Inserted data from 1.10 and 2.2 into monthly_employment_by_industry successfully\n",
      "Inserted data from 1.10 and 2.3 into monthly_employment_by_industry successfully\n",
      "Inserted data from 1.11 and 2.2 into monthly_employment_by_industry successfully\n",
      "Inserted data from 1.11 and 2.3 into monthly_employment_by_industry successfully\n",
      "Inserted data from 1.12 and 2.2 into monthly_employment_by_industry successfully\n",
      "Inserted data from 1.12 and 2.3 into monthly_employment_by_industry successfully\n",
      "Inserted data from 1.14 and 2.2 into monthly_employment_by_industry successfully\n",
      "Inserted data from 1.14 and 2.3 into monthly_employment_by_industry successfully\n",
      "Inserted data from 1.15 and 2.2 into monthly_employment_by_industry successfully\n",
      "Inserted data from 1.15 and 2.3 into monthly_employment_by_industry successfully\n"
     ]
    }
   ],
   "source": [
    "# Table name that we want\n",
    "table_name = \"monthly_employment_by_industry\"\n",
    "\n",
    "# Connecting to Planet Scale\n",
    "ssl_args = {'ssl_ca': \"/etc/ssl/cert.pem\"}\n",
    "\n",
    "conn_string = 'mysql+pymysql://' + os.getenv(\"USERNAME\") + ':' + os.getenv(\"PASSWORD\") + '@' + os.getenv(\"HOST\") + '/' + os.getenv(\"DATABASE\") \n",
    "\n",
    "for x, y in combined_list_picker:\n",
    "    url = 'https://www150.statcan.gc.ca/t1/tbl1/en/tv.action?pid=' + pid + '&pickMembers%5B0%5D='+ x + '&pickMembers%5B1%5D='+ y + '&cubeTimeFrame.startMonth='+ startMonth + '&cubeTimeFrame.startYear=' + startYear + '&cubeTimeFrame.endMonth=' + endMonth + '&cubeTimeFrame.endYear=' + endYear + '&referencePeriods=' + referencePeriods\n",
    "    # note that simple_scrapper is the function that we use to scrape the data from the website. Please refer to data exploration for full comments and example of how it works.\n",
    "    df = scrapper.simple_scrapper(url, filter_names, )\n",
    "    engine = create_engine(conn_string, connect_args=ssl_args)\n",
    "    with engine.begin() as engine:\n",
    "        df.to_sql(table_name, engine, if_exists='append', index=False)\n",
    "        print(\"Inserted data from \" + x + \" and \" + y + \" into \" + table_name + \" successfully\")"
   ]
  }
 ],
 "metadata": {
  "kernelspec": {
   "display_name": "base",
   "language": "python",
   "name": "python3"
  },
  "language_info": {
   "codemirror_mode": {
    "name": "ipython",
    "version": 3
   },
   "file_extension": ".py",
   "mimetype": "text/x-python",
   "name": "python",
   "nbconvert_exporter": "python",
   "pygments_lexer": "ipython3",
   "version": "3.9.12 (main, Apr  5 2022, 01:53:17) \n[Clang 12.0.0 ]"
  },
  "orig_nbformat": 4,
  "vscode": {
   "interpreter": {
    "hash": "8d057af1a5c49b4bed786b95378487de8898a19ac88ffccdd8bd5a4534c5371a"
   }
  }
 },
 "nbformat": 4,
 "nbformat_minor": 2
}
