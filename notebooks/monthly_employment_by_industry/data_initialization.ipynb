{
 "cells": [
  {
   "cell_type": "code",
   "execution_count": 7,
   "metadata": {},
   "outputs": [],
   "source": [
    "from sqlalchemy import create_engine\n",
    "import os\n",
    "import sys\n",
    "sys.path.insert(1, os.getenv('PROJECT_PATH'))\n",
    "import library.scrapper as scrapper"
   ]
  },
  {
   "cell_type": "code",
   "execution_count": 2,
   "metadata": {},
   "outputs": [],
   "source": [
    "list_pick_members1 = [\"1.1\", \"1.2\", \"1.3\", \"1.4\", \"1.5\", \"1.6\", \"1.7\", \"1.8\", \"1.9\", \"1.10\", \"1.11\", \"1.12\", \"1.14\", \"1.15\"]\n",
    "\n",
    "list_pick_members2 = [\"2.2\", \"2.3\"]\n",
    "\n",
    "pid=str(1410020101)\n",
    "pickMembers1=str(1.3)\n",
    "pickMembers2=str(2.1)\n",
    "startMonth=\"01\"\n",
    "startYear=\"2022\"\n",
    "endMonth=\"12\"\n",
    "endYear=\"2022\"\n",
    "referencePeriods=\"20220101%2C20221001\"\n",
    "\n",
    "filter_names = [\"Geography\", \"Type of Employee\"]"
   ]
  },
  {
   "cell_type": "code",
   "execution_count": 3,
   "metadata": {},
   "outputs": [],
   "source": [
    "combined_list_picker = [(x, y) for x in list_pick_members1 for y in list_pick_members2]"
   ]
  },
  {
   "cell_type": "code",
   "execution_count": 4,
   "metadata": {},
   "outputs": [],
   "source": [
    "pid=str(1410020101)\n",
    "pickMembers1=str(1.3)\n",
    "pickMembers2=str(2.1)\n",
    "startMonth=\"01\"\n",
    "startYear=\"2022\"\n",
    "endMonth=\"12\"\n",
    "endYear=\"2022\"\n",
    "referencePeriods = startYear + startMonth + \"01\" + \"%2C\" + endYear + endMonth + \"28\" \n",
    "\n",
    "filter_names = [\"Geography\", \"Type of employee\"]"
   ]
  },
  {
   "cell_type": "code",
   "execution_count": 5,
   "metadata": {},
   "outputs": [
    {
     "name": "stdout",
     "output_type": "stream",
     "text": [
      "https://www150.statcan.gc.ca/t1/tbl1/en/tv.action?pid=1410020101&pickMembers%5B0%5D=1.1&pickMembers%5B1%5D=2.2&cubeTimeFrame.startMonth=01&cubeTimeFrame.startYear=2022&cubeTimeFrame.endMonth=12&cubeTimeFrame.endYear=2022&referencePeriods=20220101%2C20221228\n",
      "Inserted data from 1.1 and 2.2 into monthly_employment_by_industry successfully\n",
      "https://www150.statcan.gc.ca/t1/tbl1/en/tv.action?pid=1410020101&pickMembers%5B0%5D=1.1&pickMembers%5B1%5D=2.3&cubeTimeFrame.startMonth=01&cubeTimeFrame.startYear=2022&cubeTimeFrame.endMonth=12&cubeTimeFrame.endYear=2022&referencePeriods=20220101%2C20221228\n",
      "Inserted data from 1.1 and 2.3 into monthly_employment_by_industry successfully\n",
      "https://www150.statcan.gc.ca/t1/tbl1/en/tv.action?pid=1410020101&pickMembers%5B0%5D=1.2&pickMembers%5B1%5D=2.2&cubeTimeFrame.startMonth=01&cubeTimeFrame.startYear=2022&cubeTimeFrame.endMonth=12&cubeTimeFrame.endYear=2022&referencePeriods=20220101%2C20221228\n",
      "Inserted data from 1.2 and 2.2 into monthly_employment_by_industry successfully\n",
      "https://www150.statcan.gc.ca/t1/tbl1/en/tv.action?pid=1410020101&pickMembers%5B0%5D=1.2&pickMembers%5B1%5D=2.3&cubeTimeFrame.startMonth=01&cubeTimeFrame.startYear=2022&cubeTimeFrame.endMonth=12&cubeTimeFrame.endYear=2022&referencePeriods=20220101%2C20221228\n",
      "Inserted data from 1.2 and 2.3 into monthly_employment_by_industry successfully\n",
      "https://www150.statcan.gc.ca/t1/tbl1/en/tv.action?pid=1410020101&pickMembers%5B0%5D=1.3&pickMembers%5B1%5D=2.2&cubeTimeFrame.startMonth=01&cubeTimeFrame.startYear=2022&cubeTimeFrame.endMonth=12&cubeTimeFrame.endYear=2022&referencePeriods=20220101%2C20221228\n",
      "Inserted data from 1.3 and 2.2 into monthly_employment_by_industry successfully\n",
      "https://www150.statcan.gc.ca/t1/tbl1/en/tv.action?pid=1410020101&pickMembers%5B0%5D=1.3&pickMembers%5B1%5D=2.3&cubeTimeFrame.startMonth=01&cubeTimeFrame.startYear=2022&cubeTimeFrame.endMonth=12&cubeTimeFrame.endYear=2022&referencePeriods=20220101%2C20221228\n",
      "Inserted data from 1.3 and 2.3 into monthly_employment_by_industry successfully\n",
      "https://www150.statcan.gc.ca/t1/tbl1/en/tv.action?pid=1410020101&pickMembers%5B0%5D=1.4&pickMembers%5B1%5D=2.2&cubeTimeFrame.startMonth=01&cubeTimeFrame.startYear=2022&cubeTimeFrame.endMonth=12&cubeTimeFrame.endYear=2022&referencePeriods=20220101%2C20221228\n",
      "Inserted data from 1.4 and 2.2 into monthly_employment_by_industry successfully\n",
      "https://www150.statcan.gc.ca/t1/tbl1/en/tv.action?pid=1410020101&pickMembers%5B0%5D=1.4&pickMembers%5B1%5D=2.3&cubeTimeFrame.startMonth=01&cubeTimeFrame.startYear=2022&cubeTimeFrame.endMonth=12&cubeTimeFrame.endYear=2022&referencePeriods=20220101%2C20221228\n",
      "Inserted data from 1.4 and 2.3 into monthly_employment_by_industry successfully\n",
      "https://www150.statcan.gc.ca/t1/tbl1/en/tv.action?pid=1410020101&pickMembers%5B0%5D=1.5&pickMembers%5B1%5D=2.2&cubeTimeFrame.startMonth=01&cubeTimeFrame.startYear=2022&cubeTimeFrame.endMonth=12&cubeTimeFrame.endYear=2022&referencePeriods=20220101%2C20221228\n",
      "Inserted data from 1.5 and 2.2 into monthly_employment_by_industry successfully\n",
      "https://www150.statcan.gc.ca/t1/tbl1/en/tv.action?pid=1410020101&pickMembers%5B0%5D=1.5&pickMembers%5B1%5D=2.3&cubeTimeFrame.startMonth=01&cubeTimeFrame.startYear=2022&cubeTimeFrame.endMonth=12&cubeTimeFrame.endYear=2022&referencePeriods=20220101%2C20221228\n",
      "Inserted data from 1.5 and 2.3 into monthly_employment_by_industry successfully\n",
      "https://www150.statcan.gc.ca/t1/tbl1/en/tv.action?pid=1410020101&pickMembers%5B0%5D=1.6&pickMembers%5B1%5D=2.2&cubeTimeFrame.startMonth=01&cubeTimeFrame.startYear=2022&cubeTimeFrame.endMonth=12&cubeTimeFrame.endYear=2022&referencePeriods=20220101%2C20221228\n",
      "Inserted data from 1.6 and 2.2 into monthly_employment_by_industry successfully\n",
      "https://www150.statcan.gc.ca/t1/tbl1/en/tv.action?pid=1410020101&pickMembers%5B0%5D=1.6&pickMembers%5B1%5D=2.3&cubeTimeFrame.startMonth=01&cubeTimeFrame.startYear=2022&cubeTimeFrame.endMonth=12&cubeTimeFrame.endYear=2022&referencePeriods=20220101%2C20221228\n",
      "Inserted data from 1.6 and 2.3 into monthly_employment_by_industry successfully\n",
      "https://www150.statcan.gc.ca/t1/tbl1/en/tv.action?pid=1410020101&pickMembers%5B0%5D=1.7&pickMembers%5B1%5D=2.2&cubeTimeFrame.startMonth=01&cubeTimeFrame.startYear=2022&cubeTimeFrame.endMonth=12&cubeTimeFrame.endYear=2022&referencePeriods=20220101%2C20221228\n",
      "Inserted data from 1.7 and 2.2 into monthly_employment_by_industry successfully\n",
      "https://www150.statcan.gc.ca/t1/tbl1/en/tv.action?pid=1410020101&pickMembers%5B0%5D=1.7&pickMembers%5B1%5D=2.3&cubeTimeFrame.startMonth=01&cubeTimeFrame.startYear=2022&cubeTimeFrame.endMonth=12&cubeTimeFrame.endYear=2022&referencePeriods=20220101%2C20221228\n",
      "Inserted data from 1.7 and 2.3 into monthly_employment_by_industry successfully\n",
      "https://www150.statcan.gc.ca/t1/tbl1/en/tv.action?pid=1410020101&pickMembers%5B0%5D=1.8&pickMembers%5B1%5D=2.2&cubeTimeFrame.startMonth=01&cubeTimeFrame.startYear=2022&cubeTimeFrame.endMonth=12&cubeTimeFrame.endYear=2022&referencePeriods=20220101%2C20221228\n",
      "Inserted data from 1.8 and 2.2 into monthly_employment_by_industry successfully\n",
      "https://www150.statcan.gc.ca/t1/tbl1/en/tv.action?pid=1410020101&pickMembers%5B0%5D=1.8&pickMembers%5B1%5D=2.3&cubeTimeFrame.startMonth=01&cubeTimeFrame.startYear=2022&cubeTimeFrame.endMonth=12&cubeTimeFrame.endYear=2022&referencePeriods=20220101%2C20221228\n",
      "Inserted data from 1.8 and 2.3 into monthly_employment_by_industry successfully\n",
      "https://www150.statcan.gc.ca/t1/tbl1/en/tv.action?pid=1410020101&pickMembers%5B0%5D=1.9&pickMembers%5B1%5D=2.2&cubeTimeFrame.startMonth=01&cubeTimeFrame.startYear=2022&cubeTimeFrame.endMonth=12&cubeTimeFrame.endYear=2022&referencePeriods=20220101%2C20221228\n",
      "Inserted data from 1.9 and 2.2 into monthly_employment_by_industry successfully\n",
      "https://www150.statcan.gc.ca/t1/tbl1/en/tv.action?pid=1410020101&pickMembers%5B0%5D=1.9&pickMembers%5B1%5D=2.3&cubeTimeFrame.startMonth=01&cubeTimeFrame.startYear=2022&cubeTimeFrame.endMonth=12&cubeTimeFrame.endYear=2022&referencePeriods=20220101%2C20221228\n",
      "Inserted data from 1.9 and 2.3 into monthly_employment_by_industry successfully\n",
      "https://www150.statcan.gc.ca/t1/tbl1/en/tv.action?pid=1410020101&pickMembers%5B0%5D=1.10&pickMembers%5B1%5D=2.2&cubeTimeFrame.startMonth=01&cubeTimeFrame.startYear=2022&cubeTimeFrame.endMonth=12&cubeTimeFrame.endYear=2022&referencePeriods=20220101%2C20221228\n",
      "Inserted data from 1.10 and 2.2 into monthly_employment_by_industry successfully\n",
      "https://www150.statcan.gc.ca/t1/tbl1/en/tv.action?pid=1410020101&pickMembers%5B0%5D=1.10&pickMembers%5B1%5D=2.3&cubeTimeFrame.startMonth=01&cubeTimeFrame.startYear=2022&cubeTimeFrame.endMonth=12&cubeTimeFrame.endYear=2022&referencePeriods=20220101%2C20221228\n",
      "Inserted data from 1.10 and 2.3 into monthly_employment_by_industry successfully\n",
      "https://www150.statcan.gc.ca/t1/tbl1/en/tv.action?pid=1410020101&pickMembers%5B0%5D=1.11&pickMembers%5B1%5D=2.2&cubeTimeFrame.startMonth=01&cubeTimeFrame.startYear=2022&cubeTimeFrame.endMonth=12&cubeTimeFrame.endYear=2022&referencePeriods=20220101%2C20221228\n",
      "Inserted data from 1.11 and 2.2 into monthly_employment_by_industry successfully\n",
      "https://www150.statcan.gc.ca/t1/tbl1/en/tv.action?pid=1410020101&pickMembers%5B0%5D=1.11&pickMembers%5B1%5D=2.3&cubeTimeFrame.startMonth=01&cubeTimeFrame.startYear=2022&cubeTimeFrame.endMonth=12&cubeTimeFrame.endYear=2022&referencePeriods=20220101%2C20221228\n",
      "Inserted data from 1.11 and 2.3 into monthly_employment_by_industry successfully\n",
      "https://www150.statcan.gc.ca/t1/tbl1/en/tv.action?pid=1410020101&pickMembers%5B0%5D=1.12&pickMembers%5B1%5D=2.2&cubeTimeFrame.startMonth=01&cubeTimeFrame.startYear=2022&cubeTimeFrame.endMonth=12&cubeTimeFrame.endYear=2022&referencePeriods=20220101%2C20221228\n",
      "Inserted data from 1.12 and 2.2 into monthly_employment_by_industry successfully\n",
      "https://www150.statcan.gc.ca/t1/tbl1/en/tv.action?pid=1410020101&pickMembers%5B0%5D=1.12&pickMembers%5B1%5D=2.3&cubeTimeFrame.startMonth=01&cubeTimeFrame.startYear=2022&cubeTimeFrame.endMonth=12&cubeTimeFrame.endYear=2022&referencePeriods=20220101%2C20221228\n",
      "Inserted data from 1.12 and 2.3 into monthly_employment_by_industry successfully\n",
      "https://www150.statcan.gc.ca/t1/tbl1/en/tv.action?pid=1410020101&pickMembers%5B0%5D=1.14&pickMembers%5B1%5D=2.2&cubeTimeFrame.startMonth=01&cubeTimeFrame.startYear=2022&cubeTimeFrame.endMonth=12&cubeTimeFrame.endYear=2022&referencePeriods=20220101%2C20221228\n",
      "Inserted data from 1.14 and 2.2 into monthly_employment_by_industry successfully\n",
      "https://www150.statcan.gc.ca/t1/tbl1/en/tv.action?pid=1410020101&pickMembers%5B0%5D=1.14&pickMembers%5B1%5D=2.3&cubeTimeFrame.startMonth=01&cubeTimeFrame.startYear=2022&cubeTimeFrame.endMonth=12&cubeTimeFrame.endYear=2022&referencePeriods=20220101%2C20221228\n",
      "Inserted data from 1.14 and 2.3 into monthly_employment_by_industry successfully\n",
      "https://www150.statcan.gc.ca/t1/tbl1/en/tv.action?pid=1410020101&pickMembers%5B0%5D=1.15&pickMembers%5B1%5D=2.2&cubeTimeFrame.startMonth=01&cubeTimeFrame.startYear=2022&cubeTimeFrame.endMonth=12&cubeTimeFrame.endYear=2022&referencePeriods=20220101%2C20221228\n",
      "Inserted data from 1.15 and 2.2 into monthly_employment_by_industry successfully\n",
      "https://www150.statcan.gc.ca/t1/tbl1/en/tv.action?pid=1410020101&pickMembers%5B0%5D=1.15&pickMembers%5B1%5D=2.3&cubeTimeFrame.startMonth=01&cubeTimeFrame.startYear=2022&cubeTimeFrame.endMonth=12&cubeTimeFrame.endYear=2022&referencePeriods=20220101%2C20221228\n",
      "Inserted data from 1.15 and 2.3 into monthly_employment_by_industry successfully\n"
     ]
    }
   ],
   "source": [
    "table_name = \"monthly_employment_by_industry\"\n",
    "\n",
    "# Connecting to Planet Scale\n",
    "ssl_args = {'ssl_ca': \"/etc/ssl/cert.pem\"}\n",
    "\n",
    "conn_string = 'mysql+pymysql://' + os.getenv(\"USERNAME\") + ':' + os.getenv(\"PASSWORD\") + '@' + os.getenv(\"HOST\") + '/' + os.getenv(\"DATABASE\") \n",
    "\n",
    "for x, y in combined_list_picker:\n",
    "    url = 'https://www150.statcan.gc.ca/t1/tbl1/en/tv.action?pid=' + pid + '&pickMembers%5B0%5D='+ x + '&pickMembers%5B1%5D='+ y + '&cubeTimeFrame.startMonth='+ startMonth + '&cubeTimeFrame.startYear=' + startYear + '&cubeTimeFrame.endMonth=' + endMonth + '&cubeTimeFrame.endYear=' + endYear + '&referencePeriods=' + referencePeriods\n",
    "    df = scrapper.simple_scrapper(url, filter_names)\n",
    "    df.to_csv(\"data/\" + x + \"_\" + y + \".csv\")\n",
    "    # engine = create_engine(conn_string, connect_args=ssl_args)\n",
    "    # with engine.begin() as engine:\n",
    "    #     df.to_sql(table_name, engine, if_exists='append', index=False)\n",
    "    #     print(\"Inserted data from \" + x + \" and \" + y + \" into \" + table_name + \" successfully\")"
   ]
  },
  {
   "cell_type": "code",
   "execution_count": 7,
   "metadata": {},
   "outputs": [],
   "source": [
    "import pandas as pd\n",
    "read_engine = create_engine(conn_string, connect_args=ssl_args)\n",
    "\n",
    "df = pd.read_sql_table(table_name, read_engine)\n",
    "df.to_csv(\"./data/monthly_employment_by_industry.csv\", index=False)"
   ]
  },
  {
   "cell_type": "code",
   "execution_count": null,
   "metadata": {},
   "outputs": [],
   "source": []
  }
 ],
 "metadata": {
  "kernelspec": {
   "display_name": "base",
   "language": "python",
   "name": "python3"
  },
  "language_info": {
   "codemirror_mode": {
    "name": "ipython",
    "version": 3
   },
   "file_extension": ".py",
   "mimetype": "text/x-python",
   "name": "python",
   "nbconvert_exporter": "python",
   "pygments_lexer": "ipython3",
   "version": "3.9.12 (main, Apr  5 2022, 01:53:17) \n[Clang 12.0.0 ]"
  },
  "orig_nbformat": 4,
  "vscode": {
   "interpreter": {
    "hash": "8d057af1a5c49b4bed786b95378487de8898a19ac88ffccdd8bd5a4534c5371a"
   }
  }
 },
 "nbformat": 4,
 "nbformat_minor": 2
}
