{
 "cells": [
  {
   "cell_type": "markdown",
   "metadata": {},
   "source": [
    "<h1>Data Exploration for Monthly Weekly Earnings by Industry</h1>\n",
    "\n",
    "This file is used for exploring the data that is on the Monthly weekly earnings by industry table in Stats Canada\n",
    "\n",
    "We look to leverage as much of the code as posssible that was built from the scrapper library here and see what are changes are necessary to make the scrapper library more robust."
   ]
  },
  {
   "cell_type": "code",
   "execution_count": 1,
   "metadata": {},
   "outputs": [],
   "source": [
    "# importing libraries\n",
    "import pandas as pd\n",
    "import requests\n",
    "import json\n",
    "from bs4 import BeautifulSoup\n",
    "from sqlalchemy import create_engine\n",
    "import itertools\n",
    "import os\n",
    "# load env\n",
    "from dotenv import load_dotenv\n",
    "load_dotenv()\n",
    "import sys\n",
    "sys.path.insert(1, os.getenv('LIBRARY_PATH'))\n",
    "import scrapper"
   ]
  },
  {
   "cell_type": "code",
   "execution_count": null,
   "metadata": {},
   "outputs": [],
   "source": [
    "# URL that we will be scraping\n",
    "url = \"https://www150.statcan.gc.ca/t1/tbl1/en/tv.action?pid=1410020101&pickMembers%5B0%5D=1.3&pickMembers%5B1%5D=2.1&cubeTimeFrame.startMonth=01&cubeTimeFrame.startYear=2022&cubeTimeFrame.endMonth=10&cubeTimeFrame.endYear=2022&referencePeriods=20220101%2C20221001\"\n",
    "# The table that we extract will have the below column names, and so we extract them out to ensure we have the correct column names.\n",
    "filter_names = [\"Geography\", \"Type of employee\"]\n",
    "\n",
    "# Helper function to find data between two strings\n",
    "def find_between( s, first, last ):\n",
    "    try:\n",
    "        start = s.index( first ) + len( first )\n",
    "        end = s.index( last, start )\n",
    "        return s[start:end]\n",
    "    except ValueError:\n",
    "        return \"\"\n",
    "\n",
    "# Helper function to check if a string is a float\n",
    "def isfloat(num):\n",
    "    try:\n",
    "        float(num)\n",
    "        return True\n",
    "    except ValueError:\n",
    "        return False"
   ]
  },
  {
   "cell_type": "code",
   "execution_count": 2,
   "metadata": {},
   "outputs": [],
   "source": [
    "# We use the requests library to get the HTML content of the page. Afterwards, we use the BeautifulSoup library to parse the HTML content.\n",
    "# We then use the find_between function to extract the data that we want.\n",
    "# NOTE: the data is contained in a function within scripts tag. and so we need to extract the data from there.\n",
    "# We load the data into a json object after we extract it from within the scrippts tag.\n",
    "page = requests.get(url)\n",
    "soup = BeautifulSoup(page.content, 'html.parser')\n",
    "result = find_between(soup.prettify(), 'tableContainerElement = $(\".tableContainer\").clone();', 'window.addEventListener(\"resize\", function() {') + 'end'\n",
    "data = find_between(result, 'prepareTable(', '\\n')[:-2]\n",
    "json_data = json.loads(data)\n",
    "rows = json_data['rows']"
   ]
  },
  {
   "cell_type": "code",
   "execution_count": 3,
   "metadata": {},
   "outputs": [],
   "source": [
    "# Return the headers for the data table.\n",
    "# The headers contain the data for our columns. We need to extract the values from the headers and return them as a list.\n",
    "headers = next(item for item in json_data['headers'][\"columnHeaders\"] if item[\"name\"] == \"Reference period\")\n",
    "header_values = []\n",
    "for item in headers[\"values\"]:\n",
    "        header_values.append(item[\"value\"])"
   ]
  },
  {
   "cell_type": "code",
   "execution_count": 4,
   "metadata": {},
   "outputs": [],
   "source": [
    "# Return the rows for the data table, and then flatten the rows.\n",
    "rows = json_data['rows']\n",
    "flattened_rows = list(itertools.chain.from_iterable([row['values'] for row in rows]))\n",
    "new_rows = []\n",
    "for row in flattened_rows:\n",
    "    new_rows.append(row['value'])\n",
    "keys = []\n",
    "data = {}\n",
    "# We iterate through the rows and extract the data into a dictionary.\n",
    "# The data follows a pattern where every nth item is a key, and the next n items are the values for that key.\n",
    "# We use the clean_string function to clean the key, and the isfloat function to check if the value is a float.\n",
    "# We then append the key to the keys list, and the values to the data dictionary.\n",
    "for row in new_rows:\n",
    "    if not isfloat(row):\n",
    "        key = row.replace(\" \", \"_\").replace(\",\",\"\").replace(\"(\",\"\").replace(\")\",\"\").replace(\"-\",\"_\").replace(\"__\",\"_\").lower()[:60]\n",
    "        keys.append(key)\n",
    "        data[key] = []\n",
    "    if isfloat(row):\n",
    "        data[key].append(float(row))"
   ]
  },
  {
   "cell_type": "code",
   "execution_count": 5,
   "metadata": {},
   "outputs": [],
   "source": [
    "# We transform the data into a dictionary where the key is the name of the row, and the value is a list of values.\n",
    "rows_values = {key: value for key, value in data.items()}\n",
    "# We then transform the data into a list of dictionaries where the key is the name of the row, and the value is a dictionary of the values.\n",
    "final_data = [{\"key\": name, **{month: value for month, value in zip(header_values, values)}} for name, values in rows_values.items()]\n"
   ]
  },
  {
   "cell_type": "code",
   "execution_count": 6,
   "metadata": {},
   "outputs": [],
   "source": [
    "# We then transform the data into a pandas dataframe, and then transpose the dataframe.\n",
    "df = pd.DataFrame(final_data).transpose().drop(\"key\")\n",
    "df.columns = keys\n",
    "# We then add the date column to the dataframe.\n",
    "df[\"date\"] = soup.find_all('meta', attrs={'name': 'dcterms.issued'})[0]['content']\n"
   ]
  },
  {
   "cell_type": "code",
   "execution_count": 7,
   "metadata": {},
   "outputs": [],
   "source": [
    "\n",
    "df['month'] = df.index\n",
    "df.reset_index(drop=True, inplace=True)\n",
    "# We then rename the columns to be more readable, and then add the month column to the dataframe.\n",
    "for filter_name in filter_names:\n",
    "        new_name = filter_name.replace(\" \", \"_\").replace(\",\",\"\").replace(\"(\",\"\").replace(\")\",\"\").replace(\"-\",\"_\").replace(\"__\",\"_\").lower()[:60]\n",
    "        df[new_name] = next(item for item in json_data['headers'][\"columnHeaders\"] if item[\"name\"] == filter_name)[\"values\"][0][\"value\"]\n"
   ]
  },
  {
   "cell_type": "code",
   "execution_count": 8,
   "metadata": {},
   "outputs": [
    {
     "name": "stdout",
     "output_type": "stream",
     "text": [
      "  industrial_aggregate_including_unclassified_businesses  \\\n",
      "0                                            67888.0       \n",
      "1                                            68106.0       \n",
      "2                                            69162.0       \n",
      "3                                            71520.0       \n",
      "4                                            77444.0       \n",
      "\n",
      "  industrial_aggregate_excluding_unclassified_businesses  \\\n",
      "0                                            66720.0       \n",
      "1                                            66916.0       \n",
      "2                                            67972.0       \n",
      "3                                            70276.0       \n",
      "4                                            75991.0       \n",
      "\n",
      "  goods_producing_industries forestry_logging_and_support  \\\n",
      "0                     9549.0                          0.0   \n",
      "1                     9300.0                          0.0   \n",
      "2                     9414.0                          0.0   \n",
      "3                     9788.0                          0.0   \n",
      "4                    11671.0                          0.0   \n",
      "\n",
      "  mining_quarrying_and_oil_and_gas_extraction utilities construction  \\\n",
      "0                                         0.0       0.0       4073.0   \n",
      "1                                         0.0       0.0       3913.0   \n",
      "2                                         0.0       0.0       3925.0   \n",
      "3                                         0.0       0.0       4108.0   \n",
      "4                                         0.0       0.0       4550.0   \n",
      "\n",
      "  manufacturing service_producing_industries    trade  ...  \\\n",
      "0        4989.0                      57171.0  10988.0  ...   \n",
      "1        4901.0                      57616.0  10818.0  ...   \n",
      "2        5001.0                      58558.0  10847.0  ...   \n",
      "3        5190.0                      60488.0  11749.0  ...   \n",
      "4        6634.0                      64321.0  13599.0  ...   \n",
      "\n",
      "  health_care_and_social_assistance arts_entertainment_and_recreation  \\\n",
      "0                            9719.0                             650.0   \n",
      "1                            9545.0                             739.0   \n",
      "2                            9643.0                             789.0   \n",
      "3                            9620.0                             876.0   \n",
      "4                            9653.0                            1112.0   \n",
      "\n",
      "  accommodation_and_food_services other_services_except_public_administration  \\\n",
      "0                          4751.0                                      1883.0   \n",
      "1                          4882.0                                      1983.0   \n",
      "2                          5041.0                                      2011.0   \n",
      "3                          5447.0                                      2050.0   \n",
      "4                          6568.0                                      2176.0   \n",
      "\n",
      "  public_administration unclassified_businesses        date          month  \\\n",
      "0                9384.0                  1168.0  2022-12-22   January 2022   \n",
      "1                9333.0                  1190.0  2022-12-22  February 2022   \n",
      "2                9581.0                  1190.0  2022-12-22     March 2022   \n",
      "3                9489.0                  1244.0  2022-12-22     April 2022   \n",
      "4                9905.0                  1453.0  2022-12-22       May 2022   \n",
      "\n",
      "              geography type_of_employee  \n",
      "0  Prince Edward Island    All employees  \n",
      "1  Prince Edward Island    All employees  \n",
      "2  Prince Edward Island    All employees  \n",
      "3  Prince Edward Island    All employees  \n",
      "4  Prince Edward Island    All employees  \n",
      "\n",
      "[5 rows x 28 columns]\n"
     ]
    }
   ],
   "source": [
    "df.head()"
   ]
  }
 ],
 "metadata": {
  "kernelspec": {
   "display_name": "base",
   "language": "python",
   "name": "python3"
  },
  "language_info": {
   "codemirror_mode": {
    "name": "ipython",
    "version": 3
   },
   "file_extension": ".py",
   "mimetype": "text/x-python",
   "name": "python",
   "nbconvert_exporter": "python",
   "pygments_lexer": "ipython3",
   "version": "3.9.12 (main, Apr  5 2022, 01:53:17) \n[Clang 12.0.0 ]"
  },
  "orig_nbformat": 4,
  "vscode": {
   "interpreter": {
    "hash": "8d057af1a5c49b4bed786b95378487de8898a19ac88ffccdd8bd5a4534c5371a"
   }
  }
 },
 "nbformat": 4,
 "nbformat_minor": 2
}
