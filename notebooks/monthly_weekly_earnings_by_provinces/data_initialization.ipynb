{
 "cells": [
  {
   "cell_type": "code",
   "execution_count": 1,
   "metadata": {},
   "outputs": [],
   "source": [
    "import pandas as pd\n",
    "\n",
    "import os\n",
    "import sys\n",
    "from dotenv import load_dotenv\n",
    "load_dotenv()\n",
    "import sys\n",
    "sys.path.insert(1, os.getenv('LIBRARY_PATH'))\n",
    "from datetime import date\n",
    "from dateutil.relativedelta import relativedelta\n",
    "import scrapper\n",
    "import data_pipeline\n",
    "from sqlalchemy import create_engine\n",
    "def clean_string(string):\n",
    "    return string.replace(\" \", \"_\").replace(\",\",\"\").replace(\"(\",\"\").replace(\")\",\"\").replace(\"-\",\"_\").replace(\"__\",\"_\").lower()[:60]\n",
    "\n",
    "def upload_sql(query, data, table_name, latest_month, pick_member_1, pick_member_2, x, y, transpose):\n",
    "    conn_string = 'mysql+pymysql://' + os.environ[\"USERNAME\"] + ':' + os.environ[\"PASSWORD\"] + '@' + os.environ[\"HOST\"] + '/' + os.environ[\"DATABASE\"] \n",
    "    engine = create_engine(conn_string, connect_args={\n",
    "        \"ssl\": {\n",
    "            \"ssl_ca\": \"ca.pem\",\n",
    "            \"ssl_cert\": \"client-cert.pem\",\n",
    "            \"ssl_key\": \"client-key.pem\"\n",
    "        }\n",
    "    })\n",
    "    data.to_sql(table_name, engine, if_exists='replace', index=False)\n",
    "    if transpose == False:\n",
    "        print(\"Inserted data from \" + x + \" and \" + y + \" into \" + table_name + \" successfully\")\n",
    "    else:\n",
    "        print(\"Inserted data into \" + table_name + \" successfully\")\n"
   ]
  },
  {
   "cell_type": "code",
   "execution_count": 2,
   "metadata": {},
   "outputs": [],
   "source": [
    "industries_dict = {'3.1': 'industrial_aggregate_including_unclassified_businesses', '3.2': 'industrial_aggregate_excluding_unclassified_businesses', '3.3': 'goods_producing_industries', '3.4': 'forestry_logging_and_support', '3.10': 'mining_quarrying_and_oil_and_gas_extraction', '3.17': 'utilities', '3.21': 'construction', '3.34': 'manufacturing', '3.143': 'service_producing_industries', '3.144': 'trade', '3.215': 'transportation_and_warehousing', '3.253': 'information_and_cultural_industries', '3.267': 'finance_and_insurance', '3.284': 'real_estate_and_rental_and_leasing', '3.295': 'professional_scientific_and_technical_services', '3.306': 'management_of_companies_and_enterprises', '3.321': 'educational_services', '3.331': 'health_care_and_social_assistance', '3.354': 'arts_entertainment_and_recreation', '3.367': 'accommodation_and_food_services', '3.377': 'other_services_except_public_administration', '3.393': 'public_administration'}\n",
    "pick_members_2 = {\"names\": ['2.2'], \"values\": ['average_weekly_earnings']}\n",
    "pick_members_3 = {\"names\": ['3.1', '3.2', '3.3', '3.4', '3.10', '3.17', '3.21', '3.34', '3.143', '3.144', '3.215', '3.253', '3.267', '3.284', '3.295', '3.306', '3.321', '3.331', '3.354', '3.367', '3.377', '3.393'],\"values\": ['industrial_aggregate_including_unclassified_businesses', 'industrial_aggregate_excluding_unclassified_businesses', 'goods_producing_industries', 'forestry_logging_and_support', 'mining_quarrying_and_oil_and_gas_extraction', 'utilities', 'construction', 'manufacturing', 'service_producing_industries', 'trade', 'transportation_and_warehousing', 'information_and_cultural_industries', 'finance_and_insurance', 'real_estate_and_rental_and_leasing', 'professional_scientific_and_technical_services', 'management_of_companies_and_enterprises', 'educational_services', 'health_care_and_social_assistance', 'arts_entertainment_and_recreation', 'accommodation_and_food_services', 'other_services_except_public_administration', 'public_administration'] }\n",
    "pick_members_dict = {\"&pickMembers%5B0%5D=\": pick_members_2, \"&pickMembers%5B1%5D=\": pick_members_3}\n",
    "filter_names = {\"pick_member_1\": \"Estimate\", \"pick_member_2\": \"North American Industry Classification System (NAICS)\"}\n",
    "table_name = \"average_weekly_earnings_by_industry\" "
   ]
  },
  {
   "cell_type": "code",
   "execution_count": 3,
   "metadata": {},
   "outputs": [],
   "source": [
    "pid=\"1410022301\"\n",
    "table_name = \"average_weekly_earnings_by_industry\"\n",
    "pick_members_dict = {\"&pickMembers%5B0%5D=\": pick_members_2, \"&pickMembers%5B1%5D=\": pick_members_3}\n",
    "filter_names = {\"pick_member_1\": \"Estimate\", \"pick_member_2\": \"North American Industry Classification System (NAICS)\"}\n",
    "transpose = True"
   ]
  },
  {
   "cell_type": "code",
   "execution_count": 4,
   "metadata": {},
   "outputs": [],
   "source": [
    "start_month=\"01\"\n",
    "start_year=\"2022\"\n",
    "end_month=\"12\"\n",
    "end_year=\"2022\"\n",
    "referencePeriods=\"20220101%2C20221001\"\n",
    "\n",
    "referencePeriods = start_year + start_month + \"01\" + \"%2C\" + end_year + end_month + \"28\" \n",
    "keys = list(pick_members_dict.keys())\n",
    "values = list((pick_members_dict[key][\"names\"] for key in keys))\n",
    "\n",
    "filter_names_keys = list(filter_names.keys())\n",
    "filter_names_values = list(filter_names.values())\n",
    "pick_members_1_dict = dict(zip(pick_members_dict[\"&pickMembers%5B0%5D=\"][\"names\"], pick_members_dict[\"&pickMembers%5B0%5D=\"][\"values\"]))\n",
    "pick_members_2_dict = dict(zip(pick_members_dict[\"&pickMembers%5B1%5D=\"][\"names\"], pick_members_dict[\"&pickMembers%5B1%5D=\"][\"values\"]))\n",
    "\n",
    "conn_string = 'mysql+pymysql://' + os.environ[\"USERNAME\"] + ':' + os.environ[\"PASSWORD\"] + '@' + os.environ[\"HOST\"] + '/' + os.environ[\"DATABASE\"] \n",
    "engine = create_engine(conn_string, connect_args={\n",
    "    \"ssl\": {\n",
    "        \"ssl_ca\": \"ca.pem\",\n",
    "        \"ssl_cert\": \"client-cert.pem\",\n",
    "        \"ssl_key\": \"client-key.pem\"\n",
    "    }\n",
    "})"
   ]
  },
  {
   "cell_type": "code",
   "execution_count": 5,
   "metadata": {},
   "outputs": [],
   "source": [
    "if transpose:\n",
    "    final_df = pd.DataFrame()\n",
    "result = [(x, y) for x in values[0] for y in values[1]]"
   ]
  },
  {
   "cell_type": "code",
   "execution_count": 6,
   "metadata": {},
   "outputs": [
    {
     "name": "stdout",
     "output_type": "stream",
     "text": [
      "Table average_weekly_earnings_by_industry created successfully\n"
     ]
    }
   ],
   "source": [
    "for x, y in result:\n",
    "    pick_member_1=pick_members_1_dict[x]\n",
    "    pick_member_2=pick_members_2_dict[y]\n",
    "    url = 'https://www150.statcan.gc.ca/t1/tbl1/en/tv.action?pid=' + pid + '&pickMembers%5B0%5D='+ x + '&pickMembers%5B1%5D='+ y + '&cubeTimeFrame.startMonth='+ start_month + '&cubeTimeFrame.startYear=' + start_year + '&cubeTimeFrame.endMonth=' + end_month +'&cubeTimeFrame.endYear=' + end_year + '&referencePeriods=' + referencePeriods\n",
    "    df = scrapper.simple_scrapper(url, filter_names.values())\n",
    "\n",
    "    if transpose:\n",
    "        new_df = df.melt(['date', 'month'], var_name='province', value_name=pick_member_2)\n",
    "        provinces = ['canada', 'newfoundland_and_labrador', 'prince_edward_island', 'nova_scotia', 'new_brunswick', 'quebec', 'ontario', 'manitoba', 'saskatchewan', 'alberta', 'british_columbia', 'yukon', 'northwest_territories', 'nunavut']\n",
    "        new_df = new_df[new_df['province'].isin(provinces)]\n",
    "        if final_df.empty:\n",
    "            final_df[\"month\"] = new_df[\"month\"]\n",
    "            final_df[\"date\"] = new_df[\"date\"]\n",
    "            final_df[\"province\"] = new_df[\"province\"]\n",
    "\n",
    "        final_df[pick_member_2] = new_df[pick_member_2]\n",
    "    \n",
    "    if transpose == False:\n",
    "        df.to_sql(table_name, con=engine, if_exists='replace', index=False)\n",
    "        print(\"Inserted data from \" + x + \" and \" + y + \" into \" + table_name + \" successfully\")\n",
    "\n",
    "if transpose == True:\n",
    "    final_df.to_sql(table_name, engine, if_exists='replace', index=False)\n",
    "    print(\"Table \" + table_name + \" created successfully\")\n"
   ]
  },
  {
   "cell_type": "code",
   "execution_count": 7,
   "metadata": {},
   "outputs": [],
   "source": [
    "url = 'https://www150.statcan.gc.ca/t1/tbl1/en/tv.action?pid=1410022301&pickMembers%5B0%5D=2.2&pickMembers%5B1%5D=3.3&cubeTimeFrame.startMonth=01&cubeTimeFrame.startYear=2022&cubeTimeFrame.endMonth=12&cubeTimeFrame.endYear=2022&referencePeriods=20220101%2C20221201'\n",
    "test = scrapper.simple_scrapper(url, filter_names.values())"
   ]
  },
  {
   "cell_type": "code",
   "execution_count": 8,
   "metadata": {},
   "outputs": [],
   "source": [
    "provinces = ['canada', 'newfoundland_and_labrador', 'prince_edward_island', 'nova_scotia', 'new_brunswick', 'quebec', 'ontario', 'manitoba', 'saskatchewan', 'alberta', 'british_columbia', 'yukon', 'northwest_territories', 'nunavut']\n",
    "\n",
    "new_test = test.melt(['date', 'month'], var_name='province', value_name='type_of_employee')\n",
    "new_test = new_test[new_test['province'].isin(provinces)]\n"
   ]
  },
  {
   "cell_type": "code",
   "execution_count": null,
   "metadata": {},
   "outputs": [],
   "source": []
  }
 ],
 "metadata": {
  "kernelspec": {
   "display_name": ".venv",
   "language": "python",
   "name": "python3"
  },
  "language_info": {
   "codemirror_mode": {
    "name": "ipython",
    "version": 3
   },
   "file_extension": ".py",
   "mimetype": "text/x-python",
   "name": "python",
   "nbconvert_exporter": "python",
   "pygments_lexer": "ipython3",
   "version": "3.9.13"
  },
  "orig_nbformat": 4,
  "vscode": {
   "interpreter": {
    "hash": "761f37a02670cca8f02730e2c7755870b61864280cbbc348b34c69106b58d481"
   }
  }
 },
 "nbformat": 4,
 "nbformat_minor": 2
}
