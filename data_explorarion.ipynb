{
 "cells": [
  {
   "cell_type": "code",
   "execution_count": 16,
   "metadata": {},
   "outputs": [],
   "source": [
    "import pandas as pd\n",
    "import requests\n",
    "import json\n",
    "from bs4 import BeautifulSoup\n",
    "# Helper function to find data between two strings\n",
    "def find_between( s, first, last ):\n",
    "    try:\n",
    "        start = s.index( first ) + len( first )\n",
    "        end = s.index( last, start )\n",
    "        return s[start:end]\n",
    "    except ValueError:\n",
    "        return \"\"\n",
    "\n",
    "# Helper function to check if a string is a float\n",
    "def isfloat(num):\n",
    "    try:\n",
    "        float(num)\n",
    "        return True\n",
    "    except ValueError:\n",
    "        return False"
   ]
  },
  {
   "cell_type": "code",
   "execution_count": 17,
   "metadata": {},
   "outputs": [],
   "source": [
    "pid=str(1410020101)\n",
    "pickMembers1=str(1.15)\n",
    "pickMembers2=str(2.1)\n",
    "startMonth=\"01\"\n",
    "startYear=str(2022)\n",
    "endMonth=str(10)\n",
    "endYear=str(2022)\n",
    "referencePeriods=\"20220601%2C20221001\"\n",
    "\n",
    "url = 'https://www150.statcan.gc.ca/t1/tbl1/en/tv.action?pid=' + pid + '&pickMembers%5B0%5D='+ pickMembers1 + '&pickMembers%5B1%5D='+ pickMembers2 + '&cubeTimeFrame.startMonth='+ startMonth + '&cubeTimeFrame.startYear=' + startYear + '&cubeTimeFrame.endMonth=10&cubeTimeFrame.endYear=2022&referencePeriods=' + referencePeriods\n",
    "page = requests.get(url)\n",
    "soup = BeautifulSoup(page.content, 'html.parser')\n",
    "result = find_between(soup.prettify(), 'tableContainerElement = $(\".tableContainer\").clone();', 'window.addEventListener(\"resize\", function() {') + 'end'\n",
    "data = find_between(result, 'prepareTable(', '\\n')[:-2]\n",
    "json_data = json.loads(data)\n",
    "rows = json_data['rows']"
   ]
  },
  {
   "cell_type": "code",
   "execution_count": 18,
   "metadata": {},
   "outputs": [],
   "source": [
    "new_rows = []\n",
    "for row in rows:\n",
    "    values = row['values']\n",
    "    for value in values:\n",
    "        new_rows.append(value[\"value\"])"
   ]
  },
  {
   "cell_type": "code",
   "execution_count": 23,
   "metadata": {},
   "outputs": [
    {
     "name": "stderr",
     "output_type": "stream",
     "text": [
      "<>:4: SyntaxWarning: 'generator' object is not subscriptable; perhaps you missed a comma?\n",
      "<>:4: SyntaxWarning: 'generator' object is not subscriptable; perhaps you missed a comma?\n",
      "/var/folders/0p/c1842hdx3cl1f16fhby8ffhr0000gn/T/ipykernel_50510/303712722.py:4: SyntaxWarning: 'generator' object is not subscriptable; perhaps you missed a comma?\n",
      "  print((item for item in json_data['headers'][\"columnHeaders\"] if item[\"name\"] == name)[\"values\"])\n",
      "/var/folders/0p/c1842hdx3cl1f16fhby8ffhr0000gn/T/ipykernel_50510/303712722.py:4: SyntaxWarning: 'generator' object is not subscriptable; perhaps you missed a comma?\n",
      "  print((item for item in json_data['headers'][\"columnHeaders\"] if item[\"name\"] == name)[\"values\"])\n",
      "/var/folders/0p/c1842hdx3cl1f16fhby8ffhr0000gn/T/ipykernel_50510/303712722.py:4: SyntaxWarning: 'generator' object is not subscriptable; perhaps you missed a comma?\n",
      "  print((item for item in json_data['headers'][\"columnHeaders\"] if item[\"name\"] == name)[\"values\"])\n",
      "/var/folders/0p/c1842hdx3cl1f16fhby8ffhr0000gn/T/ipykernel_50510/303712722.py:4: SyntaxWarning: 'generator' object is not subscriptable; perhaps you missed a comma?\n",
      "  print((item for item in json_data['headers'][\"columnHeaders\"] if item[\"name\"] == name)[\"values\"])\n",
      "/var/folders/0p/c1842hdx3cl1f16fhby8ffhr0000gn/T/ipykernel_50510/303712722.py:4: SyntaxWarning: 'generator' object is not subscriptable; perhaps you missed a comma?\n",
      "  print((item for item in json_data['headers'][\"columnHeaders\"] if item[\"name\"] == name)[\"values\"])\n",
      "/var/folders/0p/c1842hdx3cl1f16fhby8ffhr0000gn/T/ipykernel_50510/303712722.py:4: SyntaxWarning: 'generator' object is not subscriptable; perhaps you missed a comma?\n",
      "  print((item for item in json_data['headers'][\"columnHeaders\"] if item[\"name\"] == name)[\"values\"])\n"
     ]
    },
    {
     "ename": "TypeError",
     "evalue": "'generator' object is not subscriptable",
     "output_type": "error",
     "traceback": [
      "\u001b[0;31m---------------------------------------------------------------------------\u001b[0m",
      "\u001b[0;31mTypeError\u001b[0m                                 Traceback (most recent call last)",
      "\u001b[1;32m/Users/boristsao/Documents/Projects/stats-can-vis/statscanvis-pyscrapper/data_explorarion.ipynb Cell 4\u001b[0m in \u001b[0;36m<cell line: 3>\u001b[0;34m()\u001b[0m\n\u001b[1;32m      <a href='vscode-notebook-cell:/Users/boristsao/Documents/Projects/stats-can-vis/statscanvis-pyscrapper/data_explorarion.ipynb#W5sZmlsZQ%3D%3D?line=1'>2</a>\u001b[0m category_dict \u001b[39m=\u001b[39m {}\n\u001b[1;32m      <a href='vscode-notebook-cell:/Users/boristsao/Documents/Projects/stats-can-vis/statscanvis-pyscrapper/data_explorarion.ipynb#W5sZmlsZQ%3D%3D?line=2'>3</a>\u001b[0m \u001b[39mfor\u001b[39;00m name \u001b[39min\u001b[39;00m category_names:\n\u001b[0;32m----> <a href='vscode-notebook-cell:/Users/boristsao/Documents/Projects/stats-can-vis/statscanvis-pyscrapper/data_explorarion.ipynb#W5sZmlsZQ%3D%3D?line=3'>4</a>\u001b[0m     \u001b[39mprint\u001b[39m((item \u001b[39mfor\u001b[39;49;00m item \u001b[39min\u001b[39;49;00m json_data[\u001b[39m'\u001b[39;49m\u001b[39mheaders\u001b[39;49m\u001b[39m'\u001b[39;49m][\u001b[39m\"\u001b[39;49m\u001b[39mcolumnHeaders\u001b[39;49m\u001b[39m\"\u001b[39;49m] \u001b[39mif\u001b[39;49;00m item[\u001b[39m\"\u001b[39;49m\u001b[39mname\u001b[39;49m\u001b[39m\"\u001b[39;49m] \u001b[39m==\u001b[39;49m name)[\u001b[39m\"\u001b[39;49m\u001b[39mvalues\u001b[39;49m\u001b[39m\"\u001b[39;49m])\n\u001b[1;32m      <a href='vscode-notebook-cell:/Users/boristsao/Documents/Projects/stats-can-vis/statscanvis-pyscrapper/data_explorarion.ipynb#W5sZmlsZQ%3D%3D?line=4'>5</a>\u001b[0m     category \u001b[39m=\u001b[39m \u001b[39mnext\u001b[39m(item \u001b[39mfor\u001b[39;00m item \u001b[39min\u001b[39;00m json_data[\u001b[39m'\u001b[39m\u001b[39mheaders\u001b[39m\u001b[39m'\u001b[39m][\u001b[39m\"\u001b[39m\u001b[39mcolumnHeaders\u001b[39m\u001b[39m\"\u001b[39m] \u001b[39mif\u001b[39;00m item[\u001b[39m\"\u001b[39m\u001b[39mname\u001b[39m\u001b[39m\"\u001b[39m] \u001b[39m==\u001b[39m name)\n\u001b[1;32m      <a href='vscode-notebook-cell:/Users/boristsao/Documents/Projects/stats-can-vis/statscanvis-pyscrapper/data_explorarion.ipynb#W5sZmlsZQ%3D%3D?line=5'>6</a>\u001b[0m     category_dict[name] \u001b[39m=\u001b[39m category[\u001b[39m\"\u001b[39m\u001b[39mvalues\u001b[39m\u001b[39m\"\u001b[39m][\u001b[39m0\u001b[39m][\u001b[39m\"\u001b[39m\u001b[39mvalue\u001b[39m\u001b[39m\"\u001b[39m]\n",
      "\u001b[0;31mTypeError\u001b[0m: 'generator' object is not subscriptable"
     ]
    }
   ],
   "source": [
    "category_names = [\"Geography\", \"Type of employee\"]\n",
    "category_dict = {}\n",
    "for name in category_names:\n",
    "    # print((item for item in json_data['headers'][\"columnHeaders\"] if item[\"name\"] == name)[\"values\"])\n",
    "    category = next(item for item in json_data['headers'][\"columnHeaders\"] if item[\"name\"] == name)\n",
    "    category_dict[name] = category[\"values\"][0][\"value\"]"
   ]
  },
  {
   "cell_type": "code",
   "execution_count": 12,
   "metadata": {},
   "outputs": [],
   "source": [
    "category_names = [\"Geography\", \"Type of employee\"]\n",
    "category_dict = {}\n",
    "for name in category_names:\n",
    "    category = next(item for item in json_data['headers'][\"columnHeaders\"] if item[\"name\"] == name)\n",
    "    category_dict[name] = category[\"values\"][0][\"value\"]\n",
    "\n",
    "\n"
   ]
  },
  {
   "cell_type": "code",
   "execution_count": 20,
   "metadata": {},
   "outputs": [],
   "source": [
    "# Return the headers for the data table.\n",
    "headers = next(item for item in json_data['headers'][\"columnHeaders\"] if item[\"name\"] == \"Reference period\")\n",
    "header_values = []\n",
    "for item in headers[\"values\"]:\n",
    "        header_values.append(item[\"value\"])\n",
    "rows_values = {}\n",
    "key = \"\"\n",
    "data = []\n",
    "index = 0\n",
    "for row in new_rows:\n",
    "    temp_data = {}\n",
    "    if not isfloat(row):\n",
    "        key = row\n",
    "        rows_values[key] = []\n",
    "        data = []\n",
    "        index = 0\n",
    "    if isfloat(row):\n",
    "        data.append(float(row))\n",
    "        rows_values[key] = data\n",
    "        index += 1"
   ]
  },
  {
   "cell_type": "code",
   "execution_count": 21,
   "metadata": {},
   "outputs": [
    {
     "name": "stdout",
     "output_type": "stream",
     "text": [
      "               industrial_aggregate_including_unclassified_businesses  \\\n",
      "June 2022                                                 20406.0       \n",
      "July 2022                                                 20031.0       \n",
      "August 2022                                               20409.0       \n",
      "September 2022                                            20627.0       \n",
      "October 2022                                              20915.0       \n",
      "\n",
      "               industrial_aggregate_excluding_unclassified_businesses  \\\n",
      "June 2022                                                 20243.0       \n",
      "July 2022                                                 19886.0       \n",
      "August 2022                                               20268.0       \n",
      "September 2022                                            20485.0       \n",
      "October 2022                                              20730.0       \n",
      "\n",
      "               goods_producing_industries forestry_logging_and_support  \\\n",
      "June 2022                          4803.0                          0.0   \n",
      "July 2022                          4856.0                          0.0   \n",
      "August 2022                        4875.0                          0.0   \n",
      "September 2022                     4826.0                          0.0   \n",
      "October 2022                       4747.0                          0.0   \n",
      "\n",
      "               mining_quarrying_and_oil_and_gas_extraction utilities  \\\n",
      "June 2022                                              0.0       0.0   \n",
      "July 2022                                              0.0       0.0   \n",
      "August 2022                                            0.0       0.0   \n",
      "September 2022                                         0.0       0.0   \n",
      "October 2022                                           0.0       0.0   \n",
      "\n",
      "               construction manufacturing service_producing_industries  \\\n",
      "June 2022             877.0           0.0                      15440.0   \n",
      "July 2022             900.0           0.0                      15029.0   \n",
      "August 2022           909.0           0.0                      15393.0   \n",
      "September 2022        957.0           0.0                      15659.0   \n",
      "October 2022          921.0           0.0                      15983.0   \n",
      "\n",
      "                 trade  ... educational_services  \\\n",
      "June 2022       2179.0  ...                607.0   \n",
      "July 2022       2205.0  ...                271.0   \n",
      "August 2022     2147.0  ...                585.0   \n",
      "September 2022  2266.0  ...                678.0   \n",
      "October 2022    2296.0  ...                781.0   \n",
      "\n",
      "               health_care_and_social_assistance  \\\n",
      "June 2022                                 1188.0   \n",
      "July 2022                                 1164.0   \n",
      "August 2022                               1135.0   \n",
      "September 2022                            1205.0   \n",
      "October 2022                              1227.0   \n",
      "\n",
      "               arts_entertainment_and_recreation  \\\n",
      "June 2022                                    0.0   \n",
      "July 2022                                    0.0   \n",
      "August 2022                                  0.0   \n",
      "September 2022                               0.0   \n",
      "October 2022                                 0.0   \n",
      "\n",
      "               accommodation_and_food_services  \\\n",
      "June 2022                                831.0   \n",
      "July 2022                                851.0   \n",
      "August 2022                              846.0   \n",
      "September 2022                           912.0   \n",
      "October 2022                             936.0   \n",
      "\n",
      "               other_services_except_public_administration  \\\n",
      "June 2022                                            352.0   \n",
      "July 2022                                            321.0   \n",
      "August 2022                                          331.0   \n",
      "September 2022                                       496.0   \n",
      "October 2022                                         461.0   \n",
      "\n",
      "               public_administration unclassified_businesses        date  \\\n",
      "June 2022                     7047.0                   163.0  2022-12-22   \n",
      "July 2022                     6861.0                   145.0  2022-12-22   \n",
      "August 2022                   6837.0                   140.0  2022-12-22   \n",
      "September 2022                6631.0                   142.0  2022-12-22   \n",
      "October 2022                  6856.0                   186.0  2022-12-22   \n",
      "\n",
      "               Geography Type of employee  \n",
      "June 2022        Nunavut    All employees  \n",
      "July 2022        Nunavut    All employees  \n",
      "August 2022      Nunavut    All employees  \n",
      "September 2022   Nunavut    All employees  \n",
      "October 2022     Nunavut    All employees  \n",
      "\n",
      "[5 rows x 27 columns]\n"
     ]
    }
   ],
   "source": [
    "test_data = []\n",
    "keys = []\n",
    "for key, value in rows_values.items():\n",
    "    index=0\n",
    "    temp_data = {}\n",
    "    temp_data[\"key\"] = key\n",
    "    key = key.replace(\" \", \"_\").replace(\",\",\"\").replace(\"(\",\"\").replace(\")\",\"\").replace(\"-\",\"_\").replace(\"__\",\"_\").lower()\n",
    "    keys.append(key)\n",
    "    for i in value:\n",
    "        temp_data[header_values[index]] = i\n",
    "        index += 1\n",
    "    test_data.append(temp_data)\n",
    "\n",
    "df = pd.DataFrame(test_data).transpose().drop(\"key\")\n",
    "df.columns = keys\n",
    "df[\"date\"] = soup.find_all('meta', attrs={'name': 'dcterms.issued'})[0]['content']\n",
    "\n",
    "for key, value in category_dict.items():\n",
    "    df[key] = value\n",
    "print(df.head())"
   ]
  },
  {
   "cell_type": "code",
   "execution_count": null,
   "metadata": {},
   "outputs": [],
   "source": []
  },
  {
   "cell_type": "code",
   "execution_count": null,
   "metadata": {},
   "outputs": [],
   "source": []
  }
 ],
 "metadata": {
  "kernelspec": {
   "display_name": "base",
   "language": "python",
   "name": "python3"
  },
  "language_info": {
   "codemirror_mode": {
    "name": "ipython",
    "version": 3
   },
   "file_extension": ".py",
   "mimetype": "text/x-python",
   "name": "python",
   "nbconvert_exporter": "python",
   "pygments_lexer": "ipython3",
   "version": "3.9.12"
  },
  "orig_nbformat": 4,
  "vscode": {
   "interpreter": {
    "hash": "8d057af1a5c49b4bed786b95378487de8898a19ac88ffccdd8bd5a4534c5371a"
   }
  }
 },
 "nbformat": 4,
 "nbformat_minor": 2
}
