{
 "cells": [
  {
   "cell_type": "code",
   "execution_count": 1,
   "metadata": {},
   "outputs": [],
   "source": [
    "from datetime import date\n",
    "from dateutil.relativedelta import relativedelta\n",
    "from sqlalchemy import create_engine\n",
    "import os\n",
    "from dotenv import load_dotenv\n",
    "load_dotenv()\n",
    "import pandas as pd\n",
    "try:\n",
    "    from . import scrapper\n",
    "except:\n",
    "    import scrapper\n",
    "today = date.today()\n",
    "four_months_ago = date.today() - relativedelta(months=+4)"
   ]
  },
  {
   "cell_type": "code",
   "execution_count": 2,
   "metadata": {},
   "outputs": [],
   "source": [
    "pid=\"1410020101\"\n",
    "filter_names = [\"Geography\", \"Type of employee\"]\n",
    "startMonth=str(four_months_ago.month).zfill(2)\n",
    "startYear=str(four_months_ago.year)\n",
    "endMonth=str(today.month).zfill(2)\n",
    "endYear=str(today.year)\n",
    "referencePeriods = startYear + startMonth + \"01\" + \"%2C\" + endYear + endMonth + \"28\" \n",
    "table_name = \"monthly_employment_by_industry\"\n"
   ]
  },
  {
   "cell_type": "code",
   "execution_count": 3,
   "metadata": {},
   "outputs": [],
   "source": [
    "pick_members_1 = {\"names\": [\"1.1\", \"1.2\", \"1.3\", \"1.4\", \"1.5\", \"1.6\", \"1.7\", \"1.8\", \"1.9\", \"1.10\", \"1.11\", \"1.12\", \"1.14\", \"1.15\"], \"values\": [\"Canada\", \"Newfoundland and Labrador\", \"Prince Edward Island\", \"Nova Scotia\", \"New Brunswick\", \"Quebec\", \"Ontario\", \"Manitoba\", \"Saskatchewan\", \"Alberta\", \"British Columbia\", \"Yukon\", \"Northwest Territories\", \"Nunavut\"]}\n",
    "pick_members_2 = {\"names\": [\"2.2\", \"2.3\"], \"values\": [\"Salaried employees paid a fixed salary\", \"Employees paid by the hour\"]}\n",
    "pick_members_1_dict = dict(zip(pick_members_1[\"names\"], pick_members_1[\"values\"]))\n",
    "pick_members_2_dict = dict(zip(pick_members_2[\"names\"], pick_members_2[\"values\"]))\n",
    "\n",
    "result = [(x, y) for x in pick_members_1[\"names\"] for y in pick_members_2[\"names\"]]"
   ]
  },
  {
   "cell_type": "code",
   "execution_count": 4,
   "metadata": {},
   "outputs": [
    {
     "ename": "TypeError",
     "evalue": "Invalid argument(s) 'ssl' sent to create_engine(), using configuration MySQLDialect_pymysql/QueuePool/Engine.  Please check that the keyword arguments are appropriate for this combination of components.",
     "output_type": "error",
     "traceback": [
      "\u001b[0;31m---------------------------------------------------------------------------\u001b[0m",
      "\u001b[0;31mTypeError\u001b[0m                                 Traceback (most recent call last)",
      "\u001b[1;32m/Users/boristsao/Documents/Projects/stats-can-vis/statscanvis-pyscrapper/data_pipeline.ipynb Cell 4\u001b[0m in \u001b[0;36m<cell line: 6>\u001b[0;34m()\u001b[0m\n\u001b[1;32m     <a href='vscode-notebook-cell:/Users/boristsao/Documents/Projects/stats-can-vis/statscanvis-pyscrapper/data_pipeline.ipynb#W3sZmlsZQ%3D%3D?line=11'>12</a>\u001b[0m latest_month \u001b[39m=\u001b[39m df[\u001b[39m\"\u001b[39m\u001b[39mmonth\u001b[39m\u001b[39m\"\u001b[39m]\n\u001b[1;32m     <a href='vscode-notebook-cell:/Users/boristsao/Documents/Projects/stats-can-vis/statscanvis-pyscrapper/data_pipeline.ipynb#W3sZmlsZQ%3D%3D?line=13'>14</a>\u001b[0m query \u001b[39m=\u001b[39m \u001b[39m\"\u001b[39m\u001b[39mSELECT * FROM \u001b[39m\u001b[39m\"\u001b[39m \u001b[39m+\u001b[39m table_name \u001b[39m+\u001b[39m  \u001b[39m\"\u001b[39m\u001b[39m WHERE geography = \u001b[39m\u001b[39m'\u001b[39m\u001b[39m\"\u001b[39m \u001b[39m+\u001b[39m geography \u001b[39m+\u001b[39m \u001b[39m\"\u001b[39m\u001b[39m'\u001b[39m\u001b[39m AND type_of_employee = \u001b[39m\u001b[39m'\u001b[39m\u001b[39m\"\u001b[39m \u001b[39m+\u001b[39m type_of_employee \u001b[39m+\u001b[39m \u001b[39m\"\u001b[39m\u001b[39m'\u001b[39m\u001b[39m AND month = \u001b[39m\u001b[39m'\u001b[39m\u001b[39m\"\u001b[39m \u001b[39m+\u001b[39m latest_month \u001b[39m+\u001b[39m \u001b[39m\"\u001b[39m\u001b[39m'\u001b[39m\u001b[39m;\u001b[39m\u001b[39m\"\u001b[39m\n\u001b[0;32m---> <a href='vscode-notebook-cell:/Users/boristsao/Documents/Projects/stats-can-vis/statscanvis-pyscrapper/data_pipeline.ipynb#W3sZmlsZQ%3D%3D?line=15'>16</a>\u001b[0m engine \u001b[39m=\u001b[39m create_engine(conn_string, ssl\u001b[39m=\u001b[39;49m\u001b[39mTrue\u001b[39;49;00m)\n\u001b[1;32m     <a href='vscode-notebook-cell:/Users/boristsao/Documents/Projects/stats-can-vis/statscanvis-pyscrapper/data_pipeline.ipynb#W3sZmlsZQ%3D%3D?line=16'>17</a>\u001b[0m \u001b[39mwith\u001b[39;00m engine\u001b[39m.\u001b[39mbegin() \u001b[39mas\u001b[39;00m engine:\n\u001b[1;32m     <a href='vscode-notebook-cell:/Users/boristsao/Documents/Projects/stats-can-vis/statscanvis-pyscrapper/data_pipeline.ipynb#W3sZmlsZQ%3D%3D?line=17'>18</a>\u001b[0m     sql_data \u001b[39m=\u001b[39m pd\u001b[39m.\u001b[39mread_sql_query(query, engine)\n",
      "File \u001b[0;32m<string>:2\u001b[0m, in \u001b[0;36mcreate_engine\u001b[0;34m(url, **kwargs)\u001b[0m\n",
      "File \u001b[0;32m~/opt/anaconda3/lib/python3.9/site-packages/sqlalchemy/util/deprecations.py:309\u001b[0m, in \u001b[0;36mdeprecated_params.<locals>.decorate.<locals>.warned\u001b[0;34m(fn, *args, **kwargs)\u001b[0m\n\u001b[1;32m    302\u001b[0m     \u001b[39mif\u001b[39;00m m \u001b[39min\u001b[39;00m kwargs:\n\u001b[1;32m    303\u001b[0m         _warn_with_version(\n\u001b[1;32m    304\u001b[0m             messages[m],\n\u001b[1;32m    305\u001b[0m             versions[m],\n\u001b[1;32m    306\u001b[0m             version_warnings[m],\n\u001b[1;32m    307\u001b[0m             stacklevel\u001b[39m=\u001b[39m\u001b[39m3\u001b[39m,\n\u001b[1;32m    308\u001b[0m         )\n\u001b[0;32m--> 309\u001b[0m \u001b[39mreturn\u001b[39;00m fn(\u001b[39m*\u001b[39;49margs, \u001b[39m*\u001b[39;49m\u001b[39m*\u001b[39;49mkwargs)\n",
      "File \u001b[0;32m~/opt/anaconda3/lib/python3.9/site-packages/sqlalchemy/engine/create.py:648\u001b[0m, in \u001b[0;36mcreate_engine\u001b[0;34m(url, **kwargs)\u001b[0m\n\u001b[1;32m    646\u001b[0m \u001b[39m# all kwargs should be consumed\u001b[39;00m\n\u001b[1;32m    647\u001b[0m \u001b[39mif\u001b[39;00m kwargs:\n\u001b[0;32m--> 648\u001b[0m     \u001b[39mraise\u001b[39;00m \u001b[39mTypeError\u001b[39;00m(\n\u001b[1;32m    649\u001b[0m         \u001b[39m\"\u001b[39m\u001b[39mInvalid argument(s) \u001b[39m\u001b[39m%s\u001b[39;00m\u001b[39m sent to create_engine(), \u001b[39m\u001b[39m\"\u001b[39m\n\u001b[1;32m    650\u001b[0m         \u001b[39m\"\u001b[39m\u001b[39musing configuration \u001b[39m\u001b[39m%s\u001b[39;00m\u001b[39m/\u001b[39m\u001b[39m%s\u001b[39;00m\u001b[39m/\u001b[39m\u001b[39m%s\u001b[39;00m\u001b[39m.  Please check that the \u001b[39m\u001b[39m\"\u001b[39m\n\u001b[1;32m    651\u001b[0m         \u001b[39m\"\u001b[39m\u001b[39mkeyword arguments are appropriate for this combination \u001b[39m\u001b[39m\"\u001b[39m\n\u001b[1;32m    652\u001b[0m         \u001b[39m\"\u001b[39m\u001b[39mof components.\u001b[39m\u001b[39m\"\u001b[39m\n\u001b[1;32m    653\u001b[0m         \u001b[39m%\u001b[39m (\n\u001b[1;32m    654\u001b[0m             \u001b[39m\"\u001b[39m\u001b[39m,\u001b[39m\u001b[39m\"\u001b[39m\u001b[39m.\u001b[39mjoin(\u001b[39m\"\u001b[39m\u001b[39m'\u001b[39m\u001b[39m%s\u001b[39;00m\u001b[39m'\u001b[39m\u001b[39m\"\u001b[39m \u001b[39m%\u001b[39m k \u001b[39mfor\u001b[39;00m k \u001b[39min\u001b[39;00m kwargs),\n\u001b[1;32m    655\u001b[0m             dialect\u001b[39m.\u001b[39m\u001b[39m__class__\u001b[39m\u001b[39m.\u001b[39m\u001b[39m__name__\u001b[39m,\n\u001b[1;32m    656\u001b[0m             pool\u001b[39m.\u001b[39m\u001b[39m__class__\u001b[39m\u001b[39m.\u001b[39m\u001b[39m__name__\u001b[39m,\n\u001b[1;32m    657\u001b[0m             engineclass\u001b[39m.\u001b[39m\u001b[39m__name__\u001b[39m,\n\u001b[1;32m    658\u001b[0m         )\n\u001b[1;32m    659\u001b[0m     )\n\u001b[1;32m    661\u001b[0m engine \u001b[39m=\u001b[39m engineclass(pool, dialect, u, \u001b[39m*\u001b[39m\u001b[39m*\u001b[39mengine_args)\n\u001b[1;32m    663\u001b[0m \u001b[39mif\u001b[39;00m _initialize:\n",
      "\u001b[0;31mTypeError\u001b[0m: Invalid argument(s) 'ssl' sent to create_engine(), using configuration MySQLDialect_pymysql/QueuePool/Engine.  Please check that the keyword arguments are appropriate for this combination of components."
     ]
    }
   ],
   "source": [
    "# Connecting to Planet Scale\n",
    "# ssl_args = {'ssl_ca': \"/etc/ssl/cert.pem\"}\n",
    "\n",
    "conn_string = 'mysql+pymysql://' + os.environ[\"USERNAME\"] + ':' + os.environ[\"PASSWORD\"] + '@' + os.environ[\"HOST\"] + '/' + os.environ[\"DATABASE\"]\n",
    "\n",
    "for x, y in result:\n",
    "    geography=pick_members_1_dict[x]\n",
    "    type_of_employee=pick_members_2_dict[y]\n",
    "\n",
    "    url = 'https://www150.statcan.gc.ca/t1/tbl1/en/tv.action?pid=' + pid + '&pickMembers%5B0%5D='+ x + '&pickMembers%5B1%5D='+ y + '&cubeTimeFrame.startMonth='+ startMonth + '&cubeTimeFrame.startYear=' + startYear + '&cubeTimeFrame.endMonth=' + endMonth +'&cubeTimeFrame.endYear=' + endYear + '&referencePeriods=' + referencePeriods\n",
    "    df = scrapper.simple_scrapper(url, filter_names).iloc[-1]\n",
    "    latest_month = df[\"month\"]\n",
    "    \n",
    "    query = \"SELECT * FROM \" + table_name +  \" WHERE geography = '\" + geography + \"' AND type_of_employee = '\" + type_of_employee + \"' AND month = '\" + latest_month + \"';\"\n",
    "\n",
    "    engine = create_engine(conn_string, connect_args={\n",
    "        \"ssl\": {\n",
    "            \"ssl_ca\": \"ca.pem\",\n",
    "            \"ssl_cert\": \"client-cert.pem\",\n",
    "            \"ssl_key\": \"client-key.pem\"\n",
    "        }\n",
    "    })\n",
    "    with engine.begin() as engine:\n",
    "        sql_data = pd.read_sql_query(query, engine)\n",
    "        sql_latest_month = sql_data[\"month\"].values[0]\n",
    "        \n",
    "        if (sql_latest_month == latest_month):\n",
    "            print(latest_month + \" \" + geography + \" \"+ type_of_employee + \" data already exists in \" + table_name + \" table\")\n",
    "        else:\n",
    "            df.to_sql(table_name, engine, if_exists=\"append\", index=False)\n",
    "            print(\"Inserted data from \" + x + \" and \" + y + \" into \" + table_name + \" successfully\")\n"
   ]
  },
  {
   "cell_type": "code",
   "execution_count": null,
   "metadata": {},
   "outputs": [],
   "source": [
    "try:\n",
    "    from . import data_pipeline\n",
    "except:\n",
    "    import data_pipeline\n"
   ]
  },
  {
   "cell_type": "code",
   "execution_count": null,
   "metadata": {},
   "outputs": [
    {
     "name": "stdout",
     "output_type": "stream",
     "text": [
      "October 2022 Canada Salaried employees paid a fixed salary data already exists in monthly_employment_by_industry table\n",
      "October 2022 Canada Employees paid by the hour data already exists in monthly_employment_by_industry table\n",
      "October 2022 Newfoundland and Labrador Salaried employees paid a fixed salary data already exists in monthly_employment_by_industry table\n",
      "October 2022 Newfoundland and Labrador Employees paid by the hour data already exists in monthly_employment_by_industry table\n",
      "October 2022 Prince Edward Island Salaried employees paid a fixed salary data already exists in monthly_employment_by_industry table\n",
      "October 2022 Prince Edward Island Employees paid by the hour data already exists in monthly_employment_by_industry table\n",
      "October 2022 Nova Scotia Salaried employees paid a fixed salary data already exists in monthly_employment_by_industry table\n",
      "October 2022 Nova Scotia Employees paid by the hour data already exists in monthly_employment_by_industry table\n",
      "October 2022 New Brunswick Salaried employees paid a fixed salary data already exists in monthly_employment_by_industry table\n",
      "October 2022 New Brunswick Employees paid by the hour data already exists in monthly_employment_by_industry table\n",
      "October 2022 Quebec Salaried employees paid a fixed salary data already exists in monthly_employment_by_industry table\n",
      "October 2022 Quebec Employees paid by the hour data already exists in monthly_employment_by_industry table\n",
      "October 2022 Ontario Salaried employees paid a fixed salary data already exists in monthly_employment_by_industry table\n",
      "October 2022 Ontario Employees paid by the hour data already exists in monthly_employment_by_industry table\n",
      "October 2022 Manitoba Salaried employees paid a fixed salary data already exists in monthly_employment_by_industry table\n",
      "October 2022 Manitoba Employees paid by the hour data already exists in monthly_employment_by_industry table\n",
      "October 2022 Saskatchewan Salaried employees paid a fixed salary data already exists in monthly_employment_by_industry table\n",
      "October 2022 Saskatchewan Employees paid by the hour data already exists in monthly_employment_by_industry table\n",
      "October 2022 Alberta Salaried employees paid a fixed salary data already exists in monthly_employment_by_industry table\n",
      "October 2022 Alberta Employees paid by the hour data already exists in monthly_employment_by_industry table\n",
      "October 2022 British Columbia Salaried employees paid a fixed salary data already exists in monthly_employment_by_industry table\n",
      "October 2022 British Columbia Employees paid by the hour data already exists in monthly_employment_by_industry table\n",
      "October 2022 Yukon Salaried employees paid a fixed salary data already exists in monthly_employment_by_industry table\n",
      "October 2022 Yukon Employees paid by the hour data already exists in monthly_employment_by_industry table\n",
      "October 2022 Northwest Territories Salaried employees paid a fixed salary data already exists in monthly_employment_by_industry table\n",
      "October 2022 Northwest Territories Employees paid by the hour data already exists in monthly_employment_by_industry table\n",
      "October 2022 Nunavut Salaried employees paid a fixed salary data already exists in monthly_employment_by_industry table\n",
      "October 2022 Nunavut Employees paid by the hour data already exists in monthly_employment_by_industry table\n",
      "Data pipeline job completed for monthly_employment_by_industry table at 2023-01-09\n"
     ]
    }
   ],
   "source": [
    "pid=\"1410020101\"\n",
    "table_name = \"monthly_employment_by_industry\"\n",
    "pick_members_1 = {\"names\": [\"1.1\", \"1.2\", \"1.3\", \"1.4\", \"1.5\", \"1.6\", \"1.7\", \"1.8\", \"1.9\", \"1.10\", \"1.11\", \"1.12\", \"1.14\", \"1.15\"], \"values\": [\"Canada\", \"Newfoundland and Labrador\", \"Prince Edward Island\", \"Nova Scotia\", \"New Brunswick\", \"Quebec\", \"Ontario\", \"Manitoba\", \"Saskatchewan\", \"Alberta\", \"British Columbia\", \"Yukon\", \"Northwest Territories\", \"Nunavut\"]}\n",
    "pick_members_2 = {\"names\": [\"2.2\", \"2.3\"], \"values\": [\"Salaried employees paid a fixed salary\", \"Employees paid by the hour\"]}\n",
    "filter_names = [\"Geography\", \"Type of employee\"]\n",
    "data_pipeline.data_pipeline_job(pid=pid, table_name=table_name, pick_members_1=pick_members_1, pick_members_2=pick_members_2, filter_names=filter_names)\n"
   ]
  },
  {
   "cell_type": "code",
   "execution_count": null,
   "metadata": {},
   "outputs": [],
   "source": []
  }
 ],
 "metadata": {
  "kernelspec": {
   "display_name": "base",
   "language": "python",
   "name": "python3"
  },
  "language_info": {
   "codemirror_mode": {
    "name": "ipython",
    "version": 3
   },
   "file_extension": ".py",
   "mimetype": "text/x-python",
   "name": "python",
   "nbconvert_exporter": "python",
   "pygments_lexer": "ipython3",
   "version": "3.9.12"
  },
  "orig_nbformat": 4,
  "vscode": {
   "interpreter": {
    "hash": "8d057af1a5c49b4bed786b95378487de8898a19ac88ffccdd8bd5a4534c5371a"
   }
  }
 },
 "nbformat": 4,
 "nbformat_minor": 2
}
