{
 "cells": [
  {
   "cell_type": "code",
   "execution_count": 1,
   "metadata": {},
   "outputs": [],
   "source": [
    "from datetime import date\n",
    "from dateutil.relativedelta import relativedelta\n",
    "from sqlalchemy import create_engine\n",
    "import os\n",
    "from dotenv import load_dotenv\n",
    "load_dotenv()\n",
    "import pandas as pd\n",
    "try:\n",
    "    from . import scrapper\n",
    "except:\n",
    "    import scrapper\n",
    "today = date.today()\n",
    "four_months_ago = date.today() - relativedelta(months=+4)"
   ]
  },
  {
   "cell_type": "code",
   "execution_count": 2,
   "metadata": {},
   "outputs": [],
   "source": [
    "pid=str(1410020101)\n",
    "pickMembers1=str(1.3)\n",
    "pickMembers2=str(2.1)\n",
    "startMonth=str(four_months_ago.month).zfill(2)\n",
    "startYear=str(four_months_ago.year)\n",
    "endMonth=str(today.month).zfill(2)\n",
    "endYear=str(today.year)\n",
    "referencePeriods = startYear + startMonth + \"01\" + \"%2C\" + endYear + endMonth + \"28\" \n",
    "table_name = \"monthly_employment_by_industry\"\n",
    "\n",
    "list_pick_members1 = [\"1.1\", \"1.2\", \"1.3\", \"1.4\", \"1.5\", \"1.6\", \"1.7\", \"1.8\", \"1.9\", \"1.10\", \"1.11\", \"1.12\", \"1.14\", \"1.15\"]\n",
    "list_pick_names1 = [\"Canada\", \"Newfoundland and Labrador\", \"Prince Edward Island\", \"Nova Scotia\", \"New Brunswick\", \"Quebec\", \"Ontario\", \"Manitoba\", \"Saskatchewan\", \"Alberta\", \"British Columbia\", \"Yukon\", \"Northwest Territories\", \"Nunavut\"]\n",
    "\n",
    "list_pick_members2 = [\"2.2\", \"2.3\"]\n",
    "list_pick_names2 = [\"Salaried employees paid a fixed salary\", \"Employees paid by the hour\"]"
   ]
  },
  {
   "cell_type": "code",
   "execution_count": 3,
   "metadata": {},
   "outputs": [],
   "source": [
    "pick_members_1_dict = dict(zip(list_pick_members1, list_pick_names1))\n",
    "pick_members_2_dict = dict(zip(list_pick_members2, list_pick_names2))\n",
    "result = [(x, y) for x in list_pick_members1 for y in list_pick_members2]"
   ]
  },
  {
   "cell_type": "code",
   "execution_count": 4,
   "metadata": {},
   "outputs": [
    {
     "name": "stdout",
     "output_type": "stream",
     "text": [
      "October 2022 Canada Salaried employees paid a fixed salary data already exists in monthly_employment_by_industry table\n",
      "October 2022 Canada Employees paid by the hour data already exists in monthly_employment_by_industry table\n",
      "October 2022 Newfoundland and Labrador Salaried employees paid a fixed salary data already exists in monthly_employment_by_industry table\n",
      "October 2022 Newfoundland and Labrador Employees paid by the hour data already exists in monthly_employment_by_industry table\n",
      "October 2022 Prince Edward Island Salaried employees paid a fixed salary data already exists in monthly_employment_by_industry table\n",
      "October 2022 Prince Edward Island Employees paid by the hour data already exists in monthly_employment_by_industry table\n",
      "October 2022 Nova Scotia Salaried employees paid a fixed salary data already exists in monthly_employment_by_industry table\n",
      "October 2022 Nova Scotia Employees paid by the hour data already exists in monthly_employment_by_industry table\n",
      "October 2022 New Brunswick Salaried employees paid a fixed salary data already exists in monthly_employment_by_industry table\n",
      "October 2022 New Brunswick Employees paid by the hour data already exists in monthly_employment_by_industry table\n",
      "October 2022 Quebec Salaried employees paid a fixed salary data already exists in monthly_employment_by_industry table\n",
      "October 2022 Quebec Employees paid by the hour data already exists in monthly_employment_by_industry table\n",
      "October 2022 Ontario Salaried employees paid a fixed salary data already exists in monthly_employment_by_industry table\n",
      "October 2022 Ontario Employees paid by the hour data already exists in monthly_employment_by_industry table\n",
      "October 2022 Manitoba Salaried employees paid a fixed salary data already exists in monthly_employment_by_industry table\n",
      "October 2022 Manitoba Employees paid by the hour data already exists in monthly_employment_by_industry table\n",
      "October 2022 Saskatchewan Salaried employees paid a fixed salary data already exists in monthly_employment_by_industry table\n",
      "October 2022 Saskatchewan Employees paid by the hour data already exists in monthly_employment_by_industry table\n",
      "October 2022 Alberta Salaried employees paid a fixed salary data already exists in monthly_employment_by_industry table\n",
      "October 2022 Alberta Employees paid by the hour data already exists in monthly_employment_by_industry table\n",
      "October 2022 British Columbia Salaried employees paid a fixed salary data already exists in monthly_employment_by_industry table\n",
      "October 2022 British Columbia Employees paid by the hour data already exists in monthly_employment_by_industry table\n",
      "October 2022 Yukon Salaried employees paid a fixed salary data already exists in monthly_employment_by_industry table\n",
      "October 2022 Yukon Employees paid by the hour data already exists in monthly_employment_by_industry table\n",
      "October 2022 Northwest Territories Salaried employees paid a fixed salary data already exists in monthly_employment_by_industry table\n",
      "October 2022 Northwest Territories Employees paid by the hour data already exists in monthly_employment_by_industry table\n",
      "October 2022 Nunavut Salaried employees paid a fixed salary data already exists in monthly_employment_by_industry table\n",
      "October 2022 Nunavut Employees paid by the hour data already exists in monthly_employment_by_industry table\n"
     ]
    }
   ],
   "source": [
    "filter_names = [\"Geography\", \"Type of employee\"]\n",
    "# Connecting to Planet Scale\n",
    "ssl_args = {'ssl_ca': \"/etc/ssl/cert.pem\"}\n",
    "\n",
    "conn_string = 'mysql+pymysql://' + os.getenv(\"USERNAME\") + ':' + os.getenv(\"PASSWORD\") + '@' + os.getenv(\"HOST\") + '/' + os.getenv(\"DATABASE\") \n",
    "\n",
    "for x, y in result:\n",
    "    geography=pick_members_1_dict[x]\n",
    "    type_of_employee=pick_members_2_dict[y]\n",
    "    month= today.strftime(\"%B\") + \" \" + str(today.year)\n",
    "    url = 'https://www150.statcan.gc.ca/t1/tbl1/en/tv.action?pid=' + pid + '&pickMembers%5B0%5D='+ x + '&pickMembers%5B1%5D='+ y + '&cubeTimeFrame.startMonth='+ startMonth + '&cubeTimeFrame.startYear=' + startYear + '&cubeTimeFrame.endMonth=' + endMonth +'&cubeTimeFrame.endYear=' + endYear + '&referencePeriods=' + referencePeriods\n",
    "    df = scrapper.simple_scrapper(url, filter_names).iloc[-1]\n",
    "    latest_month = df[\"month\"]\n",
    "    \n",
    "    query = \"SELECT * FROM \" + table_name +  \" WHERE geography = '\" + geography + \"' AND type_of_employee = '\" + type_of_employee + \"' AND month = '\" + latest_month + \"';\"\n",
    "\n",
    "    engine = create_engine(conn_string, connect_args=ssl_args)\n",
    "    with engine.begin() as engine:\n",
    "        sql_data = pd.read_sql_query(query, engine)\n",
    "        sql_latest_month = sql_data[\"month\"].values[0]\n",
    "        \n",
    "        if (sql_latest_month == latest_month):\n",
    "            print(latest_month + \" \" + geography + \" \"+ type_of_employee + \" data already exists in \" + table_name + \" table\")\n",
    "        else:\n",
    "            df.to_sql(table_name, engine, if_exists=\"append\", index=False)\n",
    "            print(\"Inserted data from \" + x + \" and \" + y + \" into \" + table_name + \" successfully\")\n"
   ]
  }
 ],
 "metadata": {
  "kernelspec": {
   "display_name": "base",
   "language": "python",
   "name": "python3"
  },
  "language_info": {
   "codemirror_mode": {
    "name": "ipython",
    "version": 3
   },
   "file_extension": ".py",
   "mimetype": "text/x-python",
   "name": "python",
   "nbconvert_exporter": "python",
   "pygments_lexer": "ipython3",
   "version": "3.9.12"
  },
  "orig_nbformat": 4,
  "vscode": {
   "interpreter": {
    "hash": "8d057af1a5c49b4bed786b95378487de8898a19ac88ffccdd8bd5a4534c5371a"
   }
  }
 },
 "nbformat": 4,
 "nbformat_minor": 2
}
